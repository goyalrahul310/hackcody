{
 "cells": [
  {
   "cell_type": "code",
   "execution_count": 12,
   "metadata": {},
   "outputs": [],
   "source": [
    "import pandas as pd\n",
    "import matplotlib.pyplot as plt\n",
    "import numpy as np\n"
   ]
  },
  {
   "cell_type": "code",
   "execution_count": 13,
   "metadata": {},
   "outputs": [],
   "source": [
    "x=pd.read_csv(\"BIHAR.csv\")\n"
   ]
  },
  {
   "cell_type": "code",
   "execution_count": 14,
   "metadata": {},
   "outputs": [],
   "source": [
    "columns_to_drop = [\"Unnamed: 0\"]\n",
    "data_clean = x.drop(columns_to_drop,axis = 1)\n",
    "x = data_clean"
   ]
  },
  {
   "cell_type": "code",
   "execution_count": 15,
   "metadata": {},
   "outputs": [
    {
     "data": {
      "image/png": "[encoded data removed]",
      "text/plain": [
       "<Figure size 432x288 with 1 Axes>"
      ]
     },
     "metadata": {
      "needs_background": "light"
     },
     "output_type": "display_data"
    }
   ],
   "source": [
    "y1=list(x[\"YEAR\"])\n",
    "x1=list(x[\"Jun-Sep\"])\n",
    "z1=list(x[\"JUN\"])\n",
    "w1=list(x[\"MAY\"])\n",
    "\n",
    "plt.plot(y1, x1,'|')\n",
    "plt.show()"
   ]
  },
  {
   "cell_type": "code",
   "execution_count": 16,
   "metadata": {},
   "outputs": [
    {
     "name": "stdout",
     "output_type": "stream",
     "text": [
      "    SUBDIVISION  YEAR   JAN   FEB   MAR   APR    MAY    JUN    JUL    AUG  \\\n",
      "0         BIHAR  1901  51.8  19.6  11.9   1.1   65.6   66.3  245.9  319.4   \n",
      "1         BIHAR  1902   4.6   0.7  24.3  17.3   66.3  118.2  361.0  225.5   \n",
      "2         BIHAR  1903   5.3   4.7   2.0   4.7   28.2  192.9  115.0  342.6   \n",
      "3         BIHAR  1904   6.3   1.7   3.5   5.3  118.7  191.6  394.4  351.3   \n",
      "4         BIHAR  1905  16.0  30.1  32.6  21.4   77.5   50.5  409.1  495.3   \n",
      "5         BIHAR  1906  14.4  56.9   8.6   0.9   44.7  191.3  366.2  430.1   \n",
      "6         BIHAR  1907   1.3  55.2  39.4  27.0   32.9  232.2  282.4  242.2   \n",
      "7         BIHAR  1908  14.7  38.6   6.1   2.2   36.7   94.0  202.3  167.3   \n",
      "8         BIHAR  1909   7.0   6.3   0.0  72.8   25.8  446.0  256.2  352.4   \n",
      "9         BIHAR  1910   2.4   4.8   6.6   5.7   51.5  279.5  365.1  328.8   \n",
      "10        BIHAR  1911   9.4   0.1  28.2  13.1   41.7  312.3  199.0  425.5   \n",
      "11        BIHAR  1912   5.5   8.5  23.9  25.4   62.7  146.8  362.4  302.9   \n",
      "12        BIHAR  1913   0.0  38.0  18.1   1.4  106.1  379.9  258.8  363.0   \n",
      "13        BIHAR  1914   0.2  22.7   8.0  29.0   77.0   84.4  269.1  460.4   \n",
      "14        BIHAR  1915   8.2  57.1  22.5   6.4   72.5  149.1  321.3  415.0   \n",
      "15        BIHAR  1916   0.6  16.5   0.3  25.3   25.1  270.3  445.6  325.2   \n",
      "16        BIHAR  1917   2.7  19.7   7.9   5.8  103.3  227.8  328.7  249.3   \n",
      "17        BIHAR  1918   0.6   0.1   1.8  29.5  105.4  251.6  240.3  519.2   \n",
      "18        BIHAR  1919  40.2   7.7   3.8  11.6   42.3  195.0  417.8  230.1   \n",
      "19        BIHAR  1920   0.0  19.2  31.0   2.6   28.8  108.9  361.6  228.5   \n",
      "20        BIHAR  1921  26.8   0.6   6.5  21.2   26.3  132.4  303.8  422.0   \n",
      "21        BIHAR  1922  12.2   4.6   0.0   9.6   22.0  345.8  427.3  363.5   \n",
      "22        BIHAR  1923   1.3  35.1   1.5  13.5   38.1  171.7  253.9  243.2   \n",
      "23        BIHAR  1924   2.5  12.7   1.8   8.8   14.8  170.6  514.0  295.7   \n",
      "24        BIHAR  1925   7.7   1.8   7.7  52.9   38.6  130.4  322.9  331.5   \n",
      "25        BIHAR  1926  16.3   0.6  29.7  12.8   47.0   48.1  451.5  276.0   \n",
      "26        BIHAR  1927  24.2  36.4  31.9   3.1   52.9  115.9  301.5  242.7   \n",
      "27        BIHAR  1928  41.2  21.5   0.1  18.3   54.3  208.0  377.2  272.9   \n",
      "28        BIHAR  1929  51.6   1.1  11.4  16.2   33.1  190.2  328.8  326.3   \n",
      "29        BIHAR  1930  11.6   7.6  13.6   6.6   28.6  144.6  298.2  247.8   \n",
      "..          ...   ...   ...   ...   ...   ...    ...    ...    ...    ...   \n",
      "85        BIHAR  1986   1.1  13.9   0.5  16.0   94.3  168.4  395.7  263.5   \n",
      "86        BIHAR  1987   0.7   3.7   5.4  37.7   40.1  143.6  452.0  539.8   \n",
      "87        BIHAR  1988   1.2  15.3  27.3  46.9   46.2  174.5  364.5  459.4   \n",
      "88        BIHAR  1989   8.9   8.7   6.9   0.2  100.3  152.9  446.0  171.9   \n",
      "89        BIHAR  1990   0.3  30.2  13.8  14.0   83.3  156.6  485.5  204.4   \n",
      "90        BIHAR  1991  14.5   6.3   7.9   8.9   31.2  176.2  179.7  324.2   \n",
      "91        BIHAR  1992   2.6   3.1   0.1   2.6   61.1   83.9  284.8  219.2   \n",
      "92        BIHAR  1993   9.4   4.0  24.5  24.5   51.1  154.8  209.1  357.3   \n",
      "93        BIHAR  1994  28.3  29.1   1.0   7.0   32.7  130.9  217.7  257.6   \n",
      "94        BIHAR  1995   6.8  11.6   2.0   0.1    6.7  162.9  227.5  335.7   \n",
      "95        BIHAR  1996  26.0  21.7   0.2   3.0   18.2  220.1  238.5  350.9   \n",
      "96        BIHAR  1997  10.5   1.1   2.9  29.3   42.2  211.0  463.9  287.6   \n",
      "97        BIHAR  1998   8.4  11.2  23.6  26.6   38.2   96.6  465.1  377.4   \n",
      "98        BIHAR  1999   0.1   0.2   0.4   3.8   83.6  265.1  380.8  347.5   \n",
      "99        BIHAR  2000   0.5  12.1   3.6  37.2   96.2  267.2  264.3  201.4   \n",
      "100       BIHAR  2001   1.0   0.5   3.0  12.6   98.4  224.4  224.7  225.9   \n",
      "101       BIHAR  2002  13.4  11.3   2.2  25.0   74.8  116.6  386.1  247.7   \n",
      "102       BIHAR  2003  13.2  39.7  10.2  21.9   41.4  230.9  356.8  310.6   \n",
      "103       BIHAR  2004  22.7   2.1   2.2  32.0   72.7  246.8  418.4  175.9   \n",
      "104       BIHAR  2005  13.9  14.3  12.1   7.7   28.6   82.5  300.0  309.1   \n",
      "105       BIHAR  2006   0.1   0.0   1.9  19.2   73.2  200.0  290.7  160.4   \n",
      "106       BIHAR  2007   0.2  34.2  25.4  20.3   94.4  170.4  549.4  340.6   \n",
      "107       BIHAR  2008  25.6   4.4   3.2  10.4   48.9  291.2  397.2  278.1   \n",
      "108       BIHAR  2009   0.3   0.4   1.1   2.9   98.5   67.7  213.6  298.9   \n",
      "109       BIHAR  2010   0.1   1.1   0.2   6.5   44.4   80.9  191.2  158.4   \n",
      "110       BIHAR  2011   4.2   7.7   9.2  23.9   74.5  211.0  241.1  278.7   \n",
      "111       BIHAR  2012  18.1   2.7   7.3  20.4   18.8   96.2  354.0  240.4   \n",
      "112       BIHAR  2013   5.1  22.6   0.6  32.3   89.5  183.3  182.0  213.6   \n",
      "113       BIHAR  2014  17.0  33.5   8.4   0.7  103.9  115.2  265.4  307.6   \n",
      "114       BIHAR  2015  12.8   1.8  27.2  38.7   39.5  122.1  231.5  287.0   \n",
      "\n",
      "     ...   NOV   DEC  ANNUAL  Jan-Feb  Mar-May  Jun-Sep  Oct-Dec  flood  \\\n",
      "0    ...   7.3   0.1   952.3     71.4     78.6    786.7     15.6      0   \n",
      "1    ...   1.1   0.0  1206.2      5.2    107.9   1063.4     29.6     -1   \n",
      "2    ...   0.1   0.0  1016.3     10.0     34.9    824.4    147.1     -1   \n",
      "3    ...  10.6   3.8  1269.5      7.9    127.4   1021.8    112.4     -1   \n",
      "4    ...   0.0   0.6  1498.5     46.1    131.4   1308.8     12.2     -1   \n",
      "5    ...   0.4   0.0  1265.1     71.3     54.2   1106.2     33.3     -1   \n",
      "6    ...   0.0   2.1  1126.4     56.5     99.3    963.8      6.9     -1   \n",
      "7    ...   0.0   0.3   737.5     53.3     45.0    613.6     25.6     -1   \n",
      "8    ...   0.0   5.6  1390.5     13.3     98.6   1229.9     48.7      1   \n",
      "9    ...  21.7   0.0  1398.5      7.2     63.8   1232.0     95.5     -1   \n",
      "10   ...  17.8   0.0  1449.2      9.5     83.0   1216.0    140.7      1   \n",
      "11   ...  72.6   0.0  1129.4     14.0    112.0    916.9     86.6     -1   \n",
      "12   ...   0.5  32.8  1529.7     38.0    125.5   1272.0     94.3      1   \n",
      "13   ...   0.0   0.6  1059.8     22.8    114.0    912.3     10.7      0   \n",
      "14   ...  36.7   0.3  1349.4     65.3    101.4   1070.4    112.4     -1   \n",
      "15   ...   0.4   0.0  1504.6     17.1     50.7   1306.3    130.6     -1   \n",
      "16   ...   0.0   0.2  1334.1     22.4    117.0   1077.9    116.7     -1   \n",
      "17   ...   0.1   0.0  1411.7      0.7    136.8   1265.5      8.7     -1   \n",
      "18   ...   0.0   0.7  1252.7     47.9     57.6   1087.9     59.4     -1   \n",
      "19   ...   0.0   0.0  1123.9     19.3     62.4   1036.6      5.6     -1   \n",
      "20   ...   0.0   0.0  1272.2     27.3     54.0   1153.9     37.0     -1   \n",
      "21   ...   0.7   6.5  1449.2     16.8     31.6   1377.9     22.9      1   \n",
      "22   ...   0.7   0.4   982.8     36.4     53.1    817.8     75.5     -1   \n",
      "23   ...  61.7   0.2  1456.3     15.3     25.5   1300.6    115.0     -1   \n",
      "24   ...  11.0   0.0  1191.5      9.6     99.2   1054.2     28.6     -1   \n",
      "25   ...   1.8   8.7  1121.8     16.9     89.6    987.2     28.1      0   \n",
      "26   ...  38.6   0.2  1100.2     60.6     87.9    891.5     60.3     -1   \n",
      "27   ...   0.9   7.6  1249.8     62.7     72.7    941.5    172.8     -1   \n",
      "28   ...   0.0  44.4  1359.2     52.7     60.6    970.1    275.8     -1   \n",
      "29   ...  24.0  10.4  1114.3     19.2     48.8    981.5     64.8     -1   \n",
      "..   ...   ...   ...     ...      ...      ...      ...      ...    ...   \n",
      "85   ...   1.3  22.1  1322.1     15.0    110.8   1048.6    147.6     -1   \n",
      "86   ...   2.7   2.3  1660.4      4.3     83.1   1515.1     57.9      1   \n",
      "87   ...   1.5  13.8  1337.4     16.4    120.3   1151.6     49.0     -1   \n",
      "88   ...   1.0  14.0  1269.9     17.5    107.4   1101.7     43.2     -1   \n",
      "89   ...   0.0   0.2  1239.4     30.6    111.1   1047.8     49.9     -1   \n",
      "90   ...   0.0  19.2  1045.7     20.7     48.0    950.5     26.5     -1   \n",
      "91   ...   1.4   0.4   797.6      5.8     63.8    673.8     54.2     -1   \n",
      "92   ...  19.3   0.1  1208.3     13.4    100.1   1041.2     53.6     -1   \n",
      "93   ...   4.4   1.2   969.4     57.5     40.7    832.8     38.5     -1   \n",
      "94   ...  44.4  23.8  1111.9     18.4      8.8   1005.1     79.6     -1   \n",
      "95   ...   0.0   0.0  1107.2     47.7     21.4    972.0     66.2     -1   \n",
      "96   ...  11.0  30.6  1303.7     11.6     74.4   1148.3     69.5     -1   \n",
      "97   ...  14.5   0.0  1332.5     19.6     88.4   1127.0     97.5     -1   \n",
      "98   ...   6.9   0.6  1402.7      0.3     87.8   1192.9    121.7     -1   \n",
      "99   ...   0.0   0.1  1207.0     12.7    137.0   1047.7      9.7     -1   \n",
      "100  ...   0.5   0.0  1247.0      1.5    114.0    949.8    181.8     -1   \n",
      "101  ...   1.4   0.7  1105.8     24.6    102.1    943.2     35.8     -1   \n",
      "102  ...   0.2   3.0  1353.9     52.9     73.5   1082.3    145.2     -1   \n",
      "103  ...   3.1   0.0  1147.8     24.8    107.0    956.4     59.5     -1   \n",
      "104  ...   0.0   0.2   907.8     28.2     48.5    796.7     34.5     -1   \n",
      "105  ...   2.9   1.6  1052.8      0.1     94.3    936.3     22.1     -1   \n",
      "106  ...   9.1   7.5  1600.2     34.3    140.2   1369.4     56.2     -1   \n",
      "107  ...   0.1   0.0  1197.7     30.0     62.6   1083.5     21.6     -1   \n",
      "108  ...   5.1   0.8   889.3      0.7    102.5    707.7     78.4     -1   \n",
      "109  ...   5.0   2.1   629.2      1.3     51.1    536.2     40.7     -1   \n",
      "110  ...   2.0   0.9  1097.1     11.8    107.6    964.8     12.9     -1   \n",
      "111  ...   6.4   0.0  1032.4     20.9     46.5    924.4     40.6     -1   \n",
      "112  ...   0.4   0.0  1069.9     27.7    122.4    722.2    197.5     -1   \n",
      "113  ...   0.0   1.2  1061.0     50.5    112.9    848.6     49.0     -1   \n",
      "114  ...   0.0   0.0   872.7     14.6    105.5    742.3     10.4     -1   \n",
      "\n",
      "        avgjune    sub  \n",
      "0     22.100000    0.7  \n",
      "1     39.400000   51.9  \n",
      "2     64.300000  164.7  \n",
      "3     63.866667   72.9  \n",
      "4     16.833333   27.0  \n",
      "5     63.766667  146.6  \n",
      "6     77.400000  199.3  \n",
      "7     31.333333   57.3  \n",
      "8    148.666667  420.2  \n",
      "9     93.166667  228.0  \n",
      "10   104.100000  270.6  \n",
      "11    48.933333   84.1  \n",
      "12   126.633333  273.8  \n",
      "13    28.133333    7.4  \n",
      "14    49.700000   76.6  \n",
      "15    90.100000  245.2  \n",
      "16    75.933333  124.5  \n",
      "17    83.866667  146.2  \n",
      "18    65.000000  152.7  \n",
      "19    36.300000   80.1  \n",
      "20    44.133333  106.1  \n",
      "21   115.266667  323.8  \n",
      "22    57.233333  133.6  \n",
      "23    56.866667  155.8  \n",
      "24    43.466667   91.8  \n",
      "25    16.033333    1.1  \n",
      "26    38.633333   63.0  \n",
      "27    69.333333  153.7  \n",
      "28    63.400000  157.1  \n",
      "29    48.200000  116.0  \n",
      "..          ...    ...  \n",
      "85    56.133333   74.1  \n",
      "86    47.866667  103.5  \n",
      "87    58.166667  128.3  \n",
      "88    50.966667   52.6  \n",
      "89    52.200000   73.3  \n",
      "90    58.733333  145.0  \n",
      "91    27.966667   22.8  \n",
      "92    51.600000  103.7  \n",
      "93    43.633333   98.2  \n",
      "94    54.300000  156.2  \n",
      "95    73.366667  201.9  \n",
      "96    70.333333  168.8  \n",
      "97    32.200000   58.4  \n",
      "98    88.366667  181.5  \n",
      "99    89.066667  171.0  \n",
      "100   74.800000  126.0  \n",
      "101   38.866667   41.8  \n",
      "102   76.966667  189.5  \n",
      "103   82.266667  174.1  \n",
      "104   27.500000   53.9  \n",
      "105   66.666667  126.8  \n",
      "106   56.800000   76.0  \n",
      "107   97.066667  242.3  \n",
      "108   22.566667   30.8  \n",
      "109   26.966667   36.5  \n",
      "110   70.333333  136.5  \n",
      "111   32.066667   77.4  \n",
      "112   61.100000   93.8  \n",
      "113   38.400000   11.3  \n",
      "114   40.700000   82.6  \n",
      "\n",
      "[115 rows x 22 columns]\n"
     ]
    }
   ],
   "source": [
    "flood=[]\n",
    "june=[]\n",
    "sub=[]\n",
    "#APPROAXIMATELY FINDING THE RAINFALL DATA FOR 10 DAYS FOR THE MONTH OF JUNE IN EVERY YEAR FROM 1901 TO 2015\n",
    "for k in range(0,len(x1)):\n",
    "    june.append(z1[k]/3)\n",
    "\n",
    "#FINDING THE INCREASE IN RAINFALL FROM THE MONTH OF MAY TO THE MONTH OF JUNE IN EVERY YEAR FROM 1901 TO 2015\n",
    "for k in range(0,len(x1)):\n",
    "    sub.append(abs(w1[k]-z1[k]))\n",
    "\n",
    "\n",
    "#CREATING A NEW COLOUMN WITH BINARY CLASSIFICATION DEPENDING IF THAT YEAR HAD FLOODED OR NOT, USING RAINFALL OF THAT YEAR AS THRESHOLD\n",
    "#flood,rain,heavy rain\n",
    "for i in range(0,len(x1)):\n",
    "    if x1[i]>1500 or june[i] > 100 or sub[i] > 250:\n",
    "        flood.append('1')\n",
    "    elif x1[i] < 100 or june[i] < 5 or sub[i] < 10:\n",
    "        flood.append('0')\n",
    "    else:\n",
    "        flood.append('-1')\n",
    "\n",
    "\n",
    "\n",
    "\n",
    "\n",
    "df = pd.DataFrame({'flood':flood})\n",
    "df1=pd.DataFrame({'per_10_days':june})\n",
    "\n",
    "x[\"flood\"]=flood\n",
    "x[\"avgjune\"]=june\n",
    "x[\"sub\"]=sub\n",
    "\n",
    "#SAVING THE NEW CSV FILE WITH THE NEW COLOUMNS\n",
    "x.to_csv(\"out1.csv\")\n",
    "print((x))\n",
    "        \n",
    "        \n",
    "      "
   ]
  },
  {
   "cell_type": "code",
   "execution_count": 17,
   "metadata": {},
   "outputs": [],
   "source": [
    "\n",
    "import scipy \n",
    "from scipy.stats import spearmanr\n",
    "\n",
    "from sklearn.ensemble import RandomForestClassifier\n",
    "from sklearn.preprocessing import scale\n",
    "from sklearn.linear_model import LogisticRegression\n",
    "from sklearn.model_selection import train_test_split\n",
    "from sklearn import preprocessing"
   ]
  },
  {
   "cell_type": "code",
   "execution_count": 18,
   "metadata": {},
   "outputs": [
    {
     "name": "stderr",
     "output_type": "stream",
     "text": [
      "c:\\users\\rahul\\appdata\\local\\programs\\python\\python36\\lib\\site-packages\\ipykernel_launcher.py:9: DeprecationWarning: \n",
      ".ix is deprecated. Please use\n",
      ".loc for label based indexing or\n",
      ".iloc for positional indexing\n",
      "\n",
      "See the documentation here:\n",
      "http://pandas.pydata.org/pandas-docs/stable/indexing.html#ix-indexer-is-deprecated\n",
      "  if __name__ == '__main__':\n",
      "c:\\users\\rahul\\appdata\\local\\programs\\python\\python36\\lib\\site-packages\\ipykernel_launcher.py:10: DeprecationWarning: \n",
      ".ix is deprecated. Please use\n",
      ".loc for label based indexing or\n",
      ".iloc for positional indexing\n",
      "\n",
      "See the documentation here:\n",
      "http://pandas.pydata.org/pandas-docs/stable/indexing.html#ix-indexer-is-deprecated\n",
      "  # Remove the CWD from sys.path while we load stuff.\n"
     ]
    }
   ],
   "source": [
    "#TAKING THE COLOUMNS WHICH ARE TO USED FOR TRAINING THE MODEL\n",
    "#16 MAR-MAY\n",
    "#20- AVG OF 10 DAYS JUNE \n",
    "#21- DIFFERENCE OF RAINFALL FROM MAY TO JUNE\n",
    "#19 - BINARY CLASS OF FLOOD- 0 OR 1 or -1\n",
    "#MORE DATA CAN BE ADDED FOR TRAINING, BY JUST ADDING MORE NUMBER OF COLOUMNS FROM THE CSV FILE\n",
    "\n",
    "#WE USE LOGISTIC REGRESSION FOR TRAINING\n",
    "X = x.ix[:,{16,20,21}].values\n",
    "y1=x.ix[:,19].values\n",
    "(X_train, X_test, Y_train, Y_test) = train_test_split(X, y1, random_state=0)\n"
   ]
  },
  {
   "cell_type": "code",
   "execution_count": 19,
   "metadata": {},
   "outputs": [
    {
     "name": "stdout",
     "output_type": "stream",
     "text": [
      "0.9304347826086956\n"
     ]
    },
    {
     "name": "stderr",
     "output_type": "stream",
     "text": [
      "c:\\users\\rahul\\appdata\\local\\programs\\python\\python36\\lib\\site-packages\\sklearn\\linear_model\\logistic.py:432: FutureWarning: Default solver will be changed to 'lbfgs' in 0.22. Specify a solver to silence this warning.\n",
      "  FutureWarning)\n",
      "c:\\users\\rahul\\appdata\\local\\programs\\python\\python36\\lib\\site-packages\\sklearn\\linear_model\\logistic.py:469: FutureWarning: Default multi_class will be changed to 'auto' in 0.22. Specify the multi_class option to silence this warning.\n",
      "  \"this warning.\", FutureWarning)\n"
     ]
    }
   ],
   "source": [
    "Lr=LogisticRegression()\n",
    "\n",
    "Lr.fit(X,y1)\n",
    "print(Lr.score(X,y1)) \n"
   ]
  },
  {
   "cell_type": "code",
   "execution_count": 20,
   "metadata": {},
   "outputs": [
    {
     "data": {
      "text/plain": [
       "array(['-1', '0', '1'], dtype=object)"
      ]
     },
     "execution_count": 20,
     "metadata": {},
     "output_type": "execute_result"
    }
   ],
   "source": [
    "np.unique(y1)"
   ]
  },
  {
   "cell_type": "code",
   "execution_count": 21,
   "metadata": {},
   "outputs": [],
   "source": [
    "import pickle\n",
    "Pkl_Filename = \".pkl\"  \n",
    "\n",
    "with open(Pkl_Filename, 'wb') as file:  \n",
    "    pickle.dump(Lr, file)"
   ]
  }
 ],
 "metadata": {
  "kernelspec": {
   "display_name": "Python 3",
   "language": "python",
   "name": "python3"
  },
  "language_info": {
   "codemirror_mode": {
    "name": "ipython",
    "version": 3
   },
   "file_extension": ".py",
   "mimetype": "text/x-python",
   "name": "python",
   "nbconvert_exporter": "python",
   "pygments_lexer": "ipython3",
   "version": "3.6.7"
  }
 },
 "nbformat": 4,
 "nbformat_minor": 2
}
