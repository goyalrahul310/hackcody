{
 "cells": [
  {
   "cell_type": "code",
   "execution_count": 1,
   "metadata": {},
   "outputs": [],
   "source": [
    "import pandas as pd\n",
    "import matplotlib.pyplot as plt\n",
    "import numpy as np\n"
   ]
  },
  {
   "cell_type": "code",
   "execution_count": 2,
   "metadata": {},
   "outputs": [],
   "source": [
    "x=pd.read_csv(\"GANGETIC WEST BENGAL.csv\")\n"
   ]
  },
  {
   "cell_type": "code",
   "execution_count": 3,
   "metadata": {},
   "outputs": [],
   "source": [
    "columns_to_drop = [\"Unnamed: 0\"]\n",
    "data_clean = x.drop(columns_to_drop,axis = 1)\n",
    "x = data_clean\n"
   ]
  },
  {
   "cell_type": "code",
   "execution_count": null,
   "metadata": {},
   "outputs": [],
   "source": []
  },
  {
   "cell_type": "code",
   "execution_count": 4,
   "metadata": {},
   "outputs": [
    {
     "data": {
      "image/png": "[encoded data removed]",
      "text/plain": [
       "<Figure size 432x288 with 1 Axes>"
      ]
     },
     "metadata": {
      "needs_background": "light"
     },
     "output_type": "display_data"
    }
   ],
   "source": [
    "y1=list(x[\"YEAR\"])\n",
    "x1=list(x[\"Jun-Sep\"])\n",
    "z1=list(x[\"JUN\"])\n",
    "w1=list(x[\"MAY\"])\n",
    "\n",
    "plt.plot(y1, x1,'|')\n",
    "plt.show()"
   ]
  },
  {
   "cell_type": "code",
   "execution_count": 5,
   "metadata": {},
   "outputs": [
    {
     "name": "stdout",
     "output_type": "stream",
     "text": [
      "              SUBDIVISION  YEAR   JAN    FEB    MAR    APR    MAY    JUN  \\\n",
      "0    GANGETIC WEST BENGAL  1901  37.1   58.4    3.9   64.1  121.7  198.0   \n",
      "1    GANGETIC WEST BENGAL  1902   0.0    1.2   44.2  103.8  161.6  140.9   \n",
      "2    GANGETIC WEST BENGAL  1903  17.5   24.6   37.3   30.6   78.5  201.7   \n",
      "3    GANGETIC WEST BENGAL  1904   0.1   23.9   35.6   17.5  160.2  286.7   \n",
      "4    GANGETIC WEST BENGAL  1905  30.9   49.6   84.7   84.9  156.8   70.9   \n",
      "5    GANGETIC WEST BENGAL  1906  46.8  123.6   53.3    1.1   81.3  172.0   \n",
      "6    GANGETIC WEST BENGAL  1907   0.7   24.2   94.9   39.7   92.3  347.6   \n",
      "7    GANGETIC WEST BENGAL  1908  27.0    5.1    1.9    5.2  109.9  380.4   \n",
      "8    GANGETIC WEST BENGAL  1909   5.6    6.4    0.6  145.2   97.2  335.0   \n",
      "9    GANGETIC WEST BENGAL  1910  23.0   10.8    9.4   48.4  101.7  241.8   \n",
      "10   GANGETIC WEST BENGAL  1911   1.2    2.9   42.8   35.3  110.4  276.6   \n",
      "11   GANGETIC WEST BENGAL  1912   1.8   23.6   71.6   48.9  109.3  199.4   \n",
      "12   GANGETIC WEST BENGAL  1913   4.1  110.7   35.1   12.8  157.0  512.0   \n",
      "13   GANGETIC WEST BENGAL  1914   0.0   31.0   21.8   56.4  230.9  192.8   \n",
      "14   GANGETIC WEST BENGAL  1915   6.1    9.1   79.5   26.5  122.5  224.5   \n",
      "15   GANGETIC WEST BENGAL  1916   0.6    2.1    0.5   58.3   42.3  378.5   \n",
      "16   GANGETIC WEST BENGAL  1917   0.4   33.6   19.7   29.4  171.4  366.8   \n",
      "17   GANGETIC WEST BENGAL  1918   1.3    0.0   22.9   81.1  177.8  374.6   \n",
      "18   GANGETIC WEST BENGAL  1919  41.9   19.3   10.5   61.8  125.3  306.0   \n",
      "19   GANGETIC WEST BENGAL  1920   0.4   36.7  152.5   14.6   77.0  127.8   \n",
      "20   GANGETIC WEST BENGAL  1921  36.5   10.1   13.2   57.4   53.3  238.4   \n",
      "21   GANGETIC WEST BENGAL  1922   7.4    3.1    1.2   22.0   72.3  553.0   \n",
      "22   GANGETIC WEST BENGAL  1923   0.1   92.2    8.2   22.1   71.5  154.3   \n",
      "23   GANGETIC WEST BENGAL  1924   8.2    5.3    0.3   38.5   64.9  181.2   \n",
      "24   GANGETIC WEST BENGAL  1925  10.7   14.8   28.4   78.9  106.2  171.8   \n",
      "25   GANGETIC WEST BENGAL  1926  26.4    9.5  111.3   25.6   85.5  103.7   \n",
      "26   GANGETIC WEST BENGAL  1927  31.6   37.4    9.1   22.3   96.7  227.7   \n",
      "27   GANGETIC WEST BENGAL  1928  12.8    3.2    1.6   51.3  110.9  427.0   \n",
      "28   GANGETIC WEST BENGAL  1929  42.8   13.2   38.8   41.8   52.5  208.1   \n",
      "29   GANGETIC WEST BENGAL  1930   1.8   12.1   19.9   18.6   86.3  186.9   \n",
      "..                    ...   ...   ...    ...    ...    ...    ...    ...   \n",
      "85   GANGETIC WEST BENGAL  1986   9.6    6.3    7.1   48.5  146.1  227.9   \n",
      "86   GANGETIC WEST BENGAL  1987   1.8    7.1   18.9   76.6   91.7  146.9   \n",
      "87   GANGETIC WEST BENGAL  1988   1.7   22.9   53.5   45.3  109.3  508.8   \n",
      "88   GANGETIC WEST BENGAL  1989   0.4    4.9    6.1    5.4  173.6  318.2   \n",
      "89   GANGETIC WEST BENGAL  1990   2.2   62.2  119.0   79.3  147.6  268.2   \n",
      "90   GANGETIC WEST BENGAL  1991  27.8   11.4   41.7   34.5   66.1  257.4   \n",
      "91   GANGETIC WEST BENGAL  1992  14.0   49.5    0.1   25.0  127.0  239.9   \n",
      "92   GANGETIC WEST BENGAL  1993   0.3    3.8   40.8   78.6  116.2  328.5   \n",
      "93   GANGETIC WEST BENGAL  1994  23.8   48.8    7.3   63.7   98.0  310.1   \n",
      "94   GANGETIC WEST BENGAL  1995  20.2   30.1    8.7   10.1  202.9  185.4   \n",
      "95   GANGETIC WEST BENGAL  1996  11.0   13.2   10.4   39.2   67.5  336.0   \n",
      "96   GANGETIC WEST BENGAL  1997  18.7   23.6   44.2  101.8   98.2  219.6   \n",
      "97   GANGETIC WEST BENGAL  1998  52.9   31.0  128.8   53.0   87.1  154.3   \n",
      "98   GANGETIC WEST BENGAL  1999   0.1    0.7    1.6   10.5  217.9  268.8   \n",
      "99   GANGETIC WEST BENGAL  2000   9.5   57.9    3.8   54.0  215.0  205.6   \n",
      "100  GANGETIC WEST BENGAL  2001   0.3    1.9   32.8   49.4  175.8  384.2   \n",
      "101  GANGETIC WEST BENGAL  2002  26.3    1.5   26.6   77.4  114.1  347.7   \n",
      "102  GANGETIC WEST BENGAL  2003   0.5   11.7   70.0   36.3   81.9  280.5   \n",
      "103  GANGETIC WEST BENGAL  2004   3.3    1.6   14.9   62.8   72.9  287.5   \n",
      "104  GANGETIC WEST BENGAL  2005  26.8   11.8   82.8   41.8   82.4  200.1   \n",
      "105  GANGETIC WEST BENGAL  2006   0.8    3.0   10.6   60.5  120.8  221.0   \n",
      "106  GANGETIC WEST BENGAL  2007   3.9   56.2   39.3   38.7   98.7  226.3   \n",
      "107  GANGETIC WEST BENGAL  2008  49.4   12.4   11.5   42.8   94.4  414.5   \n",
      "108  GANGETIC WEST BENGAL  2009   2.4    1.4   17.9    2.6  229.0   69.7   \n",
      "109  GANGETIC WEST BENGAL  2010   0.2   10.3    8.0   15.9  127.5  189.3   \n",
      "110  GANGETIC WEST BENGAL  2011   2.5    2.7   40.5   75.0  132.6  434.5   \n",
      "111  GANGETIC WEST BENGAL  2012  40.7   15.3    4.4   57.7   44.2  146.6   \n",
      "112  GANGETIC WEST BENGAL  2013   2.5   10.0    4.8   45.6  195.9  233.4   \n",
      "113  GANGETIC WEST BENGAL  2014   0.9   42.2   19.9    1.9  124.4  193.6   \n",
      "114  GANGETIC WEST BENGAL  2015  12.9    5.5   19.3   88.7   57.6  247.2   \n",
      "\n",
      "       JUL    AUG  ...    NOV   DEC  ANNUAL  Jan-Feb  Mar-May  Jun-Sep  \\\n",
      "0    280.8  275.7  ...   83.4   0.0  1487.6     95.5    189.7   1068.0   \n",
      "1    347.8  264.8  ...   10.4   9.9  1347.7      1.2    309.6    984.0   \n",
      "2    179.6  277.6  ...    8.2   0.0  1354.3     42.1    146.4    959.6   \n",
      "3    435.3  241.7  ...    4.1   0.1  1383.1     24.0    213.3   1106.4   \n",
      "4    525.5  263.6  ...    0.0   5.2  1666.9     80.5    326.3   1147.6   \n",
      "5    307.1  264.6  ...   12.5   0.0  1395.6    170.4    135.7    936.9   \n",
      "6    217.5  249.9  ...    0.0  24.7  1337.0     24.8    226.9   1047.3   \n",
      "7    383.5  290.4  ...    0.2   0.0  1400.0     32.1    117.1   1229.2   \n",
      "8    232.4  504.3  ...    1.3  21.4  1697.8     12.1    242.9   1344.8   \n",
      "9    319.4  250.9  ...    0.2   0.0  1385.9     33.8    159.4   1021.8   \n",
      "10   168.4  261.5  ...   12.3   0.0  1264.9      4.1    188.5    966.7   \n",
      "11   325.3  255.0  ...   78.7   0.0  1347.4     25.3    229.8    914.0   \n",
      "12   367.7  290.3  ...   18.5   9.8  1826.8    114.8    204.9   1356.3   \n",
      "13   400.8  218.8  ...    0.0  16.4  1383.9     31.0    309.2    998.8   \n",
      "14   228.5  236.7  ...   59.0   0.3  1310.3     15.1    228.5    919.0   \n",
      "15   148.9  320.5  ...   78.2   0.1  1600.5      2.7    101.2   1131.6   \n",
      "16   321.8  259.9  ...    9.7   0.0  1775.8     34.0    220.6   1153.2   \n",
      "17   194.2  366.8  ...    0.3   3.0  1395.4      1.4    281.8   1104.8   \n",
      "18   299.0  385.9  ...   35.7   0.0  1482.2     61.3    197.6   1139.8   \n",
      "19   380.3  294.4  ...    2.5   0.0  1363.6     37.1    244.1    973.7   \n",
      "20   279.6  382.1  ...    0.0   0.0  1300.2     46.6    123.9   1077.8   \n",
      "21   269.7  400.8  ...    4.7   1.4  1655.6     10.5     95.4   1467.7   \n",
      "22   330.8  405.6  ...   16.9   1.2  1285.2     92.3    101.8   1000.8   \n",
      "23   308.0  260.7  ...   62.5   0.0  1266.5     13.5    103.7   1004.7   \n",
      "24   305.7  211.2  ...    3.1   0.0  1273.6     25.5    213.5    847.0   \n",
      "25   579.3  431.3  ...    0.9   9.1  1705.4     35.9    222.4   1358.1   \n",
      "26   317.4  224.6  ...    3.7   0.0  1190.5     69.0    128.1    931.2   \n",
      "27   428.1  325.1  ...    1.7   0.1  1625.0     15.9    163.8   1293.5   \n",
      "28   398.6  297.3  ...    0.0  31.4  1557.3     56.0    133.1   1072.3   \n",
      "29   410.7  307.3  ...   95.1   1.1  1380.8     13.8    124.8   1105.0   \n",
      "..     ...    ...  ...    ...   ...     ...      ...      ...      ...   \n",
      "85   313.4  181.2  ...  106.4  20.6  1791.0     15.9    201.7   1244.8   \n",
      "86   427.4  473.0  ...   43.7   7.7  1591.5      8.9    187.2   1309.9   \n",
      "87   299.9  292.6  ...   39.5   0.5  1681.5     24.6    208.1   1308.4   \n",
      "88   414.5  291.4  ...    3.7  18.3  1626.3      5.3    185.1   1308.3   \n",
      "89   520.2  236.3  ...   47.9   3.5  1961.3     64.4    346.0   1325.4   \n",
      "90   381.2  331.3  ...   15.6  67.5  1609.1     39.2    142.2   1219.0   \n",
      "91   407.6  254.1  ...    4.4   0.2  1414.6     63.5    152.1   1128.3   \n",
      "92   280.0  357.7  ...   38.2   0.0  1759.7      4.0    235.6   1387.6   \n",
      "93   426.1  294.4  ...    9.6   0.0  1530.8     72.6    169.0   1196.8   \n",
      "94   401.1  413.0  ...  160.5   6.2  1936.0     50.3    221.7   1411.0   \n",
      "95   251.3  472.0  ...    4.1   0.0  1504.0     24.2    117.0   1202.7   \n",
      "96   437.3  387.3  ...   30.5  24.9  1657.7     42.3    244.1   1288.1   \n",
      "97   295.2  265.7  ...   77.1   0.0  1632.7     83.9    268.9   1011.5   \n",
      "98   405.2  375.4  ...   13.7   0.0  1957.0      0.8    230.0   1517.2   \n",
      "99   341.5  178.4  ...    1.6   0.1  1572.1     67.4    272.8   1153.9   \n",
      "100  269.3  248.7  ...    8.8   0.0  1540.6      2.2    258.0   1108.0   \n",
      "101  281.6  289.3  ...   50.9   0.1  1613.3     27.8    218.1   1244.9   \n",
      "102  253.4  239.3  ...    8.9  17.7  1496.7     12.2    188.2    928.2   \n",
      "103  250.7  389.9  ...    0.0   0.8  1569.4      4.9    150.7   1192.3   \n",
      "104  354.5  226.7  ...    0.0   4.9  1604.9     38.6    207.0   1002.6   \n",
      "105  486.6  320.3  ...    5.9   0.3  1660.5      3.9    191.9   1408.8   \n",
      "106  610.1  328.0  ...   24.6   0.0  1941.4     60.1    176.7   1624.2   \n",
      "107  338.4  252.2  ...    0.0   0.2  1555.2     61.8    148.8   1272.3   \n",
      "108  277.6  332.7  ...    9.4   0.3  1315.0      3.8    249.5    974.6   \n",
      "109  196.3  192.6  ...    6.3  29.7  1064.8     10.5    151.3    770.7   \n",
      "110  219.9  443.2  ...    1.3   1.4  1686.5      5.2    248.1   1393.6   \n",
      "111  315.0  261.4  ...   47.0  24.6  1268.0     56.0    106.3    969.9   \n",
      "112  263.2  401.4  ...    0.0   0.0  1764.1     12.5    246.3   1152.0   \n",
      "113  298.7  292.6  ...    0.1   0.6  1261.4     43.1    146.2   1014.4   \n",
      "114  633.1  260.6  ...    2.3   6.3  1530.3     18.4    165.6   1304.9   \n",
      "\n",
      "     Oct-Dec  flood     avgjune    sub  \n",
      "0      134.4     -1   66.000000   76.3  \n",
      "1       52.9      0   46.966667   20.7  \n",
      "2      206.2     -1   67.233333  123.2  \n",
      "3       39.3     -1   95.566667  126.5  \n",
      "4      112.6      0   23.633333   85.9  \n",
      "5      152.6     -1   57.333333   90.7  \n",
      "6       38.0      1  115.866667  255.3  \n",
      "7       21.5      1  126.800000  270.5  \n",
      "8       98.0      1  111.666667  237.8  \n",
      "9      170.9     -1   80.600000  140.1  \n",
      "10     105.5     -1   92.200000  166.2  \n",
      "11     178.2     -1   66.466667   90.1  \n",
      "12     150.9      1  170.666667  355.0  \n",
      "13      44.9      0   64.266667   38.1  \n",
      "14     147.6     -1   74.833333  102.0  \n",
      "15     365.0      1  126.166667  336.2  \n",
      "16     368.0      1  122.266667  195.4  \n",
      "17       7.5      1  124.866667  196.8  \n",
      "18      83.6     -1  102.000000  180.7  \n",
      "19     108.7     -1   42.600000   50.8  \n",
      "20      51.9     -1   79.466667  185.1  \n",
      "21      81.9      1  184.333333  480.7  \n",
      "22      90.3     -1   51.433333   82.8  \n",
      "23     144.6     -1   60.400000  116.3  \n",
      "24     187.6      0   57.266667   65.6  \n",
      "25      89.0      0   34.566667   18.2  \n",
      "26      62.3     -1   75.900000  131.0  \n",
      "27     151.8      1  142.333333  316.1  \n",
      "28     296.0     -1   69.366667  155.6  \n",
      "29     137.3     -1   62.300000  100.6  \n",
      "..       ...    ...         ...    ...  \n",
      "85     328.5     -1   75.966667   81.8  \n",
      "86      85.5     -1   48.966667   55.2  \n",
      "87     140.4      1  169.600000  399.5  \n",
      "88     127.5     -1  106.066667  144.6  \n",
      "89     225.6     -1   89.400000  120.6  \n",
      "90     208.7     -1   85.800000  191.3  \n",
      "91      70.7     -1   79.966667  112.9  \n",
      "92     132.5     -1  109.500000  212.3  \n",
      "93      92.5     -1  103.366667  212.1  \n",
      "94     253.1      1   61.800000   17.5  \n",
      "95     160.0      1  112.000000  268.5  \n",
      "96      83.1     -1   73.200000  121.4  \n",
      "97     268.4     -1   51.433333   67.2  \n",
      "98     209.0      1   89.600000   50.9  \n",
      "99      77.9      0   68.533333    9.4  \n",
      "100    172.4      1  128.066667  208.4  \n",
      "101    122.5      1  115.900000  233.6  \n",
      "102    368.1     -1   93.500000  198.6  \n",
      "103    221.5     -1   95.833333  214.6  \n",
      "104    356.6     -1   66.700000  117.7  \n",
      "105     55.9      1   73.666667  100.2  \n",
      "106     80.4      1   75.433333  127.6  \n",
      "107     72.4      1  138.166667  320.1  \n",
      "108     87.1      0   23.233333  159.3  \n",
      "109    132.2      0   63.100000   61.8  \n",
      "110     39.6      1  144.833333  301.9  \n",
      "111    135.8     -1   48.866667  102.4  \n",
      "112    353.3      0   77.800000   37.5  \n",
      "113     57.7     -1   64.533333   69.2  \n",
      "114     41.3     -1   82.400000  189.6  \n",
      "\n",
      "[115 rows x 22 columns]\n"
     ]
    }
   ],
   "source": [
    "flood=[]\n",
    "june=[]\n",
    "sub=[]\n",
    "#APPROAXIMATELY FINDING THE RAINFALL DATA FOR 10 DAYS FOR THE MONTH OF JUNE IN EVERY YEAR FROM 1901 TO 2015\n",
    "for k in range(0,len(x1)):\n",
    "    june.append(z1[k]/3)\n",
    "\n",
    "#FINDING THE INCREASE IN RAINFALL FROM THE MONTH OF MAY TO THE MONTH OF JUNE IN EVERY YEAR FROM 1901 TO 2015\n",
    "for k in range(0,len(x1)):\n",
    "    sub.append(abs(w1[k]-z1[k]))\n",
    "\n",
    "\n",
    "#CREATING A NEW COLOUMN WITH BINARY CLASSIFICATION DEPENDING IF THAT YEAR HAD FLOODED OR NOT, USING RAINFALL OF THAT YEAR AS THRESHOLD\n",
    "#flood,rain,heavy rain\n",
    "for i in range(0,len(x1)):\n",
    "    if x1[i]>1400 or june[i] > 110 or sub[i] > 280:\n",
    "        flood.append('1')\n",
    "    elif x1[i] < 900  or june[i] < 40  or sub[i] < 50:\n",
    "        flood.append('0')\n",
    "    else:\n",
    "        flood.append('-1')\n",
    "\n",
    "\n",
    "\n",
    "\n",
    "\n",
    "df = pd.DataFrame({'flood':flood})\n",
    "df1=pd.DataFrame({'per_10_days':june})\n",
    "\n",
    "x[\"flood\"]=flood\n",
    "x[\"avgjune\"]=june\n",
    "x[\"sub\"]=sub\n",
    "\n",
    "#SAVING THE NEW CSV FILE WITH THE NEW COLOUMNS\n",
    "x.to_csv(\"out1.csv\")\n",
    "print((x))\n",
    "        \n",
    "        \n",
    "      "
   ]
  },
  {
   "cell_type": "code",
   "execution_count": 6,
   "metadata": {},
   "outputs": [],
   "source": [
    "\n",
    "import scipy \n",
    "from scipy.stats import spearmanr\n",
    "\n",
    "from sklearn.ensemble import RandomForestClassifier\n",
    "from sklearn.preprocessing import scale\n",
    "from sklearn.linear_model import LogisticRegression\n",
    "from sklearn.model_selection import train_test_split\n",
    "from sklearn import preprocessing"
   ]
  },
  {
   "cell_type": "code",
   "execution_count": 7,
   "metadata": {},
   "outputs": [
    {
     "name": "stderr",
     "output_type": "stream",
     "text": [
      "c:\\users\\rahul\\appdata\\local\\programs\\python\\python36\\lib\\site-packages\\ipykernel_launcher.py:9: DeprecationWarning: \n",
      ".ix is deprecated. Please use\n",
      ".loc for label based indexing or\n",
      ".iloc for positional indexing\n",
      "\n",
      "See the documentation here:\n",
      "http://pandas.pydata.org/pandas-docs/stable/indexing.html#ix-indexer-is-deprecated\n",
      "  if __name__ == '__main__':\n",
      "c:\\users\\rahul\\appdata\\local\\programs\\python\\python36\\lib\\site-packages\\ipykernel_launcher.py:10: DeprecationWarning: \n",
      ".ix is deprecated. Please use\n",
      ".loc for label based indexing or\n",
      ".iloc for positional indexing\n",
      "\n",
      "See the documentation here:\n",
      "http://pandas.pydata.org/pandas-docs/stable/indexing.html#ix-indexer-is-deprecated\n",
      "  # Remove the CWD from sys.path while we load stuff.\n"
     ]
    }
   ],
   "source": [
    "#TAKING THE COLOUMNS WHICH ARE TO USED FOR TRAINING THE MODEL\n",
    "#16 MAR-MAY\n",
    "#20- AVG OF 10 DAYS JUNE \n",
    "#21- DIFFERENCE OF RAINFALL FROM MAY TO JUNE\n",
    "#19 - BINARY CLASS OF FLOOD- 0 OR 1 or -1\n",
    "#MORE DATA CAN BE ADDED FOR TRAINING, BY JUST ADDING MORE NUMBER OF COLOUMNS FROM THE CSV FILE\n",
    "\n",
    "#WE USE LOGISTIC REGRESSION FOR TRAINING\n",
    "X = x.ix[:,{16,20,21}].values\n",
    "y1=x.ix[:,19].values\n",
    "(X_train, X_test, Y_train, Y_test) = train_test_split(X, y1, random_state=0)\n"
   ]
  },
  {
   "cell_type": "code",
   "execution_count": 8,
   "metadata": {},
   "outputs": [
    {
     "name": "stdout",
     "output_type": "stream",
     "text": [
      "0.8275862068965517\n"
     ]
    },
    {
     "name": "stderr",
     "output_type": "stream",
     "text": [
      "c:\\users\\rahul\\appdata\\local\\programs\\python\\python36\\lib\\site-packages\\sklearn\\linear_model\\logistic.py:432: FutureWarning: Default solver will be changed to 'lbfgs' in 0.22. Specify a solver to silence this warning.\n",
      "  FutureWarning)\n",
      "c:\\users\\rahul\\appdata\\local\\programs\\python\\python36\\lib\\site-packages\\sklearn\\linear_model\\logistic.py:469: FutureWarning: Default multi_class will be changed to 'auto' in 0.22. Specify the multi_class option to silence this warning.\n",
      "  \"this warning.\", FutureWarning)\n"
     ]
    }
   ],
   "source": [
    "Lr=LogisticRegression()\n",
    "\n",
    "Lr.fit(X,y1)\n",
    "print(Lr.score(X_test,Y_test)) \n"
   ]
  },
  {
   "cell_type": "code",
   "execution_count": 9,
   "metadata": {},
   "outputs": [
    {
     "data": {
      "text/plain": [
       "array(['-1', '0', '1'], dtype=object)"
      ]
     },
     "execution_count": 9,
     "metadata": {},
     "output_type": "execute_result"
    }
   ],
   "source": [
    "np.unique(y1)"
   ]
  },
  {
   "cell_type": "code",
   "execution_count": 10,
   "metadata": {},
   "outputs": [],
   "source": [
    "import pickle\n",
    "Pkl_Filename = \"west bengal.pkl\"  \n",
    "\n",
    "with open(Pkl_Filename, 'wb') as file:  \n",
    "    pickle.dump(Lr, file)"
   ]
  },
  {
   "cell_type": "code",
   "execution_count": null,
   "metadata": {},
   "outputs": [],
   "source": []
  },
  {
   "cell_type": "code",
   "execution_count": null,
   "metadata": {},
   "outputs": [],
   "source": []
  }
 ],
 "metadata": {
  "kernelspec": {
   "display_name": "Python 3",
   "language": "python",
   "name": "python3"
  },
  "language_info": {
   "codemirror_mode": {
    "name": "ipython",
    "version": 3
   },
   "file_extension": ".py",
   "mimetype": "text/x-python",
   "name": "python",
   "nbconvert_exporter": "python",
   "pygments_lexer": "ipython3",
   "version": "3.6.7"
  }
 },
 "nbformat": 4,
 "nbformat_minor": 2
}
