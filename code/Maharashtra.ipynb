{
 "cells": [
  {
   "cell_type": "code",
   "execution_count": 1,
   "metadata": {},
   "outputs": [],
   "source": [
    "import pandas as pd\n",
    "import matplotlib.pyplot as plt\n",
    "import numpy as np\n"
   ]
  },
  {
   "cell_type": "code",
   "execution_count": 2,
   "metadata": {},
   "outputs": [],
   "source": [
    "x=pd.read_csv(\"KONKAN & GOA.csv\")\n"
   ]
  },
  {
   "cell_type": "code",
   "execution_count": 3,
   "metadata": {},
   "outputs": [],
   "source": [
    "columns_to_drop = [\"Unnamed: 0\"]\n",
    "data_clean = x.drop(columns_to_drop,axis = 1)\n",
    "x = data_clean\n"
   ]
  },
  {
   "cell_type": "code",
   "execution_count": null,
   "metadata": {},
   "outputs": [],
   "source": []
  },
  {
   "cell_type": "code",
   "execution_count": 4,
   "metadata": {},
   "outputs": [
    {
     "data": {
      "image/png": "[encoded data removed]",
      "text/plain": [
       "<Figure size 432x288 with 1 Axes>"
      ]
     },
     "metadata": {
      "needs_background": "light"
     },
     "output_type": "display_data"
    }
   ],
   "source": [
    "y1=list(x[\"YEAR\"])\n",
    "x1=list(x[\"Jun-Sep\"])\n",
    "z1=list(x[\"JUN\"])\n",
    "w1=list(x[\"MAY\"])\n",
    "\n",
    "plt.plot(y1, x1,'|')\n",
    "plt.show()"
   ]
  },
  {
   "cell_type": "code",
   "execution_count": 5,
   "metadata": {},
   "outputs": [
    {
     "name": "stdout",
     "output_type": "stream",
     "text": [
      "      SUBDIVISION  YEAR   JAN   FEB   MAR   APR    MAY     JUN     JUL  \\\n",
      "0    KONKAN & GOA  1901   5.6   0.1   0.4  35.7   19.9   746.1  1075.5   \n",
      "1    KONKAN & GOA  1902   0.3   0.0   0.0   0.4    7.6   428.2   943.6   \n",
      "2    KONKAN & GOA  1903   0.0   0.0   0.1   0.0  201.1   470.5  1298.6   \n",
      "3    KONKAN & GOA  1904   0.0   0.1   6.6   6.3    4.6   975.8   771.7   \n",
      "4    KONKAN & GOA  1905   0.1   0.1   0.0   0.4    8.6   293.7   770.6   \n",
      "5    KONKAN & GOA  1906   5.0   0.9   0.0   0.0    2.9   547.4  1090.9   \n",
      "6    KONKAN & GOA  1907   1.7   1.0   0.0  20.1    0.0   583.1  1170.9   \n",
      "7    KONKAN & GOA  1908   0.9   1.1   0.0   2.3    1.0   440.0  1391.8   \n",
      "8    KONKAN & GOA  1909   0.1   0.0   0.1   0.3    7.8   759.5  1301.8   \n",
      "9    KONKAN & GOA  1910   0.0   0.0   0.3   0.0    2.6   832.4   407.8   \n",
      "10   KONKAN & GOA  1911   0.2   0.0   3.2   0.0   17.1   543.6   585.6   \n",
      "11   KONKAN & GOA  1912   0.0   0.0   0.0   4.1   28.9   671.0  1242.9   \n",
      "12   KONKAN & GOA  1913   0.0   0.0   0.0   1.3   18.7   897.9  1074.3   \n",
      "13   KONKAN & GOA  1914   0.0   0.8   0.0   0.8    1.6   706.9  1370.3   \n",
      "14   KONKAN & GOA  1915   0.0   4.7   5.9  10.2    7.7   845.1   734.4   \n",
      "15   KONKAN & GOA  1916   0.0   0.0   0.0   2.4   39.9   832.7   765.6   \n",
      "16   KONKAN & GOA  1917   0.0  18.4   1.2   0.3   17.5   807.6   675.1   \n",
      "17   KONKAN & GOA  1918   0.1   0.0   3.3   0.1  345.4   334.1   424.7   \n",
      "18   KONKAN & GOA  1919   2.5   0.0   0.0   0.0    9.6   643.6  1120.2   \n",
      "19   KONKAN & GOA  1920  14.0   1.2   0.0  12.0    5.1   424.9   824.0   \n",
      "20   KONKAN & GOA  1921   0.3   0.0   0.1   4.8    0.0   658.1  1102.5   \n",
      "21   KONKAN & GOA  1922   0.0   0.0   0.0   6.3   13.4   774.3  1290.6   \n",
      "22   KONKAN & GOA  1923   0.0   0.5   4.7   1.3    7.8   259.4  1643.9   \n",
      "23   KONKAN & GOA  1924   0.0   0.0   0.1   0.1    0.4   522.5   932.2   \n",
      "24   KONKAN & GOA  1925   0.1   0.0   7.4   5.2  121.0   800.9   655.5   \n",
      "25   KONKAN & GOA  1926  31.8   0.0   0.0   0.0    1.5   306.1  1203.6   \n",
      "26   KONKAN & GOA  1927   0.0   0.2   0.2   0.0    5.5   785.6  1030.3   \n",
      "27   KONKAN & GOA  1928   0.0   1.3   0.2   3.1    1.1   657.0  1159.4   \n",
      "28   KONKAN & GOA  1929   1.0   0.0   3.2  14.9    6.2   773.8   767.6   \n",
      "29   KONKAN & GOA  1930   0.0   0.2   0.1   0.3   12.5  1024.9   690.5   \n",
      "..            ...   ...   ...   ...   ...   ...    ...     ...     ...   \n",
      "85   KONKAN & GOA  1986   0.0   0.0   0.0   0.1    1.0   777.2   543.2   \n",
      "86   KONKAN & GOA  1987   0.0   0.0   0.0   0.6    9.0   612.0   832.2   \n",
      "87   KONKAN & GOA  1988   0.0   0.0   0.0   4.3    1.3   506.1  1432.1   \n",
      "88   KONKAN & GOA  1989   0.0   0.0   0.6   1.0    4.0   733.1   943.0   \n",
      "89   KONKAN & GOA  1990   0.0   0.0   0.1   0.0  193.9   802.1   873.7   \n",
      "90   KONKAN & GOA  1991   0.0   0.0   0.0   6.4   14.7   759.2  1461.4   \n",
      "91   KONKAN & GOA  1992   0.0   0.0   0.0   0.0    6.2   493.0   822.9   \n",
      "92   KONKAN & GOA  1993   0.0   0.0   0.6   0.1   11.4   587.7  1394.1   \n",
      "93   KONKAN & GOA  1994   1.3   0.0   0.0  12.5   11.7   784.8  1168.5   \n",
      "94   KONKAN & GOA  1995   3.5   0.0   0.0   3.3   15.3   345.9  1171.2   \n",
      "95   KONKAN & GOA  1996   0.1   0.0   0.0   0.6    1.4   535.7  1232.0   \n",
      "96   KONKAN & GOA  1997   2.6   0.0   0.8   1.8    0.2   757.9  1072.6   \n",
      "97   KONKAN & GOA  1998   0.0   0.0   0.0   0.0    9.7   671.3   909.1   \n",
      "98   KONKAN & GOA  1999   0.0   0.0   0.0   0.0   67.1   978.7  1105.1   \n",
      "99   KONKAN & GOA  2000   1.2   0.0   0.0   0.9  190.3   739.4  1200.4   \n",
      "100  KONKAN & GOA  2001   5.6   0.0   0.0   2.8   59.6   540.1   873.4   \n",
      "101  KONKAN & GOA  2002   0.0   0.0   0.1   2.8    9.4   942.0   452.8   \n",
      "102  KONKAN & GOA  2003   0.5   0.6   0.8   1.2   11.2   865.3  1013.9   \n",
      "103  KONKAN & GOA  2004   0.0   0.0   0.0  10.4   46.9   678.6   902.3   \n",
      "104  KONKAN & GOA  2005   1.3   0.1   1.9   4.0    9.8   730.2  1340.9   \n",
      "105  KONKAN & GOA  2006   0.0   0.0   9.9   0.0  211.8   683.1  1066.2   \n",
      "106  KONKAN & GOA  2007   0.0   0.0   0.1   3.3   33.4   939.3   841.3   \n",
      "107  KONKAN & GOA  2008   0.0   0.1  31.5   0.3   11.1   798.5   766.6   \n",
      "108  KONKAN & GOA  2009   0.0   0.0   0.3   0.1    5.6   330.6  1271.2   \n",
      "109  KONKAN & GOA  2010   2.7   0.0   0.0   1.5    8.2   680.8  1405.3   \n",
      "110  KONKAN & GOA  2011   0.0   0.0   0.0   3.4    1.1   857.0  1384.1   \n",
      "111  KONKAN & GOA  2012   0.0   0.0   0.0   0.6    1.1   633.0   928.5   \n",
      "112  KONKAN & GOA  2013   1.8   5.4   0.1   0.1   18.5  1028.3  1478.5   \n",
      "113  KONKAN & GOA  2014   1.3   5.3   1.8   0.7   21.3   238.2  1293.2   \n",
      "114  KONKAN & GOA  2015   2.7   0.0  36.8   3.6   11.3   764.0   526.5   \n",
      "\n",
      "        AUG  ...    NOV   DEC  ANNUAL  Jan-Feb  Mar-May  Jun-Sep  Oct-Dec  \\\n",
      "0     748.0  ...    5.4   0.1  2792.9      5.7     56.0   2687.0     44.1   \n",
      "1     515.1  ...   42.7  48.0  2673.9      0.3      8.0   2500.6    165.0   \n",
      "2     673.9  ...   12.4   1.7  3084.3      0.0    201.2   2728.2    154.9   \n",
      "3     321.3  ...    0.0   0.0  2393.7      0.1     17.5   2285.8     90.3   \n",
      "4     305.5  ...   12.1   0.0  1682.8      0.2      9.0   1578.1     95.5   \n",
      "5     506.7  ...   10.2   0.7  2418.9      5.9      2.9   2367.5     42.6   \n",
      "6     811.5  ...    1.9   0.9  2766.6      2.8     20.1   2729.5     14.2   \n",
      "7     649.8  ...    1.6   0.0  2735.5      2.0      3.3   2704.0     26.2   \n",
      "8     381.5  ...    7.4   0.1  2860.5      0.1      8.2   2827.2     25.0   \n",
      "9     763.2  ...   41.7   0.0  2544.0      0.0      2.9   2378.0    163.1   \n",
      "10    750.3  ...   21.4   3.6  2134.7      0.2     20.4   2055.0     59.1   \n",
      "11    541.7  ...   97.5   0.0  2793.3      0.0     33.0   2590.8    169.5   \n",
      "12    321.8  ...    1.6   0.0  2617.4      0.0     20.0   2488.4    109.1   \n",
      "13    797.6  ...   11.2   3.6  3464.6      0.8      2.5   3424.7     36.6   \n",
      "14    355.1  ...   12.8   0.3  2525.8      4.8     23.8   2346.7    150.5   \n",
      "15    851.1  ...   86.1   0.0  3402.6      0.0     42.3   3069.5    290.8   \n",
      "16    902.5  ...   32.6   0.0  3430.9     18.4     19.0   2952.9    440.6   \n",
      "17    578.1  ...   52.0   0.0  1867.3      0.1    348.8   1460.4     57.9   \n",
      "18    643.5  ...   20.6  10.5  2851.7      2.5      9.6   2684.0    155.6   \n",
      "19    360.8  ...    2.9   0.0  1924.1     15.3     17.2   1836.4     55.3   \n",
      "20    611.8  ...   13.7   0.0  2899.2      0.3      5.0   2822.7     71.2   \n",
      "21    339.3  ...   90.0   1.2  2817.5      0.0     19.7   2665.3    132.5   \n",
      "22    480.7  ...    0.1   0.0  2770.5      0.5     13.8   2747.7      8.4   \n",
      "23    641.7  ...    3.8   0.0  2444.3      0.0      0.6   2420.9     22.8   \n",
      "24    501.5  ...   18.6   0.0  2305.1      0.1    133.6   2078.3     93.2   \n",
      "25   1149.6  ...    1.1   0.0  3165.9     31.8      1.5   3092.3     40.3   \n",
      "26    416.6  ...   87.3   1.6  2747.0      0.2      5.7   2473.4    267.6   \n",
      "27    939.9  ...    7.7   0.4  3172.4      1.3      4.4   3020.8    145.9   \n",
      "28    516.0  ...   11.2  12.1  2509.4      1.0     24.3   2308.3    175.8   \n",
      "29    427.3  ...   10.6   0.6  2845.7      0.2     12.8   2685.3    147.4   \n",
      "..      ...  ...    ...   ...     ...      ...      ...      ...      ...   \n",
      "85    670.9  ...   53.6   1.0  2127.7      0.0      1.1   2056.3     70.3   \n",
      "86    835.6  ...   20.2   9.3  2635.0      0.0      9.6   2429.1    196.3   \n",
      "87    664.4  ...    0.0   0.0  3293.0      0.0      5.6   3220.6     66.9   \n",
      "88    704.9  ...    3.6   0.0  2771.5      0.0      5.6   2681.5     84.4   \n",
      "89   1164.2  ...   20.8   0.0  3568.0      0.0    194.0   3163.2    210.8   \n",
      "90    598.8  ...    0.8   0.3  2954.6      0.0     21.2   2912.1     21.4   \n",
      "91   1093.1  ...    2.8   0.0  2840.4      0.0      6.2   2752.4     81.8   \n",
      "92    648.7  ...    9.4   4.0  3480.9      0.0     12.1   3227.8    241.0   \n",
      "93    654.4  ...    2.2   0.0  3179.8      1.3     24.2   3014.1    140.1   \n",
      "94    606.5  ...    4.4   0.0  2766.0      3.5     18.6   2543.0    200.9   \n",
      "95    594.6  ...    1.2   0.9  2920.7      0.1      1.9   2670.8    248.0   \n",
      "96    847.6  ...   47.1  59.6  3027.2      2.6      2.8   2893.4    128.5   \n",
      "97    758.3  ...   44.3   0.1  3234.7      0.0      9.7   2900.6    324.4   \n",
      "98    283.7  ...    0.7   0.0  2912.1      0.0     67.1   2664.5    180.4   \n",
      "99    789.5  ...    1.6   6.2  3133.2      1.2    191.2   2841.2     99.7   \n",
      "100   611.3  ...    3.1   0.0  2395.4      5.6     62.4   2232.7     94.7   \n",
      "101   834.5  ...    3.0   0.3  2537.2      0.0     12.3   2446.4     78.6   \n",
      "102   593.7  ...    1.9   0.0  2842.3      1.2     13.2   2771.6     56.3   \n",
      "103  1011.5  ...   10.2   0.0  2985.9      0.0     57.2   2885.5     43.1   \n",
      "104   772.2  ...    0.0   0.1  3615.7      1.4     15.6   3522.2     76.6   \n",
      "105   886.4  ...   22.5   0.0  3482.2      0.0    221.7   3035.6    224.9   \n",
      "106   980.2  ...   16.0   0.1  3468.5      0.0     36.9   3369.9     61.7   \n",
      "107   833.1  ...    0.9   2.4  3053.1      0.1     43.0   2949.3     60.6   \n",
      "108   292.9  ...  121.0   0.0  2716.6      0.0      5.9   2282.2    428.5   \n",
      "109   850.0  ...  106.7   1.4  3778.1      2.7      9.7   3467.4    298.3   \n",
      "110   987.9  ...    3.1   0.0  3825.2      0.0      4.5   3697.3    123.5   \n",
      "111   762.5  ...    2.3   0.0  3018.4      0.0      1.7   2839.3    177.4   \n",
      "112   497.6  ...    2.1   1.5  3524.0      7.3     18.7   3345.2    152.8   \n",
      "113   658.0  ...    8.0  11.7  2757.5      6.6     23.8   2608.8    118.4   \n",
      "114   377.3  ...   27.3   0.0  2082.0      2.7     51.7   1908.7    118.8   \n",
      "\n",
      "     flood     avgjune     sub  \n",
      "0        1  248.700000   726.2  \n",
      "1        1  142.733333   420.6  \n",
      "2        1  156.833333   269.4  \n",
      "3        1  325.266667   971.2  \n",
      "4        0   97.900000   285.1  \n",
      "5       -1  182.466667   544.5  \n",
      "6        1  194.366667   583.1  \n",
      "7        1  146.666667   439.0  \n",
      "8        1  253.166667   751.7  \n",
      "9       -1  277.466667   829.8  \n",
      "10      -1  181.200000   526.5  \n",
      "11       1  223.666667   642.1  \n",
      "12      -1  299.300000   879.2  \n",
      "13       1  235.633333   705.3  \n",
      "14      -1  281.700000   837.4  \n",
      "15       1  277.566667   792.8  \n",
      "16       1  269.200000   790.1  \n",
      "17       0  111.366667    11.3  \n",
      "18       1  214.533333   634.0  \n",
      "19      -1  141.633333   419.8  \n",
      "20       1  219.366667   658.1  \n",
      "21       1  258.100000   760.9  \n",
      "22       1   86.466667   251.6  \n",
      "23      -1  174.166667   522.1  \n",
      "24      -1  266.966667   679.9  \n",
      "25       1  102.033333   304.6  \n",
      "26      -1  261.866667   780.1  \n",
      "27       1  219.000000   655.9  \n",
      "28      -1  257.933333   767.6  \n",
      "29       1  341.633333  1012.4  \n",
      "..     ...         ...     ...  \n",
      "85      -1  259.066667   776.2  \n",
      "86      -1  204.000000   603.0  \n",
      "87       1  168.700000   504.8  \n",
      "88       1  244.366667   729.1  \n",
      "89       1  267.366667   608.2  \n",
      "90       1  253.066667   744.5  \n",
      "91       1  164.333333   486.8  \n",
      "92       1  195.900000   576.3  \n",
      "93       1  261.600000   773.1  \n",
      "94       1  115.300000   330.6  \n",
      "95       1  178.566667   534.3  \n",
      "96       1  252.633333   757.7  \n",
      "97       1  223.766667   661.6  \n",
      "98       1  326.233333   911.6  \n",
      "99       1  246.466667   549.1  \n",
      "100     -1  180.033333   480.5  \n",
      "101      1  314.000000   932.6  \n",
      "102      1  288.433333   854.1  \n",
      "103      1  226.200000   631.7  \n",
      "104      1  243.400000   720.4  \n",
      "105      1  227.700000   471.3  \n",
      "106      1  313.100000   905.9  \n",
      "107      1  266.166667   787.4  \n",
      "108     -1  110.200000   325.0  \n",
      "109      1  226.933333   672.6  \n",
      "110      1  285.666667   855.9  \n",
      "111      1  211.000000   631.9  \n",
      "112      1  342.766667  1009.8  \n",
      "113      1   79.400000   216.9  \n",
      "114     -1  254.666667   752.7  \n",
      "\n",
      "[115 rows x 22 columns]\n"
     ]
    }
   ],
   "source": [
    "flood=[]\n",
    "june=[]\n",
    "sub=[]\n",
    "#APPROAXIMATELY FINDING THE RAINFALL DATA FOR 10 DAYS FOR THE MONTH OF JUNE IN EVERY YEAR FROM 1901 TO 2015\n",
    "for k in range(0,len(x1)):\n",
    "    june.append(z1[k]/3)\n",
    "\n",
    "#FINDING THE INCREASE IN RAINFALL FROM THE MONTH OF MAY TO THE MONTH OF JUNE IN EVERY YEAR FROM 1901 TO 2015\n",
    "for k in range(0,len(x1)):\n",
    "    sub.append(abs(w1[k]-z1[k]))\n",
    "\n",
    "\n",
    "#CREATING A NEW COLOUMN WITH BINARY CLASSIFICATION DEPENDING IF THAT YEAR HAD FLOODED OR NOT, USING RAINFALL OF THAT YEAR AS THRESHOLD\n",
    "#flood,rain,heavy rain\n",
    "for i in range(0,len(x1)):\n",
    "    if x1[i]>2500 or june[i] > 300 or sub[i] > 1000:\n",
    "        flood.append('1')\n",
    "    elif x1[i] < 1500  or june[i] < 100  or sub[i] < 300:\n",
    "        flood.append('0')\n",
    "    else:\n",
    "        flood.append('-1')\n",
    "\n",
    "\n",
    "\n",
    "\n",
    "\n",
    "df = pd.DataFrame({'flood':flood})\n",
    "df1=pd.DataFrame({'per_10_days':june})\n",
    "\n",
    "x[\"flood\"]=flood\n",
    "x[\"avgjune\"]=june\n",
    "x[\"sub\"]=sub\n",
    "\n",
    "#SAVING THE NEW CSV FILE WITH THE NEW COLOUMNS\n",
    "x.to_csv(\"out1.csv\")\n",
    "print((x))\n",
    "        \n",
    "        \n",
    "      "
   ]
  },
  {
   "cell_type": "code",
   "execution_count": 6,
   "metadata": {},
   "outputs": [],
   "source": [
    "\n",
    "import scipy \n",
    "from scipy.stats import spearmanr\n",
    "\n",
    "from sklearn.ensemble import RandomForestClassifier\n",
    "from sklearn.preprocessing import scale\n",
    "from sklearn.linear_model import LogisticRegression\n",
    "from sklearn.model_selection import train_test_split\n",
    "from sklearn import preprocessing"
   ]
  },
  {
   "cell_type": "code",
   "execution_count": 7,
   "metadata": {},
   "outputs": [
    {
     "name": "stderr",
     "output_type": "stream",
     "text": [
      "c:\\users\\rahul\\appdata\\local\\programs\\python\\python36\\lib\\site-packages\\ipykernel_launcher.py:9: DeprecationWarning: \n",
      ".ix is deprecated. Please use\n",
      ".loc for label based indexing or\n",
      ".iloc for positional indexing\n",
      "\n",
      "See the documentation here:\n",
      "http://pandas.pydata.org/pandas-docs/stable/indexing.html#ix-indexer-is-deprecated\n",
      "  if __name__ == '__main__':\n",
      "c:\\users\\rahul\\appdata\\local\\programs\\python\\python36\\lib\\site-packages\\ipykernel_launcher.py:10: DeprecationWarning: \n",
      ".ix is deprecated. Please use\n",
      ".loc for label based indexing or\n",
      ".iloc for positional indexing\n",
      "\n",
      "See the documentation here:\n",
      "http://pandas.pydata.org/pandas-docs/stable/indexing.html#ix-indexer-is-deprecated\n",
      "  # Remove the CWD from sys.path while we load stuff.\n"
     ]
    }
   ],
   "source": [
    "#TAKING THE COLOUMNS WHICH ARE TO USED FOR TRAINING THE MODEL\n",
    "#16 MAR-MAY\n",
    "#20- AVG OF 10 DAYS JUNE \n",
    "#21- DIFFERENCE OF RAINFALL FROM MAY TO JUNE\n",
    "#19 - BINARY CLASS OF FLOOD- 0 OR 1 or -1\n",
    "#MORE DATA CAN BE ADDED FOR TRAINING, BY JUST ADDING MORE NUMBER OF COLOUMNS FROM THE CSV FILE\n",
    "\n",
    "#WE USE LOGISTIC REGRESSION FOR TRAINING\n",
    "X = x.ix[:,{16,20,21}].values\n",
    "y1=x.ix[:,19].values\n",
    "(X_train, X_test, Y_train, Y_test) = train_test_split(X, y1, random_state=0)\n"
   ]
  },
  {
   "cell_type": "code",
   "execution_count": 8,
   "metadata": {},
   "outputs": [
    {
     "name": "stdout",
     "output_type": "stream",
     "text": [
      "0.7241379310344828\n"
     ]
    },
    {
     "name": "stderr",
     "output_type": "stream",
     "text": [
      "c:\\users\\rahul\\appdata\\local\\programs\\python\\python36\\lib\\site-packages\\sklearn\\linear_model\\logistic.py:432: FutureWarning: Default solver will be changed to 'lbfgs' in 0.22. Specify a solver to silence this warning.\n",
      "  FutureWarning)\n",
      "c:\\users\\rahul\\appdata\\local\\programs\\python\\python36\\lib\\site-packages\\sklearn\\linear_model\\logistic.py:469: FutureWarning: Default multi_class will be changed to 'auto' in 0.22. Specify the multi_class option to silence this warning.\n",
      "  \"this warning.\", FutureWarning)\n"
     ]
    }
   ],
   "source": [
    "Lr=LogisticRegression()\n",
    "\n",
    "Lr.fit(X,y1)\n",
    "print(Lr.score(X_test,Y_test)) \n"
   ]
  },
  {
   "cell_type": "code",
   "execution_count": 9,
   "metadata": {},
   "outputs": [
    {
     "data": {
      "text/plain": [
       "array(['-1', '0', '1'], dtype=object)"
      ]
     },
     "execution_count": 9,
     "metadata": {},
     "output_type": "execute_result"
    }
   ],
   "source": [
    "np.unique(y1)"
   ]
  },
  {
   "cell_type": "code",
   "execution_count": 10,
   "metadata": {},
   "outputs": [],
   "source": [
    "import pickle\n",
    "Pkl_Filename = \"Goa.pkl\"  \n",
    "\n",
    "with open(Pkl_Filename, 'wb') as file:  \n",
    "    pickle.dump(Lr, file)"
   ]
  },
  {
   "cell_type": "code",
   "execution_count": null,
   "metadata": {},
   "outputs": [],
   "source": []
  },
  {
   "cell_type": "code",
   "execution_count": null,
   "metadata": {},
   "outputs": [],
   "source": []
  }
 ],
 "metadata": {
  "kernelspec": {
   "display_name": "Python 3",
   "language": "python",
   "name": "python3"
  },
  "language_info": {
   "codemirror_mode": {
    "name": "ipython",
    "version": 3
   },
   "file_extension": ".py",
   "mimetype": "text/x-python",
   "name": "python",
   "nbconvert_exporter": "python",
   "pygments_lexer": "ipython3",
   "version": "3.6.7"
  }
 },
 "nbformat": 4,
 "nbformat_minor": 2
}
