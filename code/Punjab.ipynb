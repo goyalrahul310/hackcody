{
 "cells": [
  {
   "cell_type": "code",
   "execution_count": 24,
   "metadata": {},
   "outputs": [],
   "source": [
    "import pandas as pd\n",
    "import matplotlib.pyplot as plt\n",
    "import numpy as np\n"
   ]
  },
  {
   "cell_type": "code",
   "execution_count": 25,
   "metadata": {},
   "outputs": [],
   "source": [
    "x=pd.read_csv(\"MADHYA MAHARASHTRA.csv\")\n"
   ]
  },
  {
   "cell_type": "code",
   "execution_count": 26,
   "metadata": {},
   "outputs": [],
   "source": [
    "columns_to_drop = [\"Unnamed: 0\"]\n",
    "data_clean = x.drop(columns_to_drop,axis = 1)\n",
    "x = data_clean\n"
   ]
  },
  {
   "cell_type": "code",
   "execution_count": null,
   "metadata": {},
   "outputs": [],
   "source": []
  },
  {
   "cell_type": "code",
   "execution_count": 27,
   "metadata": {},
   "outputs": [
    {
     "data": {
      "image/png": "[encoded data removed]",
      "text/plain": [
       "<Figure size 432x288 with 1 Axes>"
      ]
     },
     "metadata": {
      "needs_background": "light"
     },
     "output_type": "display_data"
    }
   ],
   "source": [
    "y1=list(x[\"YEAR\"])\n",
    "x1=list(x[\"Jun-Sep\"])\n",
    "z1=list(x[\"JUN\"])\n",
    "w1=list(x[\"MAY\"])\n",
    "\n",
    "plt.plot(y1, x1,'|')\n",
    "plt.show()"
   ]
  },
  {
   "cell_type": "code",
   "execution_count": 28,
   "metadata": {},
   "outputs": [
    {
     "name": "stdout",
     "output_type": "stream",
     "text": [
      "            SUBDIVISION  YEAR   JAN   FEB   MAR   APR   MAY    JUN    JUL  \\\n",
      "0    MADHYA MAHARASHTRA  1901  18.8   0.6   7.7  36.6  30.4  107.7  215.9   \n",
      "1    MADHYA MAHARASHTRA  1902   7.8   0.0   0.1   5.0   9.8  102.6  210.9   \n",
      "2    MADHYA MAHARASHTRA  1903   7.6   0.0   0.0   3.2  77.2   86.3  281.8   \n",
      "3    MADHYA MAHARASHTRA  1904   0.4   4.7   1.7   3.0  18.7  114.6  126.5   \n",
      "4    MADHYA MAHARASHTRA  1905   0.0   1.2   0.0   2.3  23.6   65.0  252.8   \n",
      "5    MADHYA MAHARASHTRA  1906  10.5   0.8   0.0   0.1   9.3  184.8  199.3   \n",
      "6    MADHYA MAHARASHTRA  1907   0.5   3.7   1.5  54.5   0.6  118.0  262.3   \n",
      "7    MADHYA MAHARASHTRA  1908   0.3   0.0   4.7   6.3   5.8   85.1  263.0   \n",
      "8    MADHYA MAHARASHTRA  1909   1.2   0.1   0.7   1.4  38.5  179.6  247.0   \n",
      "9    MADHYA MAHARASHTRA  1910   0.0   0.0   1.0   0.0  13.1  204.6  172.0   \n",
      "10   MADHYA MAHARASHTRA  1911   2.0   0.1   2.2   0.2  12.0  136.9  137.7   \n",
      "11   MADHYA MAHARASHTRA  1912   0.0   0.4   0.0   9.0  20.9   88.3  307.6   \n",
      "12   MADHYA MAHARASHTRA  1913   0.0   0.2   0.0   8.4  34.0  259.9  210.8   \n",
      "13   MADHYA MAHARASHTRA  1914   0.0   0.4   0.3   3.7  15.2  188.3  348.8   \n",
      "14   MADHYA MAHARASHTRA  1915   8.6   6.6  13.9  21.9  12.1  195.2  225.4   \n",
      "15   MADHYA MAHARASHTRA  1916   0.0   0.2   0.4   4.9  55.2  144.8  257.6   \n",
      "16   MADHYA MAHARASHTRA  1917   0.1  20.0   4.8   7.7  15.6  174.3  120.6   \n",
      "17   MADHYA MAHARASHTRA  1918   5.1   0.6   2.6   1.0  90.5   51.7   68.4   \n",
      "18   MADHYA MAHARASHTRA  1919   3.0   0.5   1.2   2.7  38.2  173.5  198.9   \n",
      "19   MADHYA MAHARASHTRA  1920  41.5   0.2   0.1   9.7   8.0  120.7  185.9   \n",
      "20   MADHYA MAHARASHTRA  1921   1.6   0.0   0.3   9.0   1.1  105.8  291.6   \n",
      "21   MADHYA MAHARASHTRA  1922  18.3   2.6   0.0  16.7  27.4  161.7  218.2   \n",
      "22   MADHYA MAHARASHTRA  1923   1.9   1.7  32.7   8.7  10.5   30.7  290.0   \n",
      "23   MADHYA MAHARASHTRA  1924   2.1   0.0   2.8  19.7   4.6   80.3  173.8   \n",
      "24   MADHYA MAHARASHTRA  1925   0.0   0.0   3.1   1.5  38.9  177.7  152.0   \n",
      "25   MADHYA MAHARASHTRA  1926  34.3   0.6   0.1   0.2  11.2   85.9  230.6   \n",
      "26   MADHYA MAHARASHTRA  1927   0.0   1.0   0.9   4.6   9.3  184.9  318.7   \n",
      "27   MADHYA MAHARASHTRA  1928   0.1  10.3   3.7   8.0   0.3  143.3  217.7   \n",
      "28   MADHYA MAHARASHTRA  1929   1.0   6.4   2.0  37.1   6.4  155.9  168.2   \n",
      "29   MADHYA MAHARASHTRA  1930   0.0   0.0   0.7   3.2  29.8  178.1  233.7   \n",
      "..                  ...   ...   ...   ...   ...   ...   ...    ...    ...   \n",
      "85   MADHYA MAHARASHTRA  1986   1.6   2.7   0.3   2.4   8.6  200.8  126.1   \n",
      "86   MADHYA MAHARASHTRA  1987   1.7   3.9   2.5   4.0  36.6  130.3  166.7   \n",
      "87   MADHYA MAHARASHTRA  1988   0.0   0.1   0.1  18.8   7.6  111.0  314.1   \n",
      "88   MADHYA MAHARASHTRA  1989   0.0   0.0  16.3   3.3  11.8  153.5  271.9   \n",
      "89   MADHYA MAHARASHTRA  1990   2.6   0.2   0.0   0.2  78.2  150.5  227.3   \n",
      "90   MADHYA MAHARASHTRA  1991   0.0   0.1   0.3  12.2  19.2  293.8  318.1   \n",
      "91   MADHYA MAHARASHTRA  1992   0.0   0.0   0.0   2.1   5.1  146.9  190.6   \n",
      "92   MADHYA MAHARASHTRA  1993   0.0   0.1   3.0   5.7  11.5  147.6  289.2   \n",
      "93   MADHYA MAHARASHTRA  1994   3.1   0.1   0.6  21.8  23.8  253.2  332.9   \n",
      "94   MADHYA MAHARASHTRA  1995  20.0   0.2   5.4   6.7  24.0   63.6  253.1   \n",
      "95   MADHYA MAHARASHTRA  1996   0.1   0.0   0.1   4.1   5.7  162.3  281.0   \n",
      "96   MADHYA MAHARASHTRA  1997   3.3   0.0   2.4  15.3   6.5  180.2  239.9   \n",
      "97   MADHYA MAHARASHTRA  1998   0.2   0.0   0.6   2.5  18.4  147.1  264.1   \n",
      "98   MADHYA MAHARASHTRA  1999   0.0   6.7   0.0   0.1  39.2  225.3  262.5   \n",
      "99   MADHYA MAHARASHTRA  2000   0.4   1.1   0.2   1.7  18.5  173.0  198.7   \n",
      "100  MADHYA MAHARASHTRA  2001   4.4   0.0   0.3   4.7   8.4  157.9  179.3   \n",
      "101  MADHYA MAHARASHTRA  2002   1.7   3.1   1.0  13.0  14.4  251.9   95.6   \n",
      "102  MADHYA MAHARASHTRA  2003   0.8   2.2   1.5   5.7  15.1  210.8  208.7   \n",
      "103  MADHYA MAHARASHTRA  2004   0.1   0.1   0.0   4.7  49.0  215.9  174.2   \n",
      "104  MADHYA MAHARASHTRA  2005   3.6   0.4   1.6  11.1   7.8  240.5  361.2   \n",
      "105  MADHYA MAHARASHTRA  2006   0.0   0.0   7.1   0.2  42.3  205.3  416.4   \n",
      "106  MADHYA MAHARASHTRA  2007   1.3   0.4   0.0   2.1   5.5  266.9  293.5   \n",
      "107  MADHYA MAHARASHTRA  2008   0.0   0.0  18.1   0.6   1.1  107.9  157.9   \n",
      "108  MADHYA MAHARASHTRA  2009   0.0   1.7   0.8   0.4   7.7   68.9  329.8   \n",
      "109  MADHYA MAHARASHTRA  2010   2.9   0.1   0.9   2.3   5.4  185.6  280.9   \n",
      "110  MADHYA MAHARASHTRA  2011   0.0   0.3   0.3   5.0   2.9  133.3  261.4   \n",
      "111  MADHYA MAHARASHTRA  2012   0.0   0.0   0.0   3.0   1.4   67.9  203.0   \n",
      "112  MADHYA MAHARASHTRA  2013   0.1   5.3   0.8   5.7   6.0  212.4  311.8   \n",
      "113  MADHYA MAHARASHTRA  2014   3.1   6.2  24.4   7.5  29.8   44.0  277.9   \n",
      "114  MADHYA MAHARASHTRA  2015   1.4   0.8  41.2   9.6  24.4  177.0  111.7   \n",
      "\n",
      "       AUG  ...    NOV   DEC  ANNUAL  Jan-Feb  Mar-May  Jun-Sep  Oct-Dec  \\\n",
      "0    194.1  ...    4.4   0.5   769.0     19.4     74.7    601.4     73.5   \n",
      "1    114.5  ...   40.5  62.9   784.0      7.8     14.9    597.5    163.8   \n",
      "2    155.5  ...    7.6   2.2   837.9      7.6     80.4    665.9     84.1   \n",
      "3     59.5  ...    0.0   0.4   603.5      5.1     23.4    483.6     91.4   \n",
      "4     79.0  ...    8.3   0.0   537.8      1.2     25.9    449.5     61.2   \n",
      "5    205.0  ...   15.5  11.1   744.3     11.3      9.4    677.8     45.8   \n",
      "6    267.8  ...    3.6   0.9   815.1      4.2     56.6    742.3     12.1   \n",
      "7    169.9  ...    4.0   0.0   722.0      0.3     16.8    684.6     20.3   \n",
      "8    101.6  ...    3.1   4.7   755.2      1.3     40.6    674.4     38.9   \n",
      "9    228.6  ...   30.2   0.0   915.2      0.0     14.0    800.9    100.3   \n",
      "10   153.2  ...   42.9   3.8   544.3      2.1     14.3    457.6     70.3   \n",
      "11   150.0  ...   67.7   0.3   764.9      0.5     29.9    580.5    153.9   \n",
      "12    86.6  ...    0.6   5.5   732.5      0.2     42.4    640.1     49.8   \n",
      "13   204.3  ...   36.6   7.6  1039.0      0.4     19.2    953.0     66.3   \n",
      "14    80.0  ...   20.9  18.0   908.1     15.3     48.0    729.1    115.7   \n",
      "15   185.9  ...   69.1   0.1  1072.4      0.2     60.5    805.9    206.0   \n",
      "16   187.0  ...   33.4   0.0   938.2     20.1     28.1    687.1    203.0   \n",
      "17   112.4  ...   30.0   7.5   438.0      5.6     94.0    287.6     50.8   \n",
      "18   153.8  ...   28.4   1.9   879.1      3.5     42.2    757.9     75.5   \n",
      "19    94.1  ...    0.3   0.0   600.3     41.7     17.8    514.5     26.3   \n",
      "20   125.0  ...   23.7   0.0   734.3      1.6     10.4    651.1     71.2   \n",
      "21    79.4  ...  141.1   1.4   805.2     20.9     44.1    556.5    183.7   \n",
      "22   126.5  ...    0.0   2.3   680.9      3.5     51.9    616.7      8.7   \n",
      "23   220.6  ...    3.6   5.3   748.2      2.1     27.1    660.4     58.6   \n",
      "24   115.2  ...   40.7   4.0   661.8      0.0     43.5    539.6     78.6   \n",
      "25   258.0  ...    8.3   2.2   787.1     34.9     11.5    722.2     18.6   \n",
      "26    85.4  ...   83.3   2.0   925.2      1.0     14.9    772.7    136.6   \n",
      "27   159.6  ...    3.1  14.1   831.7     10.3     12.0    729.7     79.6   \n",
      "28    73.7  ...    3.4   2.2   690.4      7.4     45.5    549.4     88.1   \n",
      "29   106.5  ...   37.7   5.0   929.1      0.0     33.6    765.3    130.1   \n",
      "..     ...  ...    ...   ...     ...      ...      ...      ...      ...   \n",
      "85   157.9  ...   19.4  14.6   644.1      4.3     11.2    585.7     42.8   \n",
      "86   226.9  ...   38.0  34.6   807.6      5.6     43.1    587.5    171.4   \n",
      "87   165.7  ...    1.9   4.9   976.6      0.1     26.5    915.6     34.3   \n",
      "88   152.1  ...    1.4   1.7   816.6      0.0     31.4    759.1     26.0   \n",
      "89   294.6  ...   17.2   1.9  1022.5      2.8     78.4    767.3    174.1   \n",
      "90   143.9  ...    4.7   0.1   880.5      0.1     31.8    823.0     25.7   \n",
      "91   248.6  ...   10.1   0.0   791.3      0.0      7.3    718.2     65.7   \n",
      "92   162.4  ...   10.7  34.3  1019.8      0.1     20.1    761.9    237.7   \n",
      "93   188.4  ...   12.6   0.0  1021.5      3.2     46.2    893.4     78.8   \n",
      "94    82.7  ...    4.9   0.0   776.4     20.3     36.0    593.7    126.4   \n",
      "95   184.1  ...    4.8   0.4   975.2      0.1      9.9    788.7    176.5   \n",
      "96   295.5  ...   68.8  39.6  1000.9      3.3     24.3    807.4    166.0   \n",
      "97   226.4  ...   22.1   0.0  1101.1      0.2     21.4    894.8    184.7   \n",
      "98    85.4  ...    0.0   0.0   965.7      6.7     39.3    742.1    177.7   \n",
      "99   159.6  ...    2.7   2.1   701.6      1.5     20.5    618.2     61.3   \n",
      "100  160.9  ...    5.7   0.5   785.1      4.4     13.5    635.4    131.8   \n",
      "101  221.5  ...    5.9   0.0   740.3      4.9     28.3    664.7     42.3   \n",
      "102  178.4  ...    3.5   0.1   772.6      3.0     22.3    714.2     33.1   \n",
      "103  354.1  ...    8.0   0.1  1029.5      0.2     53.7    925.5     50.2   \n",
      "104  256.1  ...    0.0   0.0  1221.3      4.0     20.5   1134.2     62.7   \n",
      "105  421.7  ...   25.5   0.0  1395.7      0.0     49.7   1260.4     85.6   \n",
      "106  274.2  ...    3.9   0.0  1040.4      1.7      7.6   1023.7      7.3   \n",
      "107  257.6  ...    3.7   0.9   916.9      0.0     19.9    835.9     61.1   \n",
      "108  148.2  ...  121.3   4.3   941.7      1.7      8.9    709.4    221.8   \n",
      "109  233.2  ...   73.4   0.2  1027.5      3.0      8.6    865.3    150.6   \n",
      "110  238.1  ...    0.0   0.0   852.6      0.3      8.2    781.3     62.8   \n",
      "111  187.8  ...    2.2   0.0   689.8      0.0      4.4    588.1     97.3   \n",
      "112  147.0  ...    4.0   1.3   962.4      5.3     12.4    881.5     63.1   \n",
      "113  240.3  ...   32.8  13.1   838.0      9.3     61.7    682.6     84.4   \n",
      "114   67.2  ...   16.2   0.1   644.5      2.2     75.3    502.5     64.5   \n",
      "\n",
      "     flood    avgjune    sub  \n",
      "0       -1  35.900000   77.3  \n",
      "1       -1  34.200000   92.8  \n",
      "2        0  28.766667    9.1  \n",
      "3       -1  38.200000   95.9  \n",
      "4        0  21.666667   41.4  \n",
      "5       -1  61.600000  175.5  \n",
      "6       -1  39.333333  117.4  \n",
      "7        0  28.366667   79.3  \n",
      "8       -1  59.866667  141.1  \n",
      "9        1  68.200000  191.5  \n",
      "10       0  45.633333  124.9  \n",
      "11       0  29.433333   67.4  \n",
      "12       1  86.633333  225.9  \n",
      "13      -1  62.766667  173.1  \n",
      "14       1  65.066667  183.1  \n",
      "15      -1  48.266667   89.6  \n",
      "16      -1  58.100000  158.7  \n",
      "17       0  17.233333   38.8  \n",
      "18      -1  57.833333  135.3  \n",
      "19      -1  40.233333  112.7  \n",
      "20      -1  35.266667  104.7  \n",
      "21      -1  53.900000  134.3  \n",
      "22       0  10.233333   20.2  \n",
      "23       0  26.766667   75.7  \n",
      "24      -1  59.233333  138.8  \n",
      "25       0  28.633333   74.7  \n",
      "26      -1  61.633333  175.6  \n",
      "27      -1  47.766667  143.0  \n",
      "28      -1  51.966667  149.5  \n",
      "29      -1  59.366667  148.3  \n",
      "..     ...        ...    ...  \n",
      "85       1  66.933333  192.2  \n",
      "86      -1  43.433333   93.7  \n",
      "87      -1  37.000000  103.4  \n",
      "88      -1  51.166667  141.7  \n",
      "89      -1  50.166667   72.3  \n",
      "90       1  97.933333  274.6  \n",
      "91      -1  48.966667  141.8  \n",
      "92      -1  49.200000  136.1  \n",
      "93       1  84.400000  229.4  \n",
      "94       0  21.200000   39.6  \n",
      "95      -1  54.100000  156.6  \n",
      "96      -1  60.066667  173.7  \n",
      "97      -1  49.033333  128.7  \n",
      "98       1  75.100000  186.1  \n",
      "99      -1  57.666667  154.5  \n",
      "100     -1  52.633333  149.5  \n",
      "101      1  83.966667  237.5  \n",
      "102      1  70.266667  195.7  \n",
      "103      1  71.966667  166.9  \n",
      "104      1  80.166667  232.7  \n",
      "105      1  68.433333  163.0  \n",
      "106      1  88.966667  261.4  \n",
      "107     -1  35.966667  106.8  \n",
      "108      0  22.966667   61.2  \n",
      "109      1  61.866667  180.2  \n",
      "110     -1  44.433333  130.4  \n",
      "111      0  22.633333   66.5  \n",
      "112      1  70.800000  206.4  \n",
      "113      0  14.666667   14.2  \n",
      "114     -1  59.000000  152.6  \n",
      "\n",
      "[115 rows x 22 columns]\n"
     ]
    }
   ],
   "source": [
    "flood=[]\n",
    "june=[]\n",
    "sub=[]\n",
    "#APPROAXIMATELY FINDING THE RAINFALL DATA FOR 10 DAYS FOR THE MONTH OF JUNE IN EVERY YEAR FROM 1901 TO 2015\n",
    "for k in range(0,len(x1)):\n",
    "    june.append(z1[k]/3)\n",
    "\n",
    "#FINDING THE INCREASE IN RAINFALL FROM THE MONTH OF MAY TO THE MONTH OF JUNE IN EVERY YEAR FROM 1901 TO 2015\n",
    "for k in range(0,len(x1)):\n",
    "    sub.append(abs(w1[k]-z1[k]))\n",
    "\n",
    "\n",
    "#CREATING A NEW COLOUMN WITH BINARY CLASSIFICATION DEPENDING IF THAT YEAR HAD FLOODED OR NOT, USING RAINFALL OF THAT YEAR AS THRESHOLD\n",
    "#flood,rain,heavy rain\n",
    "for i in range(0,len(x1)):\n",
    "    if x1[i]>1100 or june[i] > 70 or sub[i] > 180:\n",
    "        flood.append('1')\n",
    "    elif x1[i] < 480  or june[i] < 30  or sub[i] < 40:\n",
    "        flood.append('0')\n",
    "    else:\n",
    "        flood.append('-1')\n",
    "\n",
    "\n",
    "\n",
    "\n",
    "\n",
    "df = pd.DataFrame({'flood':flood})\n",
    "df1=pd.DataFrame({'per_10_days':june})\n",
    "\n",
    "x[\"flood\"]=flood\n",
    "x[\"avgjune\"]=june\n",
    "x[\"sub\"]=sub\n",
    "\n",
    "#SAVING THE NEW CSV FILE WITH THE NEW COLOUMNS\n",
    "x.to_csv(\"out1.csv\")\n",
    "print((x))\n",
    "        \n",
    "        \n",
    "      "
   ]
  },
  {
   "cell_type": "code",
   "execution_count": 29,
   "metadata": {},
   "outputs": [],
   "source": [
    "\n",
    "import scipy \n",
    "from scipy.stats import spearmanr\n",
    "\n",
    "from sklearn.ensemble import RandomForestClassifier\n",
    "from sklearn.preprocessing import scale\n",
    "from sklearn.linear_model import LogisticRegression\n",
    "from sklearn.model_selection import train_test_split\n",
    "from sklearn import preprocessing"
   ]
  },
  {
   "cell_type": "code",
   "execution_count": 30,
   "metadata": {},
   "outputs": [
    {
     "name": "stderr",
     "output_type": "stream",
     "text": [
      "c:\\users\\rahul\\appdata\\local\\programs\\python\\python36\\lib\\site-packages\\ipykernel_launcher.py:9: DeprecationWarning: \n",
      ".ix is deprecated. Please use\n",
      ".loc for label based indexing or\n",
      ".iloc for positional indexing\n",
      "\n",
      "See the documentation here:\n",
      "http://pandas.pydata.org/pandas-docs/stable/indexing.html#ix-indexer-is-deprecated\n",
      "  if __name__ == '__main__':\n",
      "c:\\users\\rahul\\appdata\\local\\programs\\python\\python36\\lib\\site-packages\\ipykernel_launcher.py:10: DeprecationWarning: \n",
      ".ix is deprecated. Please use\n",
      ".loc for label based indexing or\n",
      ".iloc for positional indexing\n",
      "\n",
      "See the documentation here:\n",
      "http://pandas.pydata.org/pandas-docs/stable/indexing.html#ix-indexer-is-deprecated\n",
      "  # Remove the CWD from sys.path while we load stuff.\n"
     ]
    }
   ],
   "source": [
    "#TAKING THE COLOUMNS WHICH ARE TO USED FOR TRAINING THE MODEL\n",
    "#16 MAR-MAY\n",
    "#20- AVG OF 10 DAYS JUNE \n",
    "#21- DIFFERENCE OF RAINFALL FROM MAY TO JUNE\n",
    "#19 - BINARY CLASS OF FLOOD- 0 OR 1 or -1\n",
    "#MORE DATA CAN BE ADDED FOR TRAINING, BY JUST ADDING MORE NUMBER OF COLOUMNS FROM THE CSV FILE\n",
    "\n",
    "#WE USE LOGISTIC REGRESSION FOR TRAINING\n",
    "X = x.ix[:,{16,20,21}].values\n",
    "y1=x.ix[:,19].values\n",
    "(X_train, X_test, Y_train, Y_test) = train_test_split(X, y1, random_state=0)\n"
   ]
  },
  {
   "cell_type": "code",
   "execution_count": 31,
   "metadata": {},
   "outputs": [
    {
     "name": "stdout",
     "output_type": "stream",
     "text": [
      "0.8275862068965517\n"
     ]
    },
    {
     "name": "stderr",
     "output_type": "stream",
     "text": [
      "c:\\users\\rahul\\appdata\\local\\programs\\python\\python36\\lib\\site-packages\\sklearn\\linear_model\\logistic.py:432: FutureWarning: Default solver will be changed to 'lbfgs' in 0.22. Specify a solver to silence this warning.\n",
      "  FutureWarning)\n",
      "c:\\users\\rahul\\appdata\\local\\programs\\python\\python36\\lib\\site-packages\\sklearn\\linear_model\\logistic.py:469: FutureWarning: Default multi_class will be changed to 'auto' in 0.22. Specify the multi_class option to silence this warning.\n",
      "  \"this warning.\", FutureWarning)\n"
     ]
    }
   ],
   "source": [
    "Lr=LogisticRegression()\n",
    "\n",
    "Lr.fit(X,y1)\n",
    "print(Lr.score(X_test,Y_test)) \n"
   ]
  },
  {
   "cell_type": "code",
   "execution_count": 32,
   "metadata": {},
   "outputs": [
    {
     "data": {
      "text/plain": [
       "array(['-1', '0', '1'], dtype=object)"
      ]
     },
     "execution_count": 32,
     "metadata": {},
     "output_type": "execute_result"
    }
   ],
   "source": [
    "np.unique(y1)"
   ]
  },
  {
   "cell_type": "code",
   "execution_count": 33,
   "metadata": {},
   "outputs": [],
   "source": [
    "import pickle\n",
    "Pkl_Filename = \"Maharashtra.pkl\"  \n",
    "\n",
    "with open(Pkl_Filename, 'wb') as file:  \n",
    "    pickle.dump(Lr, file)"
   ]
  },
  {
   "cell_type": "code",
   "execution_count": null,
   "metadata": {},
   "outputs": [],
   "source": []
  },
  {
   "cell_type": "code",
   "execution_count": null,
   "metadata": {},
   "outputs": [],
   "source": []
  }
 ],
 "metadata": {
  "kernelspec": {
   "display_name": "Python 3",
   "language": "python",
   "name": "python3"
  },
  "language_info": {
   "codemirror_mode": {
    "name": "ipython",
    "version": 3
   },
   "file_extension": ".py",
   "mimetype": "text/x-python",
   "name": "python",
   "nbconvert_exporter": "python",
   "pygments_lexer": "ipython3",
   "version": "3.6.7"
  }
 },
 "nbformat": 4,
 "nbformat_minor": 2
}
