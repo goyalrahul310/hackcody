{
 "cells": [
  {
   "cell_type": "code",
   "execution_count": 1,
   "metadata": {},
   "outputs": [],
   "source": [
    "import pandas as pd\n",
    "import matplotlib.pyplot as plt\n",
    "import numpy as np\n"
   ]
  },
  {
   "cell_type": "code",
   "execution_count": 2,
   "metadata": {},
   "outputs": [],
   "source": [
    "x=pd.read_csv(\"GUJARAT REGION.csv\")\n"
   ]
  },
  {
   "cell_type": "code",
   "execution_count": 3,
   "metadata": {},
   "outputs": [],
   "source": [
    "columns_to_drop = [\"Unnamed: 0\"]\n",
    "data_clean = x.drop(columns_to_drop,axis = 1)\n",
    "x = data_clean\n"
   ]
  },
  {
   "cell_type": "code",
   "execution_count": null,
   "metadata": {},
   "outputs": [],
   "source": []
  },
  {
   "cell_type": "code",
   "execution_count": 4,
   "metadata": {},
   "outputs": [
    {
     "data": {
      "image/png": "[encoded data removed]",
      "text/plain": [
       "<Figure size 432x288 with 1 Axes>"
      ]
     },
     "metadata": {
      "needs_background": "light"
     },
     "output_type": "display_data"
    }
   ],
   "source": [
    "y1=list(x[\"YEAR\"])\n",
    "x1=list(x[\"Jun-Sep\"])\n",
    "z1=list(x[\"JUN\"])\n",
    "w1=list(x[\"MAY\"])\n",
    "\n",
    "plt.plot(y1, x1,'|')\n",
    "plt.show()"
   ]
  },
  {
   "cell_type": "code",
   "execution_count": 5,
   "metadata": {},
   "outputs": [
    {
     "name": "stdout",
     "output_type": "stream",
     "text": [
      "        SUBDIVISION  YEAR   JAN   FEB   MAR  APR   MAY    JUN    JUL    AUG  \\\n",
      "0    GUJARAT REGION  1901   4.2   0.0   0.6  1.6   7.0   60.3  240.2  205.4   \n",
      "1    GUJARAT REGION  1902   3.9   0.0   0.0  0.6   1.0   32.8  229.8  299.0   \n",
      "2    GUJARAT REGION  1903   0.3   0.1   1.4  0.0  12.3   30.1  452.9  202.0   \n",
      "3    GUJARAT REGION  1904   0.8  10.6  16.8  0.2   3.9   48.3  194.8   71.8   \n",
      "4    GUJARAT REGION  1905   0.1   0.7   1.1  0.3   0.0   20.1  668.3   37.9   \n",
      "5    GUJARAT REGION  1906   0.0  12.7   0.0  0.0   0.1  177.5  311.5  247.1   \n",
      "6    GUJARAT REGION  1907   0.3  14.6   0.2  2.1   0.4   72.4  325.0  564.4   \n",
      "7    GUJARAT REGION  1908   5.2   0.3   0.2  0.0   0.1   67.5  562.1  366.0   \n",
      "8    GUJARAT REGION  1909   0.1   0.5   0.1  5.5   2.6  160.5  415.6  242.6   \n",
      "9    GUJARAT REGION  1910   0.6   0.0   0.0  0.1   0.0  262.6  290.2  338.5   \n",
      "10   GUJARAT REGION  1911   3.5   0.0  18.9  0.0   0.9  158.0   66.7   93.4   \n",
      "11   GUJARAT REGION  1912   0.1   0.0   0.0  0.2   0.6  105.1  624.9  291.1   \n",
      "12   GUJARAT REGION  1913   0.0   0.0   0.1  0.0  13.5  364.5  423.2  213.8   \n",
      "13   GUJARAT REGION  1914   0.0   3.7   0.0  0.2   5.4  222.3  488.8  137.7   \n",
      "14   GUJARAT REGION  1915   7.5   1.9  12.1  1.6   2.3  128.7  128.9  116.3   \n",
      "15   GUJARAT REGION  1916   0.0   0.0   0.2  0.1   8.7  126.7  168.3  418.9   \n",
      "16   GUJARAT REGION  1917   0.4   7.4   0.0  5.3  98.3  126.8  320.1  379.2   \n",
      "17   GUJARAT REGION  1918   0.4   0.0   0.2  0.0  12.1   37.8  110.5  213.4   \n",
      "18   GUJARAT REGION  1919   6.1   0.1   0.0  1.3   2.1  110.0  335.9  481.2   \n",
      "19   GUJARAT REGION  1920  44.1   1.8   0.0  0.2  63.2  189.3  268.1  110.4   \n",
      "20   GUJARAT REGION  1921   0.8   0.0   0.0  0.0   0.0   31.1  529.7  205.4   \n",
      "21   GUJARAT REGION  1922   2.1   0.0   0.0  0.0   0.0  130.8  314.8  106.8   \n",
      "22   GUJARAT REGION  1923   0.0   5.2   1.5  4.0   4.6    2.6  295.0  157.5   \n",
      "23   GUJARAT REGION  1924   1.4   0.0   0.4  0.0   5.5  117.3  297.3  267.0   \n",
      "24   GUJARAT REGION  1925   0.0   0.0   0.1  0.0  25.8  264.6  199.3   81.8   \n",
      "25   GUJARAT REGION  1926   6.5   0.0   0.9  2.0   8.5   20.1  406.1  471.0   \n",
      "26   GUJARAT REGION  1927   0.0   4.9   0.0  0.2   1.9  139.4  903.3  199.2   \n",
      "27   GUJARAT REGION  1928   0.0   0.2   0.0  0.0   0.0   51.5  372.7  220.5   \n",
      "28   GUJARAT REGION  1929   1.9   0.0   0.0  5.5   0.9  123.6  353.7  150.7   \n",
      "29   GUJARAT REGION  1930   2.0   0.2   0.2  0.1   1.1  160.2  426.0  152.9   \n",
      "..              ...   ...   ...   ...   ...  ...   ...    ...    ...    ...   \n",
      "85   GUJARAT REGION  1986   0.0   0.0   0.1  0.0   2.0  180.1  161.8  149.4   \n",
      "86   GUJARAT REGION  1987   0.4   0.5   0.0  0.0   0.3   69.6  119.4  180.6   \n",
      "87   GUJARAT REGION  1988   0.0   0.0   0.0  2.5   0.0   74.7  573.1  245.5   \n",
      "88   GUJARAT REGION  1989   1.3   0.0   0.0  0.0   0.1  112.5  351.2  298.3   \n",
      "89   GUJARAT REGION  1990   0.0   3.3   0.2  0.0  32.9   79.0  221.6  530.5   \n",
      "90   GUJARAT REGION  1991   0.0   0.0   0.0  0.0   0.0   55.6  440.8  133.8   \n",
      "91   GUJARAT REGION  1992   0.8   0.0   0.0  0.0   0.9  132.8  256.3  244.4   \n",
      "92   GUJARAT REGION  1993   0.0   1.7   0.1  0.0   0.0  133.2  557.4   69.5   \n",
      "93   GUJARAT REGION  1994   7.2   0.0   0.0  0.1   0.0  320.7  490.6  370.1   \n",
      "94   GUJARAT REGION  1995   2.2   0.0   0.2  0.0   0.0    8.5  451.0  127.4   \n",
      "95   GUJARAT REGION  1996   1.0   0.0   0.0  0.0   0.0  123.9  374.6  228.5   \n",
      "96   GUJARAT REGION  1997   0.7   0.0   0.2  3.3   3.6  355.3  241.9  358.0   \n",
      "97   GUJARAT REGION  1998   0.0   0.1   0.0  0.0   0.0  111.5  312.2  196.1   \n",
      "98   GUJARAT REGION  1999   0.0   2.0   0.0  0.0   7.4  158.0  219.4   55.1   \n",
      "99   GUJARAT REGION  2000   0.0   0.1   0.0  0.0  36.1   62.9  301.1  133.0   \n",
      "100  GUJARAT REGION  2001   6.1   0.0   0.0  0.2   2.1  216.9  320.0  256.8   \n",
      "101  GUJARAT REGION  2002   4.1   0.0   0.1  0.0   0.0  234.2   45.8  238.5   \n",
      "102  GUJARAT REGION  2003   0.0   6.1   0.1  0.0   0.0  209.3  518.7  314.6   \n",
      "103  GUJARAT REGION  2004   0.0   0.0   0.0  0.0   4.4  135.5  238.2  553.7   \n",
      "104  GUJARAT REGION  2005   0.0   0.0   0.0  0.0   0.3  367.3  378.7  229.4   \n",
      "105  GUJARAT REGION  2006   0.0   0.0   0.8  0.0   0.2  123.5  576.0  624.8   \n",
      "106  GUJARAT REGION  2007   0.1   0.4   0.0  0.0   0.3   94.0  567.8  345.6   \n",
      "107  GUJARAT REGION  2008   0.0   0.0   0.0  3.1   0.1   58.2  261.9  369.5   \n",
      "108  GUJARAT REGION  2009   0.0   0.0   0.3  0.0   0.0   17.0  390.3  143.5   \n",
      "109  GUJARAT REGION  2010   0.2   0.0   0.0  0.0   0.0   59.3  328.2  431.0   \n",
      "110  GUJARAT REGION  2011   0.0   0.2   0.0  0.0   0.0   16.3  259.2  451.7   \n",
      "111  GUJARAT REGION  2012   0.1   0.0   0.0  0.0   0.0   34.4  178.2  230.3   \n",
      "112  GUJARAT REGION  2013   0.0   0.9   0.1  4.6   0.0  155.7  405.4  211.1   \n",
      "113  GUJARAT REGION  2014   5.7   0.1   0.2  1.0   1.3   11.6  307.5  138.6   \n",
      "114  GUJARAT REGION  2015   1.8   0.0   6.1  5.5   0.9  120.7  354.7   37.4   \n",
      "\n",
      "     ...   NOV   DEC  ANNUAL  Jan-Feb  Mar-May  Jun-Sep  Oct-Dec  flood  \\\n",
      "0    ...   0.0   0.3   554.3      4.2      9.2    524.0     17.0      0   \n",
      "1    ...   1.5  11.9   863.9      3.9      1.5    842.8     15.7      0   \n",
      "2    ...   0.0   0.0   887.6      0.3     13.6    868.2      5.4      0   \n",
      "3    ...   0.1   1.2   492.6     11.3     20.9    453.0      7.4      0   \n",
      "4    ...   0.2   0.1   811.5      0.8      1.3    807.6      1.7      0   \n",
      "5    ...   0.0   0.9   890.6     12.7      0.2    870.9      6.8     -1   \n",
      "6    ...   0.0   0.0   997.0     15.0      2.7    979.3      0.0      0   \n",
      "7    ...   0.0   0.0  1027.5      5.5      0.3   1020.7      1.0      0   \n",
      "8    ...   0.0   5.5   977.8      0.6      8.2    962.0      7.0     -1   \n",
      "9    ...  14.8   0.0   974.6      0.6      0.1    936.0     37.9      1   \n",
      "10   ...   3.8   0.1   403.5      3.5     19.8    375.8      4.4      0   \n",
      "11   ...  44.1   0.0  1118.5      0.1      0.8   1060.0     57.7     -1   \n",
      "12   ...   0.1   0.3  1162.6      0.0     13.7   1147.5      1.4      1   \n",
      "13   ...   6.0   0.0  1107.5      3.7      5.6   1083.7     14.4     -1   \n",
      "14   ...   2.8   0.2   567.3      9.4     16.0    426.6    115.3     -1   \n",
      "15   ...   4.0   0.0   952.9      0.0      9.0    907.5     36.4     -1   \n",
      "16   ...   0.0   0.0  1524.9      7.8    103.6   1179.8    233.7      0   \n",
      "17   ...   0.5   0.0   392.6      0.4     12.3    379.3      0.7      0   \n",
      "18   ...  19.6   0.0  1067.4      6.2      3.5   1005.2     52.6     -1   \n",
      "19   ...   0.0   0.0   708.9     45.9     63.4    599.5      0.0     -1   \n",
      "20   ...   0.0   0.2  1172.8      0.8      0.0   1171.3      0.6      0   \n",
      "21   ...   4.1   0.7   878.7      2.1      0.0    866.8      9.8     -1   \n",
      "22   ...   0.0   0.0   553.2      5.2     10.1    537.0      1.0      0   \n",
      "23   ...   0.0   1.0   909.6      1.4      6.0    880.3     22.0     -1   \n",
      "24   ...   6.6   0.2   593.1      0.0     26.0    559.9      7.2      1   \n",
      "25   ...   0.1   0.0  1274.5      6.5     11.5   1256.4      0.2      0   \n",
      "26   ...  18.3  14.8  1422.1      4.9      2.1   1355.8     59.3     -1   \n",
      "27   ...  16.4   1.8   821.0      0.2      0.0    783.0     37.8      0   \n",
      "28   ...   0.6  11.6   676.3      1.9      6.4    648.6     19.4     -1   \n",
      "29   ...   0.0   0.9   894.7      2.2      1.5    841.9     49.1     -1   \n",
      "..   ...   ...   ...     ...      ...      ...      ...      ...    ...   \n",
      "85   ...   1.1   0.0   501.8      0.0      2.1    497.1      2.6     -1   \n",
      "86   ...  11.2  10.7   401.9      0.9      0.4    375.2     25.4      0   \n",
      "87   ...   0.0   0.0  1097.4      0.0      2.5   1083.7     11.2      0   \n",
      "88   ...   0.0   0.0   822.8      1.3      0.1    819.9      1.5     -1   \n",
      "89   ...   4.8   3.8  1118.4      3.3     33.2   1057.3     24.6      0   \n",
      "90   ...   0.7   0.0   672.7      0.0      0.0    672.0      0.7      0   \n",
      "91   ...   2.5   0.0   901.1      0.8      0.9    877.7     21.7     -1   \n",
      "92   ...   1.5   0.0   941.4      1.7      0.1    908.0     31.7     -1   \n",
      "93   ...   0.1   0.0  1534.5      7.2      0.2   1525.1      2.1      1   \n",
      "94   ...   0.3   0.7   684.3      2.2      0.3    657.9     23.9      0   \n",
      "95   ...   0.1   0.0   902.8      1.0      0.0    878.3     23.4     -1   \n",
      "96   ...   0.9   0.9  1068.9      0.7      7.1   1051.3      9.8      1   \n",
      "97   ...   4.4   0.0  1070.0      0.1      0.0    966.7    103.2     -1   \n",
      "98   ...   0.0   0.0   568.4      2.0      7.4    489.6     69.5     -1   \n",
      "99   ...   0.0   3.6   550.6      0.1     36.1    510.6      3.9      0   \n",
      "100  ...   0.2   0.0   849.0      6.1      2.3    811.5     29.0     -1   \n",
      "101  ...   0.1   0.1   637.2      4.1      0.1    632.2      0.8      1   \n",
      "102  ...   0.0   0.0  1160.3      6.1      0.1   1152.2      1.9     -1   \n",
      "103  ...   0.0   0.0  1005.8      0.0      4.4    979.1     22.3     -1   \n",
      "104  ...   0.0   0.0  1316.4      0.0      0.3   1314.7      1.4      1   \n",
      "105  ...   2.9   0.0  1478.0      0.0      1.1   1464.9     12.1      1   \n",
      "106  ...   1.4   0.0  1178.9      0.5      0.3   1176.7      1.4     -1   \n",
      "107  ...   0.1   2.3   911.1      0.0      3.3    893.9     14.0      0   \n",
      "108  ...   8.1   0.0   641.6      0.0      0.3    605.7     35.5      0   \n",
      "109  ...  41.0   0.2  1088.7      0.2      0.0   1035.0     53.4      0   \n",
      "110  ...   0.0   0.0   890.5      0.2      0.0    889.8      0.4      0   \n",
      "111  ...   0.0   0.0   714.0      0.1      0.0    706.7      7.1      0   \n",
      "112  ...   0.1   0.0  1118.6      0.9      4.7   1059.6     53.3     -1   \n",
      "113  ...   1.3   0.0   705.7      5.8      2.5    692.8      4.6      0   \n",
      "114  ...   0.3   0.0   622.9      1.8     12.5    606.1      2.6     -1   \n",
      "\n",
      "        avgjune    sub  \n",
      "0     20.100000   53.3  \n",
      "1     10.933333   31.8  \n",
      "2     10.033333   17.8  \n",
      "3     16.100000   44.4  \n",
      "4      6.700000   20.1  \n",
      "5     59.166667  177.4  \n",
      "6     24.133333   72.0  \n",
      "7     22.500000   67.4  \n",
      "8     53.500000  157.9  \n",
      "9     87.533333  262.6  \n",
      "10    52.666667  157.1  \n",
      "11    35.033333  104.5  \n",
      "12   121.500000  351.0  \n",
      "13    74.100000  216.9  \n",
      "14    42.900000  126.4  \n",
      "15    42.233333  118.0  \n",
      "16    42.266667   28.5  \n",
      "17    12.600000   25.7  \n",
      "18    36.666667  107.9  \n",
      "19    63.100000  126.1  \n",
      "20    10.366667   31.1  \n",
      "21    43.600000  130.8  \n",
      "22     0.866667    2.0  \n",
      "23    39.100000  111.8  \n",
      "24    88.200000  238.8  \n",
      "25     6.700000   11.6  \n",
      "26    46.466667  137.5  \n",
      "27    17.166667   51.5  \n",
      "28    41.200000  122.7  \n",
      "29    53.400000  159.1  \n",
      "..          ...    ...  \n",
      "85    60.033333  178.1  \n",
      "86    23.200000   69.3  \n",
      "87    24.900000   74.7  \n",
      "88    37.500000  112.4  \n",
      "89    26.333333   46.1  \n",
      "90    18.533333   55.6  \n",
      "91    44.266667  131.9  \n",
      "92    44.400000  133.2  \n",
      "93   106.900000  320.7  \n",
      "94     2.833333    8.5  \n",
      "95    41.300000  123.9  \n",
      "96   118.433333  351.7  \n",
      "97    37.166667  111.5  \n",
      "98    52.666667  150.6  \n",
      "99    20.966667   26.8  \n",
      "100   72.300000  214.8  \n",
      "101   78.066667  234.2  \n",
      "102   69.766667  209.3  \n",
      "103   45.166667  131.1  \n",
      "104  122.433333  367.0  \n",
      "105   41.166667  123.3  \n",
      "106   31.333333   93.7  \n",
      "107   19.400000   58.1  \n",
      "108    5.666667   17.0  \n",
      "109   19.766667   59.3  \n",
      "110    5.433333   16.3  \n",
      "111   11.466667   34.4  \n",
      "112   51.900000  155.7  \n",
      "113    3.866667   10.3  \n",
      "114   40.233333  119.8  \n",
      "\n",
      "[115 rows x 22 columns]\n"
     ]
    }
   ],
   "source": [
    "flood=[]\n",
    "june=[]\n",
    "sub=[]\n",
    "#APPROAXIMATELY FINDING THE RAINFALL DATA FOR 10 DAYS FOR THE MONTH OF JUNE IN EVERY YEAR FROM 1901 TO 2015\n",
    "for k in range(0,len(x1)):\n",
    "    june.append(z1[k]/3)\n",
    "\n",
    "#FINDING THE INCREASE IN RAINFALL FROM THE MONTH OF MAY TO THE MONTH OF JUNE IN EVERY YEAR FROM 1901 TO 2015\n",
    "for k in range(0,len(x1)):\n",
    "    sub.append(abs(w1[k]-z1[k]))\n",
    "\n",
    "\n",
    "#CREATING A NEW COLOUMN WITH BINARY CLASSIFICATION DEPENDING IF THAT YEAR HAD FLOODED OR NOT, USING RAINFALL OF THAT YEAR AS THRESHOLD\n",
    "#flood,rain,heavy rain\n",
    "for i in range(0,len(x1)):\n",
    "    if x1[i]>1400 or june[i] > 110 or sub[i] > 220:\n",
    "        flood.append('1')\n",
    "    elif x1[i] < 400  or june[i] < 30  or sub[i] < 50:\n",
    "        flood.append('0')\n",
    "    else:\n",
    "        flood.append('-1')\n",
    "\n",
    "\n",
    "\n",
    "\n",
    "\n",
    "df = pd.DataFrame({'flood':flood})\n",
    "df1=pd.DataFrame({'per_10_days':june})\n",
    "\n",
    "x[\"flood\"]=flood\n",
    "x[\"avgjune\"]=june\n",
    "x[\"sub\"]=sub\n",
    "\n",
    "#SAVING THE NEW CSV FILE WITH THE NEW COLOUMNS\n",
    "x.to_csv(\"out1.csv\")\n",
    "print((x))\n",
    "        \n",
    "        \n",
    "      "
   ]
  },
  {
   "cell_type": "code",
   "execution_count": 6,
   "metadata": {},
   "outputs": [],
   "source": [
    "\n",
    "import scipy \n",
    "from scipy.stats import spearmanr\n",
    "\n",
    "from sklearn.ensemble import RandomForestClassifier\n",
    "from sklearn.preprocessing import scale\n",
    "from sklearn.linear_model import LogisticRegression\n",
    "from sklearn.model_selection import train_test_split\n",
    "from sklearn import preprocessing"
   ]
  },
  {
   "cell_type": "code",
   "execution_count": 7,
   "metadata": {},
   "outputs": [
    {
     "name": "stderr",
     "output_type": "stream",
     "text": [
      "c:\\users\\rahul\\appdata\\local\\programs\\python\\python36\\lib\\site-packages\\ipykernel_launcher.py:9: DeprecationWarning: \n",
      ".ix is deprecated. Please use\n",
      ".loc for label based indexing or\n",
      ".iloc for positional indexing\n",
      "\n",
      "See the documentation here:\n",
      "http://pandas.pydata.org/pandas-docs/stable/indexing.html#ix-indexer-is-deprecated\n",
      "  if __name__ == '__main__':\n",
      "c:\\users\\rahul\\appdata\\local\\programs\\python\\python36\\lib\\site-packages\\ipykernel_launcher.py:10: DeprecationWarning: \n",
      ".ix is deprecated. Please use\n",
      ".loc for label based indexing or\n",
      ".iloc for positional indexing\n",
      "\n",
      "See the documentation here:\n",
      "http://pandas.pydata.org/pandas-docs/stable/indexing.html#ix-indexer-is-deprecated\n",
      "  # Remove the CWD from sys.path while we load stuff.\n"
     ]
    }
   ],
   "source": [
    "#TAKING THE COLOUMNS WHICH ARE TO USED FOR TRAINING THE MODEL\n",
    "#16 MAR-MAY\n",
    "#20- AVG OF 10 DAYS JUNE \n",
    "#21- DIFFERENCE OF RAINFALL FROM MAY TO JUNE\n",
    "#19 - BINARY CLASS OF FLOOD- 0 OR 1 or -1\n",
    "#MORE DATA CAN BE ADDED FOR TRAINING, BY JUST ADDING MORE NUMBER OF COLOUMNS FROM THE CSV FILE\n",
    "\n",
    "#WE USE LOGISTIC REGRESSION FOR TRAINING\n",
    "X = x.ix[:,{16,20,21}].values\n",
    "y1=x.ix[:,19].values\n",
    "(X_train, X_test, Y_train, Y_test) = train_test_split(X, y1, random_state=0)\n"
   ]
  },
  {
   "cell_type": "code",
   "execution_count": 8,
   "metadata": {},
   "outputs": [
    {
     "name": "stdout",
     "output_type": "stream",
     "text": [
      "0.896551724137931\n"
     ]
    },
    {
     "name": "stderr",
     "output_type": "stream",
     "text": [
      "c:\\users\\rahul\\appdata\\local\\programs\\python\\python36\\lib\\site-packages\\sklearn\\linear_model\\logistic.py:432: FutureWarning: Default solver will be changed to 'lbfgs' in 0.22. Specify a solver to silence this warning.\n",
      "  FutureWarning)\n",
      "c:\\users\\rahul\\appdata\\local\\programs\\python\\python36\\lib\\site-packages\\sklearn\\linear_model\\logistic.py:469: FutureWarning: Default multi_class will be changed to 'auto' in 0.22. Specify the multi_class option to silence this warning.\n",
      "  \"this warning.\", FutureWarning)\n"
     ]
    }
   ],
   "source": [
    "Lr=LogisticRegression()\n",
    "\n",
    "Lr.fit(X,y1)\n",
    "print(Lr.score(X_test,Y_test)) \n"
   ]
  },
  {
   "cell_type": "code",
   "execution_count": 9,
   "metadata": {},
   "outputs": [
    {
     "data": {
      "text/plain": [
       "array(['-1', '0', '1'], dtype=object)"
      ]
     },
     "execution_count": 9,
     "metadata": {},
     "output_type": "execute_result"
    }
   ],
   "source": [
    "np.unique(y1)"
   ]
  },
  {
   "cell_type": "code",
   "execution_count": 10,
   "metadata": {},
   "outputs": [],
   "source": [
    "import pickle\n",
    "Pkl_Filename = \"Gujrat.pkl\"  \n",
    "\n",
    "with open(Pkl_Filename, 'wb') as file:  \n",
    "    pickle.dump(Lr, file)"
   ]
  },
  {
   "cell_type": "code",
   "execution_count": null,
   "metadata": {},
   "outputs": [],
   "source": []
  },
  {
   "cell_type": "code",
   "execution_count": null,
   "metadata": {},
   "outputs": [],
   "source": []
  }
 ],
 "metadata": {
  "kernelspec": {
   "display_name": "Python 3",
   "language": "python",
   "name": "python3"
  },
  "language_info": {
   "codemirror_mode": {
    "name": "ipython",
    "version": 3
   },
   "file_extension": ".py",
   "mimetype": "text/x-python",
   "name": "python",
   "nbconvert_exporter": "python",
   "pygments_lexer": "ipython3",
   "version": "3.6.7"
  }
 },
 "nbformat": 4,
 "nbformat_minor": 2
}
