{
 "cells": [
  {
   "cell_type": "code",
   "execution_count": 1,
   "metadata": {},
   "outputs": [],
   "source": [
    "import pandas as pd\n",
    "import matplotlib.pyplot as plt\n",
    "import numpy as np\n"
   ]
  },
  {
   "cell_type": "code",
   "execution_count": 2,
   "metadata": {},
   "outputs": [],
   "source": [
    "x=pd.read_csv(\"JHARKHAND.csv\")\n"
   ]
  },
  {
   "cell_type": "code",
   "execution_count": 3,
   "metadata": {},
   "outputs": [],
   "source": [
    "columns_to_drop = [\"Unnamed: 0\"]\n",
    "data_clean = x.drop(columns_to_drop,axis = 1)\n",
    "x = data_clean\n"
   ]
  },
  {
   "cell_type": "code",
   "execution_count": null,
   "metadata": {},
   "outputs": [],
   "source": []
  },
  {
   "cell_type": "code",
   "execution_count": 4,
   "metadata": {},
   "outputs": [
    {
     "data": {
      "image/png": "[encoded data removed]",
      "text/plain": [
       "<Figure size 432x288 with 1 Axes>"
      ]
     },
     "metadata": {
      "needs_background": "light"
     },
     "output_type": "display_data"
    }
   ],
   "source": [
    "y1=list(x[\"YEAR\"])\n",
    "x1=list(x[\"Jun-Sep\"])\n",
    "z1=list(x[\"JUN\"])\n",
    "w1=list(x[\"MAY\"])\n",
    "\n",
    "plt.plot(y1, x1,'|')\n",
    "plt.show()"
   ]
  },
  {
   "cell_type": "code",
   "execution_count": 5,
   "metadata": {},
   "outputs": [
    {
     "name": "stdout",
     "output_type": "stream",
     "text": [
      "    SUBDIVISION  YEAR    JAN    FEB   MAR   APR    MAY    JUN    JUL    AUG  \\\n",
      "0     JHARKHAND  1901   92.7   66.6  11.1  18.4   33.5   70.9  269.4  415.1   \n",
      "1     JHARKHAND  1902    4.2    7.7  13.2  28.5   59.8   89.9  456.1  204.9   \n",
      "2     JHARKHAND  1903   25.1   19.5  10.7  32.8   56.4  142.1  206.1  280.8   \n",
      "3     JHARKHAND  1904    2.5   17.0  38.1   9.1  116.1  308.9  494.1  336.1   \n",
      "4     JHARKHAND  1905   38.4   53.3  61.6  32.9   66.2   41.5  420.3  293.7   \n",
      "5     JHARKHAND  1906   45.8  128.5  35.9   1.7   33.9  170.9  355.6  251.6   \n",
      "6     JHARKHAND  1907    2.0   59.3  76.0  26.3   27.4  338.1  230.4  469.4   \n",
      "7     JHARKHAND  1908   12.2   46.4   4.8   0.6   48.6  210.1  326.2  368.0   \n",
      "8     JHARKHAND  1909   32.2   10.1   0.9  78.8   27.2  314.0  319.9  360.3   \n",
      "9     JHARKHAND  1910   20.7    9.0   2.4  24.4   43.7  255.5  268.6  334.5   \n",
      "10    JHARKHAND  1911    0.7    0.2  31.5   7.7   25.5  391.6  164.2  410.3   \n",
      "11    JHARKHAND  1912    1.7   25.1  15.2  29.7   42.4  125.2  361.7  347.6   \n",
      "12    JHARKHAND  1913    1.9  111.6  40.1   1.0   77.9  375.5  321.3  383.8   \n",
      "13    JHARKHAND  1914    0.1   24.6  19.4  23.6  150.1  123.8  354.4  337.0   \n",
      "14    JHARKHAND  1915    7.7   36.7  33.4  10.7   58.6  149.7  270.2  220.5   \n",
      "15    JHARKHAND  1916    0.0   14.3   0.2  17.1   22.6  283.5  224.9  303.2   \n",
      "16    JHARKHAND  1917    1.7   40.1  17.1   9.0  107.1  287.0  359.5  372.8   \n",
      "17    JHARKHAND  1918    4.2    2.4   3.6  15.5   78.5  324.0  149.7  406.7   \n",
      "18    JHARKHAND  1919  102.9   16.2  23.5  19.0   67.9  367.3  331.8  398.2   \n",
      "19    JHARKHAND  1920    0.0   19.5  62.6   8.8   41.9  109.4  660.2  321.6   \n",
      "20    JHARKHAND  1921   37.1   11.0   1.4  20.8   12.9  228.2  325.2  391.5   \n",
      "21    JHARKHAND  1922    8.2    6.2   0.0  14.5   19.5  305.3  404.7  365.9   \n",
      "22    JHARKHAND  1923    0.7   68.3   5.3   5.1   26.7  186.0  398.4  552.5   \n",
      "23    JHARKHAND  1924   23.0   16.6   1.9  12.2   26.3  148.7  431.8  269.6   \n",
      "24    JHARKHAND  1925    4.7    6.1  12.1  37.1   84.6  196.5  428.3  314.0   \n",
      "25    JHARKHAND  1926   33.5    3.4  95.0  13.5   41.5   55.7  466.5  391.2   \n",
      "26    JHARKHAND  1927   27.9   99.0  31.6   2.9   41.7   92.3  452.5  311.6   \n",
      "27    JHARKHAND  1928   51.4   11.8   3.0  26.4   48.1  313.4  396.7  213.7   \n",
      "28    JHARKHAND  1929   63.9   15.2  12.7  11.4   29.5  111.4  541.7  412.2   \n",
      "29    JHARKHAND  1930    0.9    4.3   7.7  18.1   16.5  125.5  506.8  361.4   \n",
      "..          ...   ...    ...    ...   ...   ...    ...    ...    ...    ...   \n",
      "85    JHARKHAND  1986    6.9   21.2   3.8  25.0   74.8  253.0  352.2  212.9   \n",
      "86    JHARKHAND  1987    5.9   10.1  10.9  30.3   44.9   93.1  410.8  371.1   \n",
      "87    JHARKHAND  1988    3.1   37.1  42.2  23.7   23.6  303.6  273.5  276.1   \n",
      "88    JHARKHAND  1989    1.9    0.3   2.8   0.1   66.4  246.0  285.6  258.9   \n",
      "89    JHARKHAND  1990    0.8   48.0  22.2  15.4   90.6  197.4  430.7  230.8   \n",
      "90    JHARKHAND  1991   19.3    8.0  31.1  11.2   33.7  171.3  252.9  384.0   \n",
      "91    JHARKHAND  1992    2.3    6.1   0.6   8.8   51.8  129.8  295.7  265.2   \n",
      "92    JHARKHAND  1993    1.7    2.0  16.1  32.0   50.5  203.2  214.4  245.9   \n",
      "93    JHARKHAND  1994   17.7   23.8   0.6  20.0   29.2  391.3  451.6  360.7   \n",
      "94    JHARKHAND  1995   13.7    9.7  22.4   4.3   30.3  134.2  312.3  301.5   \n",
      "95    JHARKHAND  1996   17.1   24.4   4.9   8.0   18.5  302.7  274.1  384.3   \n",
      "96    JHARKHAND  1997    9.5    3.7   1.5  29.4   25.2  230.4  400.5  431.6   \n",
      "97    JHARKHAND  1998   76.3   20.6  54.1  33.8   45.5  109.9  302.4  263.2   \n",
      "98    JHARKHAND  1999    0.6    0.1   0.1   1.5   95.4  240.2  416.0  373.1   \n",
      "99    JHARKHAND  2000    3.6   21.2   6.3  19.6   67.7  185.3  358.4  152.8   \n",
      "100   JHARKHAND  2001    1.9    4.0  30.0  14.0   57.4  324.7  354.6  219.4   \n",
      "101   JHARKHAND  2002    9.0    5.4  10.7  11.5   38.7  184.9  186.8  277.4   \n",
      "102   JHARKHAND  2003    3.3   30.5  33.6  17.9   21.5  152.4  247.5  245.1   \n",
      "103   JHARKHAND  2004    5.5    2.7   3.1  41.0   31.1  184.4  200.7  327.0   \n",
      "104   JHARKHAND  2005   22.1   17.5  17.7   9.6   23.5  157.2  266.4  214.5   \n",
      "105   JHARKHAND  2006    0.3    0.2  22.4  15.7  107.4  198.3  447.1  337.2   \n",
      "106   JHARKHAND  2007    1.7   48.4  25.5  22.3   58.1  125.4  430.4  353.6   \n",
      "107   JHARKHAND  2008   19.4    3.6   6.2  10.7   42.9  366.3  377.9  310.5   \n",
      "108   JHARKHAND  2009    1.8    0.8   2.0   0.8   78.1   62.7  266.6  248.0   \n",
      "109   JHARKHAND  2010    0.2    2.3   0.9   6.3   29.2   92.6  170.2  155.1   \n",
      "110   JHARKHAND  2011    3.3    2.5   6.4  25.4   55.0  349.0  181.8  403.2   \n",
      "111   JHARKHAND  2012   34.6   10.3   1.5   9.6    6.6  121.1  287.2  282.4   \n",
      "112   JHARKHAND  2013    1.1   17.9   1.6  22.3   85.0  181.5  211.1  278.1   \n",
      "113   JHARKHAND  2014    9.9   47.5  22.9   1.9   98.2  139.7  321.3  290.9   \n",
      "114   JHARKHAND  2015   12.2    2.6  21.6  55.5   25.5  183.3  429.7  240.7   \n",
      "\n",
      "     ...    NOV   DEC  ANNUAL  Jan-Feb  Mar-May  Jun-Sep  Oct-Dec  flood  \\\n",
      "0    ...   11.5   0.0  1274.5    159.3     63.0   1003.4     48.8      0   \n",
      "1    ...    5.9   3.2  1197.6     11.9    101.5   1057.5     26.7      0   \n",
      "2    ...    0.5   0.0  1174.3     44.6     99.9    819.3    210.6     -1   \n",
      "3    ...    2.3   0.4  1480.7     19.6    163.3   1264.6     33.3      1   \n",
      "4    ...    0.0   2.7  1354.7     91.7    160.7   1078.3     24.0      0   \n",
      "5    ...    7.1   1.1  1314.3    174.3     71.5    963.5    105.0     -1   \n",
      "6    ...    0.0  24.8  1455.7     61.4    129.7   1238.1     26.5      1   \n",
      "7    ...    0.1   0.1  1214.2     58.7     54.0   1075.9     25.6     -1   \n",
      "8    ...    0.0  13.3  1447.9     42.3    106.9   1262.0     36.7      1   \n",
      "9    ...    9.4   0.3  1297.6     29.7     70.5   1103.3     94.0     -1   \n",
      "10   ...   39.7   0.0  1475.4      0.9     64.7   1269.6    140.2      1   \n",
      "11   ...   51.2   0.0  1142.9     26.9     87.4    943.2     85.5     -1   \n",
      "12   ...   18.3  16.3  1585.6    113.5    118.9   1244.8    108.4      1   \n",
      "13   ...    0.0   6.2  1215.5     24.8    193.1    974.7     23.0      0   \n",
      "14   ...   39.9   0.1  1102.3     44.4    102.7    855.1    100.0     -1   \n",
      "15   ...   13.8   0.0  1364.3     14.3     39.9   1043.1    267.0     -1   \n",
      "16   ...    1.2   0.5  1724.4     41.8    133.2   1270.5    278.8      1   \n",
      "17   ...    0.0   0.5  1162.6      6.5     97.6   1056.3      2.2     -1   \n",
      "18   ...    3.4   0.1  1633.5    119.1    110.4   1313.0     91.0      1   \n",
      "19   ...    0.0   0.0  1415.0     19.5    113.3   1275.9      6.3      1   \n",
      "20   ...    0.0   0.0  1233.8     48.1     35.2   1127.7     22.8     -1   \n",
      "21   ...    9.2   0.9  1443.2     14.4     34.0   1325.9     68.9      1   \n",
      "22   ...   18.2   0.6  1431.9     69.0     37.1   1260.9     64.8      1   \n",
      "23   ...  103.1   0.0  1431.8     39.5     40.4   1173.7    178.2     -1   \n",
      "24   ...    7.7   0.5  1327.6     10.8    133.8   1111.3     71.7     -1   \n",
      "25   ...    2.9  21.0  1478.4     36.9    150.0   1223.0     68.5      1   \n",
      "26   ...   15.8   0.0  1283.1    126.8     76.3   1012.8     67.2     -1   \n",
      "27   ...    0.1   4.4  1384.0     63.2     77.4   1055.5    187.8     -1   \n",
      "28   ...    0.0  52.5  1611.5     79.1     53.5   1190.0    288.8     -1   \n",
      "29   ...  121.1   4.4  1434.0      5.2     42.3   1216.5    170.0      1   \n",
      "..   ...    ...   ...     ...      ...      ...      ...      ...    ...   \n",
      "85   ...   31.1  37.9  1335.6     28.1    103.7   1006.6    197.2     -1   \n",
      "86   ...   31.4   5.4  1332.7     15.9     86.1   1174.1     56.6     -1   \n",
      "87   ...    2.6   1.6  1153.7     40.2     89.5    981.1     42.9     -1   \n",
      "88   ...    8.6  19.7  1149.0      2.2     69.3   1009.5     67.9     -1   \n",
      "89   ...   14.2   0.3  1404.2     48.7    128.2   1084.8    142.6     -1   \n",
      "90   ...    1.9  34.2  1250.9     27.3     76.0   1082.2     65.5     -1   \n",
      "91   ...    1.6   0.3   933.0      8.3     61.2    839.2     24.3     -1   \n",
      "92   ...   16.2   0.0  1204.0      3.7     98.6   1035.9     65.9     -1   \n",
      "93   ...    2.7   0.1  1579.4     41.5     49.8   1366.3    121.8      1   \n",
      "94   ...   84.7  20.1  1366.5     23.5     56.9   1143.9    142.2     -1   \n",
      "95   ...    0.1   0.0  1191.7     41.5     31.4   1094.8     24.1     -1   \n",
      "96   ...   39.0  36.6  1461.3     13.2     56.1   1262.1    129.8      1   \n",
      "97   ...   26.3   0.7  1353.8     97.0    133.4    964.1    159.3     -1   \n",
      "98   ...    3.3   0.2  1586.9      0.7     97.0   1345.1    144.1      1   \n",
      "99   ...    0.4   0.2  1191.5     24.7     93.6   1053.4     19.7     -1   \n",
      "100  ...    0.2   0.0  1254.4      5.8    101.4   1031.5    115.7     -1   \n",
      "101  ...    1.3   0.8  1034.9     14.4     60.9    902.5     57.1     -1   \n",
      "102  ...    6.2   7.4  1245.0     33.9     73.1    869.0    269.1     -1   \n",
      "103  ...    0.1   1.6  1136.6      8.2     75.2    923.5    129.7     -1   \n",
      "104  ...    1.3   6.1   960.4     39.6     50.7    779.5     90.5     -1   \n",
      "105  ...    7.4   0.0  1459.5      0.5    145.5   1281.4     32.0      1   \n",
      "106  ...    7.6   0.0  1437.3     50.1    105.8   1234.1     47.2      1   \n",
      "107  ...    1.0   0.0  1325.3     22.9     59.7   1207.7     35.0      1   \n",
      "108  ...    4.0   0.5   996.1      2.6     80.8    826.1     86.6      0   \n",
      "109  ...    4.7  20.0   697.1      2.5     36.4    578.4     79.8      0   \n",
      "110  ...    0.0   0.1  1374.7      5.8     86.8   1258.7     23.4      1   \n",
      "111  ...   48.6   7.6  1065.0     45.0     17.7    908.3     94.0     -1   \n",
      "112  ...    0.0   0.0  1253.6     19.0    109.0    844.5    281.1     -1   \n",
      "113  ...    0.0   1.2  1156.6     57.4    123.1    930.1     46.1     -1   \n",
      "114  ...    0.2   2.7  1081.8     14.8    102.6    938.8     25.6     -1   \n",
      "\n",
      "        avgjune    sub  \n",
      "0     23.633333   37.4  \n",
      "1     29.966667   30.1  \n",
      "2     47.366667   85.7  \n",
      "3    102.966667  192.8  \n",
      "4     13.833333   24.7  \n",
      "5     56.966667  137.0  \n",
      "6    112.700000  310.7  \n",
      "7     70.033333  161.5  \n",
      "8    104.666667  286.8  \n",
      "9     85.166667  211.8  \n",
      "10   130.533333  366.1  \n",
      "11    41.733333   82.8  \n",
      "12   125.166667  297.6  \n",
      "13    41.266667   26.3  \n",
      "14    49.900000   91.1  \n",
      "15    94.500000  260.9  \n",
      "16    95.666667  179.9  \n",
      "17   108.000000  245.5  \n",
      "18   122.433333  299.4  \n",
      "19    36.466667   67.5  \n",
      "20    76.066667  215.3  \n",
      "21   101.766667  285.8  \n",
      "22    62.000000  159.3  \n",
      "23    49.566667  122.4  \n",
      "24    65.500000  111.9  \n",
      "25    18.566667   14.2  \n",
      "26    30.766667   50.6  \n",
      "27   104.466667  265.3  \n",
      "28    37.133333   81.9  \n",
      "29    41.833333  109.0  \n",
      "..          ...    ...  \n",
      "85    84.333333  178.2  \n",
      "86    31.033333   48.2  \n",
      "87   101.200000  280.0  \n",
      "88    82.000000  179.6  \n",
      "89    65.800000  106.8  \n",
      "90    57.100000  137.6  \n",
      "91    43.266667   78.0  \n",
      "92    67.733333  152.7  \n",
      "93   130.433333  362.1  \n",
      "94    44.733333  103.9  \n",
      "95   100.900000  284.2  \n",
      "96    76.800000  205.2  \n",
      "97    36.633333   64.4  \n",
      "98    80.066667  144.8  \n",
      "99    61.766667  117.6  \n",
      "100  108.233333  267.3  \n",
      "101   61.633333  146.2  \n",
      "102   50.800000  130.9  \n",
      "103   61.466667  153.3  \n",
      "104   52.400000  133.7  \n",
      "105   66.100000   90.9  \n",
      "106   41.800000   67.3  \n",
      "107  122.100000  323.4  \n",
      "108   20.900000   15.4  \n",
      "109   30.866667   63.4  \n",
      "110  116.333333  294.0  \n",
      "111   40.366667  114.5  \n",
      "112   60.500000   96.5  \n",
      "113   46.566667   41.5  \n",
      "114   61.100000  157.8  \n",
      "\n",
      "[115 rows x 22 columns]\n"
     ]
    }
   ],
   "source": [
    "flood=[]\n",
    "june=[]\n",
    "sub=[]\n",
    "#APPROAXIMATELY FINDING THE RAINFALL DATA FOR 10 DAYS FOR THE MONTH OF JUNE IN EVERY YEAR FROM 1901 TO 2015\n",
    "for k in range(0,len(x1)):\n",
    "    june.append(z1[k]/3)\n",
    "\n",
    "#FINDING THE INCREASE IN RAINFALL FROM THE MONTH OF MAY TO THE MONTH OF JUNE IN EVERY YEAR FROM 1901 TO 2015\n",
    "for k in range(0,len(x1)):\n",
    "    sub.append(abs(w1[k]-z1[k]))\n",
    "\n",
    "\n",
    "#CREATING A NEW COLOUMN WITH BINARY CLASSIFICATION DEPENDING IF THAT YEAR HAD FLOODED OR NOT, USING RAINFALL OF THAT YEAR AS THRESHOLD\n",
    "#flood,rain,heavy rain\n",
    "for i in range(0,len(x1)):\n",
    "    if x1[i]>1200 or june[i] > 120 or sub[i] > 300:\n",
    "        flood.append('1')\n",
    "    elif x1[i] < 650  or june[i] < 30  or sub[i] < 40:\n",
    "        flood.append('0')\n",
    "    else:\n",
    "        flood.append('-1')\n",
    "\n",
    "\n",
    "\n",
    "\n",
    "\n",
    "df = pd.DataFrame({'flood':flood})\n",
    "df1=pd.DataFrame({'per_10_days':june})\n",
    "\n",
    "x[\"flood\"]=flood\n",
    "x[\"avgjune\"]=june\n",
    "x[\"sub\"]=sub\n",
    "\n",
    "#SAVING THE NEW CSV FILE WITH THE NEW COLOUMNS\n",
    "x.to_csv(\"out1.csv\")\n",
    "print((x))\n",
    "        \n",
    "        \n",
    "      "
   ]
  },
  {
   "cell_type": "code",
   "execution_count": 6,
   "metadata": {},
   "outputs": [],
   "source": [
    "\n",
    "import scipy \n",
    "from scipy.stats import spearmanr\n",
    "\n",
    "from sklearn.ensemble import RandomForestClassifier\n",
    "from sklearn.preprocessing import scale\n",
    "from sklearn.linear_model import LogisticRegression\n",
    "from sklearn.model_selection import train_test_split\n",
    "from sklearn import preprocessing"
   ]
  },
  {
   "cell_type": "code",
   "execution_count": 7,
   "metadata": {},
   "outputs": [
    {
     "name": "stderr",
     "output_type": "stream",
     "text": [
      "c:\\users\\rahul\\appdata\\local\\programs\\python\\python36\\lib\\site-packages\\ipykernel_launcher.py:9: DeprecationWarning: \n",
      ".ix is deprecated. Please use\n",
      ".loc for label based indexing or\n",
      ".iloc for positional indexing\n",
      "\n",
      "See the documentation here:\n",
      "http://pandas.pydata.org/pandas-docs/stable/indexing.html#ix-indexer-is-deprecated\n",
      "  if __name__ == '__main__':\n",
      "c:\\users\\rahul\\appdata\\local\\programs\\python\\python36\\lib\\site-packages\\ipykernel_launcher.py:10: DeprecationWarning: \n",
      ".ix is deprecated. Please use\n",
      ".loc for label based indexing or\n",
      ".iloc for positional indexing\n",
      "\n",
      "See the documentation here:\n",
      "http://pandas.pydata.org/pandas-docs/stable/indexing.html#ix-indexer-is-deprecated\n",
      "  # Remove the CWD from sys.path while we load stuff.\n"
     ]
    }
   ],
   "source": [
    "#TAKING THE COLOUMNS WHICH ARE TO USED FOR TRAINING THE MODEL\n",
    "#16 MAR-MAY\n",
    "#20- AVG OF 10 DAYS JUNE \n",
    "#21- DIFFERENCE OF RAINFALL FROM MAY TO JUNE\n",
    "#19 - BINARY CLASS OF FLOOD- 0 OR 1 or -1\n",
    "#MORE DATA CAN BE ADDED FOR TRAINING, BY JUST ADDING MORE NUMBER OF COLOUMNS FROM THE CSV FILE\n",
    "\n",
    "#WE USE LOGISTIC REGRESSION FOR TRAINING\n",
    "X = x.ix[:,{16,20,21}].values\n",
    "y1=x.ix[:,19].values\n",
    "(X_train, X_test, Y_train, Y_test) = train_test_split(X, y1, random_state=0)\n"
   ]
  },
  {
   "cell_type": "code",
   "execution_count": 8,
   "metadata": {},
   "outputs": [
    {
     "name": "stdout",
     "output_type": "stream",
     "text": [
      "0.7241379310344828\n"
     ]
    },
    {
     "name": "stderr",
     "output_type": "stream",
     "text": [
      "c:\\users\\rahul\\appdata\\local\\programs\\python\\python36\\lib\\site-packages\\sklearn\\linear_model\\logistic.py:432: FutureWarning: Default solver will be changed to 'lbfgs' in 0.22. Specify a solver to silence this warning.\n",
      "  FutureWarning)\n",
      "c:\\users\\rahul\\appdata\\local\\programs\\python\\python36\\lib\\site-packages\\sklearn\\linear_model\\logistic.py:469: FutureWarning: Default multi_class will be changed to 'auto' in 0.22. Specify the multi_class option to silence this warning.\n",
      "  \"this warning.\", FutureWarning)\n"
     ]
    }
   ],
   "source": [
    "Lr=LogisticRegression()\n",
    "\n",
    "Lr.fit(X,y1)\n",
    "print(Lr.score(X_test,Y_test)) \n"
   ]
  },
  {
   "cell_type": "code",
   "execution_count": 9,
   "metadata": {},
   "outputs": [
    {
     "data": {
      "text/plain": [
       "array(['-1', '0', '1'], dtype=object)"
      ]
     },
     "execution_count": 9,
     "metadata": {},
     "output_type": "execute_result"
    }
   ],
   "source": [
    "np.unique(y1)"
   ]
  },
  {
   "cell_type": "code",
   "execution_count": 10,
   "metadata": {},
   "outputs": [],
   "source": [
    "import pickle\n",
    "Pkl_Filename = \"jharkhand.pkl\"  \n",
    "\n",
    "with open(Pkl_Filename, 'wb') as file:  \n",
    "    pickle.dump(Lr, file)"
   ]
  },
  {
   "cell_type": "code",
   "execution_count": null,
   "metadata": {},
   "outputs": [],
   "source": []
  },
  {
   "cell_type": "code",
   "execution_count": null,
   "metadata": {},
   "outputs": [],
   "source": []
  }
 ],
 "metadata": {
  "kernelspec": {
   "display_name": "Python 3",
   "language": "python",
   "name": "python3"
  },
  "language_info": {
   "codemirror_mode": {
    "name": "ipython",
    "version": 3
   },
   "file_extension": ".py",
   "mimetype": "text/x-python",
   "name": "python",
   "nbconvert_exporter": "python",
   "pygments_lexer": "ipython3",
   "version": "3.6.7"
  }
 },
 "nbformat": 4,
 "nbformat_minor": 2
}
