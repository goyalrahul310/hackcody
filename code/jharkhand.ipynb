{
 "cells": [
  {
   "cell_type": "code",
   "execution_count": 1,
   "metadata": {},
   "outputs": [],
   "source": [
    "import pandas as pd\n",
    "import matplotlib.pyplot as plt\n",
    "import numpy as np\n"
   ]
  },
  {
   "cell_type": "code",
   "execution_count": 2,
   "metadata": {},
   "outputs": [],
   "source": [
    "x=pd.read_csv(\"HARYANA DELHI & CHANDIGARH.csv\")\n"
   ]
  },
  {
   "cell_type": "code",
   "execution_count": 3,
   "metadata": {},
   "outputs": [],
   "source": [
    "columns_to_drop = [\"Unnamed: 0\"]\n",
    "data_clean = x.drop(columns_to_drop,axis = 1)\n",
    "x = data_clean\n"
   ]
  },
  {
   "cell_type": "code",
   "execution_count": null,
   "metadata": {},
   "outputs": [],
   "source": []
  },
  {
   "cell_type": "code",
   "execution_count": 4,
   "metadata": {},
   "outputs": [
    {
     "data": {
      "image/png": "[encoded data removed]",
      "text/plain": [
       "<Figure size 432x288 with 1 Axes>"
      ]
     },
     "metadata": {
      "needs_background": "light"
     },
     "output_type": "display_data"
    }
   ],
   "source": [
    "y1=list(x[\"YEAR\"])\n",
    "x1=list(x[\"Jun-Sep\"])\n",
    "z1=list(x[\"JUN\"])\n",
    "w1=list(x[\"MAY\"])\n",
    "\n",
    "plt.plot(y1, x1,'|')\n",
    "plt.show()"
   ]
  },
  {
   "cell_type": "code",
   "execution_count": 5,
   "metadata": {},
   "outputs": [
    {
     "name": "stdout",
     "output_type": "stream",
     "text": [
      "                    SUBDIVISION  YEAR   JAN   FEB   MAR   APR   MAY    JUN  \\\n",
      "0    HARYANA DELHI & CHANDIGARH  1901  35.4  28.9  11.1   0.0   5.1   13.2   \n",
      "1    HARYANA DELHI & CHANDIGARH  1902   0.0   0.7   2.9  10.2  15.8   74.6   \n",
      "2    HARYANA DELHI & CHANDIGARH  1903  14.7   0.5   2.3   0.5   8.5    8.6   \n",
      "3    HARYANA DELHI & CHANDIGARH  1904   7.6   0.7  48.0   0.5  29.3   34.3   \n",
      "4    HARYANA DELHI & CHANDIGARH  1905  44.8  20.8  14.0   1.3   7.4   20.1   \n",
      "5    HARYANA DELHI & CHANDIGARH  1906   3.6  64.1  31.4   0.1   1.4   70.2   \n",
      "6    HARYANA DELHI & CHANDIGARH  1907  14.3  42.8  25.9  33.5   7.8   20.0   \n",
      "7    HARYANA DELHI & CHANDIGARH  1908  31.4   6.1   0.1   7.6  22.4   14.5   \n",
      "8    HARYANA DELHI & CHANDIGARH  1909   5.9  13.1   0.0  78.1   2.8  123.7   \n",
      "9    HARYANA DELHI & CHANDIGARH  1910  19.7   5.1   0.1   2.1   3.1   69.0   \n",
      "10   HARYANA DELHI & CHANDIGARH  1911  66.5   1.3  53.3   0.7   0.1   53.1   \n",
      "11   HARYANA DELHI & CHANDIGARH  1912  43.4  12.5   9.0   9.2   2.8   26.5   \n",
      "12   HARYANA DELHI & CHANDIGARH  1913   1.1  42.9  22.4   1.9  69.7  111.8   \n",
      "13   HARYANA DELHI & CHANDIGARH  1914   2.3   7.0   4.7  22.7  21.0   51.1   \n",
      "14   HARYANA DELHI & CHANDIGARH  1915  30.7  49.1  40.9   7.1   8.0   39.9   \n",
      "15   HARYANA DELHI & CHANDIGARH  1916   0.5  15.7   0.2   2.3  12.5   71.2   \n",
      "16   HARYANA DELHI & CHANDIGARH  1917   6.1   7.4   3.2  34.5  25.8   64.6   \n",
      "17   HARYANA DELHI & CHANDIGARH  1918  10.0   0.0  11.1   9.9   1.1   34.3   \n",
      "18   HARYANA DELHI & CHANDIGARH  1919  61.0   2.7   8.4   2.3  14.8    7.0   \n",
      "19   HARYANA DELHI & CHANDIGARH  1920  11.2  12.9  13.2   0.2  21.6   73.0   \n",
      "20   HARYANA DELHI & CHANDIGARH  1921  21.3   1.2   0.5   1.4   0.0   13.7   \n",
      "21   HARYANA DELHI & CHANDIGARH  1922  14.3   4.5   0.6   0.6   1.4   86.7   \n",
      "22   HARYANA DELHI & CHANDIGARH  1923  17.0  52.7   0.8   0.1  19.7   24.8   \n",
      "23   HARYANA DELHI & CHANDIGARH  1924  48.5  18.9   2.0   1.3   5.5   18.5   \n",
      "24   HARYANA DELHI & CHANDIGARH  1925   4.8   0.1   0.1   3.1  11.2  153.8   \n",
      "25   HARYANA DELHI & CHANDIGARH  1926   9.4   9.3  39.2  10.3  33.4   18.4   \n",
      "26   HARYANA DELHI & CHANDIGARH  1927   0.2  34.1  14.8   7.4  13.9   12.2   \n",
      "27   HARYANA DELHI & CHANDIGARH  1928  21.5  28.3   3.4   5.9   3.7   36.5   \n",
      "28   HARYANA DELHI & CHANDIGARH  1929  15.2   0.1   0.0   9.5   3.7   18.7   \n",
      "29   HARYANA DELHI & CHANDIGARH  1930  28.4  11.4   4.0   1.8   3.4   68.6   \n",
      "..                          ...   ...   ...   ...   ...   ...   ...    ...   \n",
      "85   HARYANA DELHI & CHANDIGARH  1986   7.2  31.0  12.7   3.3  36.0   85.1   \n",
      "86   HARYANA DELHI & CHANDIGARH  1987  21.3  27.8  12.4   6.4  62.5   27.7   \n",
      "87   HARYANA DELHI & CHANDIGARH  1988   1.5  13.2  34.5   3.6   3.4   82.4   \n",
      "88   HARYANA DELHI & CHANDIGARH  1989  40.1   0.4  11.7   0.6   2.3   31.6   \n",
      "89   HARYANA DELHI & CHANDIGARH  1990   0.0  79.5   4.9   2.2  21.9   25.3   \n",
      "90   HARYANA DELHI & CHANDIGARH  1991   0.1  19.7   2.9  13.2   6.0   50.4   \n",
      "91   HARYANA DELHI & CHANDIGARH  1992  20.3  16.4   0.5   1.2   7.8   17.2   \n",
      "92   HARYANA DELHI & CHANDIGARH  1993   4.5  16.1  11.3   5.4   8.8   42.0   \n",
      "93   HARYANA DELHI & CHANDIGARH  1994  20.1  11.3   0.6   7.6   8.5   51.3   \n",
      "94   HARYANA DELHI & CHANDIGARH  1995  38.8  21.7   9.8   4.9   0.6   47.2   \n",
      "95   HARYANA DELHI & CHANDIGARH  1996  16.0  30.5  11.6   0.6   5.1  109.4   \n",
      "96   HARYANA DELHI & CHANDIGARH  1997   6.6   2.2  14.6  35.3  38.0   60.2   \n",
      "97   HARYANA DELHI & CHANDIGARH  1998   0.4  24.6  25.4   9.1   6.1   68.4   \n",
      "98   HARYANA DELHI & CHANDIGARH  1999  31.7   0.7   1.4   0.0  20.1   42.2   \n",
      "99   HARYANA DELHI & CHANDIGARH  2000  17.1  29.1   1.4   1.3  22.8   58.9   \n",
      "100  HARYANA DELHI & CHANDIGARH  2001  17.8   5.2   7.2  19.8  47.8  117.2   \n",
      "101  HARYANA DELHI & CHANDIGARH  2002  11.6  31.1   9.0   1.1  52.0   21.2   \n",
      "102  HARYANA DELHI & CHANDIGARH  2003  14.7  29.9   4.0   1.8   7.5   26.6   \n",
      "103  HARYANA DELHI & CHANDIGARH  2004  25.4   0.3   0.0  18.1  40.7   52.5   \n",
      "104  HARYANA DELHI & CHANDIGARH  2005  13.9  35.7  29.9   2.7   7.6   53.9   \n",
      "105  HARYANA DELHI & CHANDIGARH  2006   2.3   0.1  30.4   0.6  24.8   45.4   \n",
      "106  HARYANA DELHI & CHANDIGARH  2007   0.5  76.0  40.1   2.0  12.4   88.7   \n",
      "107  HARYANA DELHI & CHANDIGARH  2008   2.4   0.4   0.6  13.4  72.9  193.5   \n",
      "108  HARYANA DELHI & CHANDIGARH  2009   4.1   5.9   5.7  11.7  17.7   15.2   \n",
      "109  HARYANA DELHI & CHANDIGARH  2010   4.8  10.2   0.5   0.8   5.9   29.1   \n",
      "110  HARYANA DELHI & CHANDIGARH  2011   0.7  26.7   6.9   8.9  28.7   94.4   \n",
      "111  HARYANA DELHI & CHANDIGARH  2012   8.2   0.2   0.1  11.8   3.8    5.3   \n",
      "112  HARYANA DELHI & CHANDIGARH  2013  21.1  52.2   5.3   3.3   1.4   62.1   \n",
      "113  HARYANA DELHI & CHANDIGARH  2014  13.0  17.3  26.8   7.5  20.3   25.9   \n",
      "114  HARYANA DELHI & CHANDIGARH  2015  12.4   6.6  71.8  34.8   8.4   43.7   \n",
      "\n",
      "       JUL    AUG  ...   NOV   DEC  ANNUAL  Jan-Feb  Mar-May  Jun-Sep  \\\n",
      "0    126.4  151.5  ...   0.0   6.1   390.1     64.3     16.2    301.6   \n",
      "1    149.3   97.1  ...   0.0   0.0   419.8      0.7     28.9    380.9   \n",
      "2    151.6  138.2  ...   0.0   2.3   428.9     15.2     11.3    396.1   \n",
      "3    109.7  162.9  ...  10.4  20.3   527.8      8.3     77.8    409.3   \n",
      "4     93.6   23.1  ...   0.0   5.1   322.9     65.7     22.7    229.4   \n",
      "5    128.9  103.8  ...   0.0   5.0   593.6     67.7     32.9    488.0   \n",
      "6    123.2  175.3  ...   0.0   0.0   443.9     57.1     67.2    319.5   \n",
      "7    196.6  398.2  ...   1.1   0.6   689.0     37.5     30.1    619.5   \n",
      "8    228.7  118.9  ...   0.0  32.7   769.3     19.0     80.9    633.7   \n",
      "9    107.9  150.4  ...   0.0   0.8   605.2     24.8      5.3    487.0   \n",
      "10    26.3   49.3  ...  39.7   0.0   509.7     67.8     54.1    337.4   \n",
      "11   161.1  134.2  ...  10.5   0.5   529.3     55.9     21.0    441.4   \n",
      "12   142.9   82.3  ...   0.9   9.3   508.4     43.9     94.0    359.6   \n",
      "13   252.0  100.0  ...   2.0   0.3   664.7      9.3     48.4    586.0   \n",
      "14    66.9   69.9  ...   0.0   1.8   422.4     79.9     55.9    278.4   \n",
      "15   139.7  217.7  ...   0.0   0.0   629.1     16.2     14.9    536.4   \n",
      "16   164.3  210.9  ...   0.0   7.5   986.7     13.5     63.5    801.2   \n",
      "17    20.0  142.1  ...   0.8   0.0   234.7     10.1     22.2    201.4   \n",
      "18   208.7  172.1  ...   3.4  22.8   553.7     63.8     25.4    438.3   \n",
      "19   194.8   30.8  ...   0.0   0.1   368.8     24.1     35.1    308.1   \n",
      "20   100.2  189.5  ...   0.0   3.0   446.5     22.5      2.0    389.5   \n",
      "21   139.6   99.7  ...   0.0  27.1   552.9     18.8      2.7    502.6   \n",
      "22   183.7  221.3  ...   0.3  34.4   581.5     69.7     20.6    447.4   \n",
      "23    98.3  151.3  ...   2.5  15.0   654.8     67.4      8.8    515.6   \n",
      "24   247.0  108.6  ...  12.2   0.3   557.2      5.0     14.4    519.6   \n",
      "25   190.0  257.4  ...   2.4   0.1   615.9     18.7     82.8    511.3   \n",
      "26   160.9  163.9  ...   1.7  32.5   502.5     34.3     36.1    379.7   \n",
      "27   131.0   77.6  ...  20.3  16.8   388.2     49.8     13.0    280.7   \n",
      "28   135.2   82.8  ...   0.0  26.2   306.6     15.4     13.2    248.1   \n",
      "29   266.5   78.4  ...   0.9   2.1   500.5     39.8      9.2    445.9   \n",
      "..     ...    ...  ...   ...   ...     ...      ...      ...      ...   \n",
      "85    92.5  108.9  ...   0.7   9.5   450.9     38.2     52.1    339.3   \n",
      "86    26.4  106.6  ...   0.0   6.3   318.6     49.1     81.3    178.7   \n",
      "87   288.5  222.5  ...   0.1  12.0   845.0     14.7     41.5    776.7   \n",
      "88    90.8  152.5  ...   5.2  12.4   416.5     40.5     14.6    343.6   \n",
      "89   201.2  137.7  ...  14.1  19.2   703.1     79.5     28.9    558.7   \n",
      "90    55.3  187.9  ...   3.8  16.2   393.9     19.7     22.2    330.5   \n",
      "91   124.5  171.6  ...   7.2   0.0   429.7     36.7      9.6    372.3   \n",
      "92   274.6   35.6  ...   0.0   0.0   523.8     20.7     25.5    477.6   \n",
      "93   275.8  160.6  ...   0.1   0.2   564.4     31.4     16.7    515.9   \n",
      "94   115.0  405.3  ...   0.1   0.3   819.1     60.5     15.3    742.7   \n",
      "95    85.8  249.2  ...   0.0   0.3   644.6     46.5     17.3    560.7   \n",
      "96   133.6  226.8  ...  13.4  47.3   668.6      8.8     87.9    457.5   \n",
      "97   154.8  161.6  ...   5.8   0.0   685.3     25.0     40.6    535.6   \n",
      "98   109.8   78.7  ...   0.0   0.4   344.4     32.4     21.5    285.4   \n",
      "99   146.8   87.9  ...   0.4   1.2   384.4     46.2     25.6    311.1   \n",
      "100  145.2  103.5  ...   0.1   0.2   485.5     23.0     74.8    376.3   \n",
      "101   19.4   78.2  ...   0.0   8.8   357.2     42.7     62.1    241.8   \n",
      "102  277.6  165.3  ...   0.1  11.0   597.6     44.6     13.3    528.5   \n",
      "103   19.9  252.9  ...   0.0   1.2   487.3     25.7     58.8    347.5   \n",
      "104  175.6   52.6  ...   0.8   0.0   519.5     49.6     40.3    428.8   \n",
      "105  135.2   32.1  ...   1.2   5.2   330.9      2.4     55.7    262.6   \n",
      "106   82.0   87.9  ...   0.3   1.4   446.6     76.5     54.6    313.7   \n",
      "107  124.3  174.2  ...   5.5   0.2   710.4      2.8     86.9    606.6   \n",
      "108  106.4   63.8  ...   1.1   0.4   395.4     10.0     35.2    346.3   \n",
      "109  189.3  198.5  ...   3.5  12.8   640.5     15.0      7.2    600.8   \n",
      "110   85.0  127.3  ...   0.0   0.4   512.0     27.5     44.4    439.8   \n",
      "111   68.1  196.6  ...   0.6   3.5   391.4      8.4     15.8    360.7   \n",
      "112   96.5  161.9  ...   1.7   2.1   461.2     73.2     10.0    363.3   \n",
      "113   72.3   34.8  ...   0.2   9.6   305.5     30.3     54.6    200.2   \n",
      "114  130.3   89.2  ...   2.3   0.2   435.3     18.9    114.9    295.2   \n",
      "\n",
      "     Oct-Dec  flood    avgjune    sub  \n",
      "0        8.1      0   4.400000    8.1  \n",
      "1        9.3      0  24.866667   58.8  \n",
      "2        6.2      0   2.866667    0.1  \n",
      "3       32.3      0  11.433333    5.0  \n",
      "4        5.1      0   6.700000   12.7  \n",
      "5        5.0      0  23.400000   68.8  \n",
      "6        0.1      0   6.666667   12.2  \n",
      "7        2.0      0   4.833333    7.9  \n",
      "8       35.8     -1  41.233333  120.9  \n",
      "9       88.1      0  23.000000   65.9  \n",
      "10      50.4      0  17.700000   53.0  \n",
      "11      11.0      0   8.833333   23.7  \n",
      "12      10.9      0  37.266667   42.1  \n",
      "13      21.0      0  17.033333   30.1  \n",
      "14       8.2      0  13.300000   31.9  \n",
      "15      61.6      0  23.733333   58.7  \n",
      "16     108.5      1  21.533333   38.8  \n",
      "17       1.1      0  11.433333   33.2  \n",
      "18      26.2      0   2.333333    7.8  \n",
      "19       1.5      0  24.333333   51.4  \n",
      "20      32.5      0   4.566667   13.7  \n",
      "21      28.7      0  28.900000   85.3  \n",
      "22      43.8      0   8.266667    5.1  \n",
      "23      63.0      0   6.166667   13.0  \n",
      "24      18.2      1  51.266667  142.6  \n",
      "25       3.0      0   6.133333   15.0  \n",
      "26      52.4      0   4.066667    1.7  \n",
      "27      44.6      0  12.166667   32.8  \n",
      "28      30.0      0   6.233333   15.0  \n",
      "29       5.7      0  22.866667   65.2  \n",
      "..       ...    ...        ...    ...  \n",
      "85      21.4      0  28.366667   49.1  \n",
      "86       9.5      0   9.233333   34.8  \n",
      "87      12.1      0  27.466667   79.0  \n",
      "88      17.8      0  10.533333   29.3  \n",
      "89      36.0      0   8.433333    3.4  \n",
      "90      21.4      0  16.800000   44.4  \n",
      "91      11.1      0   5.733333    9.4  \n",
      "92       0.0      0  14.000000   33.2  \n",
      "93       0.3      0  17.100000   42.8  \n",
      "94       0.7      0  15.733333   46.6  \n",
      "95      20.2     -1  36.466667  104.3  \n",
      "96     114.4      0  20.066667   22.2  \n",
      "97      84.0      0  22.800000   62.3  \n",
      "98       5.1      0  14.066667   22.1  \n",
      "99       1.6      0  19.633333   36.1  \n",
      "100     11.4     -1  39.066667   69.4  \n",
      "101     10.7      0   7.066667   30.8  \n",
      "102     11.2      0   8.866667   19.1  \n",
      "103     55.3      0  17.500000   11.8  \n",
      "104      0.8      0  17.966667   46.3  \n",
      "105     10.2      0  15.133333   20.6  \n",
      "106      1.7      0  29.566667   76.3  \n",
      "107     14.1     -1  64.500000  120.6  \n",
      "108      4.0      0   5.066667    2.5  \n",
      "109     17.5      0   9.700000   23.2  \n",
      "110      0.4     -1  31.466667   65.7  \n",
      "111      6.5      0   1.766667    1.5  \n",
      "112     14.7      0  20.700000   60.7  \n",
      "113     20.3      0   8.633333    5.6  \n",
      "114      6.2      0  14.566667   35.3  \n",
      "\n",
      "[115 rows x 22 columns]\n"
     ]
    }
   ],
   "source": [
    "flood=[]\n",
    "june=[]\n",
    "sub=[]\n",
    "#APPROAXIMATELY FINDING THE RAINFALL DATA FOR 10 DAYS FOR THE MONTH OF JUNE IN EVERY YEAR FROM 1901 TO 2015\n",
    "for k in range(0,len(x1)):\n",
    "    june.append(z1[k]/3)\n",
    "\n",
    "#FINDING THE INCREASE IN RAINFALL FROM THE MONTH OF MAY TO THE MONTH OF JUNE IN EVERY YEAR FROM 1901 TO 2015\n",
    "for k in range(0,len(x1)):\n",
    "    sub.append(abs(w1[k]-z1[k]))\n",
    "\n",
    "\n",
    "#CREATING A NEW COLOUMN WITH BINARY CLASSIFICATION DEPENDING IF THAT YEAR HAD FLOODED OR NOT, USING RAINFALL OF THAT YEAR AS THRESHOLD\n",
    "#flood,rain,heavy rain\n",
    "for i in range(0,len(x1)):\n",
    "    if x1[i]>800 or june[i] > 110 or sub[i] > 140:\n",
    "        flood.append('1')\n",
    "    elif x1[i] < 100  or june[i] < 30  or sub[i] < 50:\n",
    "        flood.append('0')\n",
    "    else:\n",
    "        flood.append('-1')\n",
    "\n",
    "\n",
    "\n",
    "\n",
    "\n",
    "df = pd.DataFrame({'flood':flood})\n",
    "df1=pd.DataFrame({'per_10_days':june})\n",
    "\n",
    "x[\"flood\"]=flood\n",
    "x[\"avgjune\"]=june\n",
    "x[\"sub\"]=sub\n",
    "\n",
    "#SAVING THE NEW CSV FILE WITH THE NEW COLOUMNS\n",
    "x.to_csv(\"out1.csv\")\n",
    "print((x))\n",
    "        \n",
    "        \n",
    "      "
   ]
  },
  {
   "cell_type": "code",
   "execution_count": 6,
   "metadata": {},
   "outputs": [],
   "source": [
    "\n",
    "import scipy \n",
    "from scipy.stats import spearmanr\n",
    "\n",
    "from sklearn.ensemble import RandomForestClassifier\n",
    "from sklearn.preprocessing import scale\n",
    "from sklearn.linear_model import LogisticRegression\n",
    "from sklearn.model_selection import train_test_split\n",
    "from sklearn import preprocessing"
   ]
  },
  {
   "cell_type": "code",
   "execution_count": 7,
   "metadata": {},
   "outputs": [
    {
     "name": "stderr",
     "output_type": "stream",
     "text": [
      "c:\\users\\rahul\\appdata\\local\\programs\\python\\python36\\lib\\site-packages\\ipykernel_launcher.py:9: DeprecationWarning: \n",
      ".ix is deprecated. Please use\n",
      ".loc for label based indexing or\n",
      ".iloc for positional indexing\n",
      "\n",
      "See the documentation here:\n",
      "http://pandas.pydata.org/pandas-docs/stable/indexing.html#ix-indexer-is-deprecated\n",
      "  if __name__ == '__main__':\n",
      "c:\\users\\rahul\\appdata\\local\\programs\\python\\python36\\lib\\site-packages\\ipykernel_launcher.py:10: DeprecationWarning: \n",
      ".ix is deprecated. Please use\n",
      ".loc for label based indexing or\n",
      ".iloc for positional indexing\n",
      "\n",
      "See the documentation here:\n",
      "http://pandas.pydata.org/pandas-docs/stable/indexing.html#ix-indexer-is-deprecated\n",
      "  # Remove the CWD from sys.path while we load stuff.\n"
     ]
    }
   ],
   "source": [
    "#TAKING THE COLOUMNS WHICH ARE TO USED FOR TRAINING THE MODEL\n",
    "#16 MAR-MAY\n",
    "#20- AVG OF 10 DAYS JUNE \n",
    "#21- DIFFERENCE OF RAINFALL FROM MAY TO JUNE\n",
    "#19 - BINARY CLASS OF FLOOD- 0 OR 1 or -1\n",
    "#MORE DATA CAN BE ADDED FOR TRAINING, BY JUST ADDING MORE NUMBER OF COLOUMNS FROM THE CSV FILE\n",
    "\n",
    "#WE USE LOGISTIC REGRESSION FOR TRAINING\n",
    "X = x.ix[:,{16,20,21}].values\n",
    "y1=x.ix[:,19].values\n",
    "(X_train, X_test, Y_train, Y_test) = train_test_split(X, y1, random_state=0)\n"
   ]
  },
  {
   "cell_type": "code",
   "execution_count": 8,
   "metadata": {},
   "outputs": [
    {
     "name": "stdout",
     "output_type": "stream",
     "text": [
      "0.8620689655172413\n"
     ]
    },
    {
     "name": "stderr",
     "output_type": "stream",
     "text": [
      "c:\\users\\rahul\\appdata\\local\\programs\\python\\python36\\lib\\site-packages\\sklearn\\linear_model\\logistic.py:432: FutureWarning: Default solver will be changed to 'lbfgs' in 0.22. Specify a solver to silence this warning.\n",
      "  FutureWarning)\n",
      "c:\\users\\rahul\\appdata\\local\\programs\\python\\python36\\lib\\site-packages\\sklearn\\linear_model\\logistic.py:469: FutureWarning: Default multi_class will be changed to 'auto' in 0.22. Specify the multi_class option to silence this warning.\n",
      "  \"this warning.\", FutureWarning)\n"
     ]
    }
   ],
   "source": [
    "Lr=LogisticRegression()\n",
    "\n",
    "Lr.fit(X,y1)\n",
    "print(Lr.score(X_test,Y_test)) \n"
   ]
  },
  {
   "cell_type": "code",
   "execution_count": 9,
   "metadata": {},
   "outputs": [
    {
     "data": {
      "text/plain": [
       "array(['-1', '0', '1'], dtype=object)"
      ]
     },
     "execution_count": 9,
     "metadata": {},
     "output_type": "execute_result"
    }
   ],
   "source": [
    "np.unique(y1)"
   ]
  },
  {
   "cell_type": "code",
   "execution_count": 10,
   "metadata": {},
   "outputs": [],
   "source": [
    "import pickle\n",
    "Pkl_Filename = \"delhincr.pkl\"  \n",
    "\n",
    "with open(Pkl_Filename, 'wb') as file:  \n",
    "    pickle.dump(Lr, file)"
   ]
  },
  {
   "cell_type": "code",
   "execution_count": null,
   "metadata": {},
   "outputs": [],
   "source": []
  },
  {
   "cell_type": "code",
   "execution_count": null,
   "metadata": {},
   "outputs": [],
   "source": []
  }
 ],
 "metadata": {
  "kernelspec": {
   "display_name": "Python 3",
   "language": "python",
   "name": "python3"
  },
  "language_info": {
   "codemirror_mode": {
    "name": "ipython",
    "version": 3
   },
   "file_extension": ".py",
   "mimetype": "text/x-python",
   "name": "python",
   "nbconvert_exporter": "python",
   "pygments_lexer": "ipython3",
   "version": "3.6.7"
  }
 },
 "nbformat": 4,
 "nbformat_minor": 2
}
