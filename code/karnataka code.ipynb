{
 "cells": [
  {
   "cell_type": "code",
   "execution_count": 1,
   "metadata": {},
   "outputs": [],
   "source": [
    "import pandas as pd\n",
    "import matplotlib.pyplot as plt\n",
    "import numpy as np\n"
   ]
  },
  {
   "cell_type": "code",
   "execution_count": 2,
   "metadata": {},
   "outputs": [],
   "source": [
    "x=pd.read_csv(\"COASTAL KARNATAKA.csv\")\n"
   ]
  },
  {
   "cell_type": "code",
   "execution_count": 3,
   "metadata": {},
   "outputs": [],
   "source": [
    "columns_to_drop = [\"Unnamed: 0\"]\n",
    "data_clean = x.drop(columns_to_drop,axis = 1)\n",
    "x = data_clean\n"
   ]
  },
  {
   "cell_type": "code",
   "execution_count": null,
   "metadata": {},
   "outputs": [],
   "source": []
  },
  {
   "cell_type": "code",
   "execution_count": 4,
   "metadata": {},
   "outputs": [
    {
     "data": {
      "image/png": "[encoded data removed]",
      "text/plain": [
       "<Figure size 432x288 with 1 Axes>"
      ]
     },
     "metadata": {
      "needs_background": "light"
     },
     "output_type": "display_data"
    }
   ],
   "source": [
    "y1=list(x[\"YEAR\"])\n",
    "x1=list(x[\"Jun-Sep\"])\n",
    "z1=list(x[\"JUN\"])\n",
    "w1=list(x[\"MAY\"])\n",
    "\n",
    "plt.plot(y1, x1,'|')\n",
    "plt.show()"
   ]
  },
  {
   "cell_type": "code",
   "execution_count": 5,
   "metadata": {},
   "outputs": [
    {
     "name": "stdout",
     "output_type": "stream",
     "text": [
      "           SUBDIVISION  YEAR       JAN   FEB    MAR    APR    MAY     JUN  \\\n",
      "0    COASTAL KARNATAKA  1901   1.80000   0.6   10.7   52.4   81.6   960.9   \n",
      "1    COASTAL KARNATAKA  1902   3.20000   0.3    4.9   10.2   54.6   698.4   \n",
      "2    COASTAL KARNATAKA  1903   0.70000   0.0    0.0    4.1  202.8   536.5   \n",
      "3    COASTAL KARNATAKA  1904   2.40000   0.0    4.8   23.7   93.2  1108.2   \n",
      "4    COASTAL KARNATAKA  1905   0.00000   0.2    0.0    6.4   83.1   767.3   \n",
      "5    COASTAL KARNATAKA  1906  23.00000   0.0    0.0    0.5   29.8   593.6   \n",
      "6    COASTAL KARNATAKA  1907   7.00000   0.0    2.7   91.3   19.0   845.9   \n",
      "7    COASTAL KARNATAKA  1908   0.00000   3.1    0.9   46.1   38.0   708.6   \n",
      "8    COASTAL KARNATAKA  1909   4.00000   1.0    3.7    6.3  200.1   943.1   \n",
      "9    COASTAL KARNATAKA  1910   0.00000   0.0    5.0    6.2   40.2  1042.2   \n",
      "10   COASTAL KARNATAKA  1911   0.00000   0.0    0.0    3.2   71.0   749.5   \n",
      "11   COASTAL KARNATAKA  1912   1.10000   0.0    0.0   30.5   64.0   787.6   \n",
      "12   COASTAL KARNATAKA  1913   0.00000   0.4    0.5   10.6   74.2   786.5   \n",
      "13   COASTAL KARNATAKA  1914   0.00000   0.0    0.0    7.2   36.9   743.2   \n",
      "14   COASTAL KARNATAKA  1915   0.10000   2.3    2.0   48.8   75.2   785.0   \n",
      "15   COASTAL KARNATAKA  1916   0.00000   0.0    0.3   25.2   88.7  1051.4   \n",
      "16   COASTAL KARNATAKA  1917   0.00000  29.8    7.1   10.2   52.6  1075.7   \n",
      "17   COASTAL KARNATAKA  1918   3.40000   0.3    3.9   11.4  699.5   564.4   \n",
      "18   COASTAL KARNATAKA  1919   0.00000   0.0    0.0    2.4   74.4   669.9   \n",
      "19   COASTAL KARNATAKA  1920   2.10000   0.0    0.1   72.7   29.2   813.3   \n",
      "20   COASTAL KARNATAKA  1921  13.00000   0.0    3.5   62.4   18.6   699.4   \n",
      "21   COASTAL KARNATAKA  1922   6.50000   3.1    0.0   44.8  123.4   763.1   \n",
      "22   COASTAL KARNATAKA  1923   0.80000   0.2   32.2    9.8   52.8   604.8   \n",
      "23   COASTAL KARNATAKA  1924   0.00000   0.0   14.8   46.0   47.2   889.6   \n",
      "24   COASTAL KARNATAKA  1925   0.00000   0.0   17.1   20.8  176.6  1176.4   \n",
      "25   COASTAL KARNATAKA  1926  12.30000   2.0    0.1    7.3   15.3   686.3   \n",
      "26   COASTAL KARNATAKA  1927   0.00000   0.0    0.6   21.5   80.1   683.4   \n",
      "27   COASTAL KARNATAKA  1928   0.10000  29.3   21.7   36.3   17.1   844.6   \n",
      "28   COASTAL KARNATAKA  1929   1.90000   0.2    2.5  105.6  114.7  1361.6   \n",
      "29   COASTAL KARNATAKA  1930   1.20000   0.2    0.0   19.3  171.5   910.9   \n",
      "..                 ...   ...       ...   ...    ...    ...    ...     ...   \n",
      "85   COASTAL KARNATAKA  1986   0.30000   0.1    4.8    6.2   20.9   976.5   \n",
      "86   COASTAL KARNATAKA  1987   0.00000   0.0    0.2    1.7   63.5   728.3   \n",
      "87   COASTAL KARNATAKA  1988   0.00000   0.2    0.0   32.0   28.4   689.3   \n",
      "88   COASTAL KARNATAKA  1989   0.00000   0.0    8.4   22.4   53.6   982.5   \n",
      "89   COASTAL KARNATAKA  1990   1.70000   0.0    0.1    5.2  343.2   997.0   \n",
      "90   COASTAL KARNATAKA  1991   0.10000   0.0    0.3   47.7   95.9   939.9   \n",
      "91   COASTAL KARNATAKA  1992   0.00000   0.0    0.0   17.2   77.0   873.2   \n",
      "92   COASTAL KARNATAKA  1993   0.00000   0.1    6.7   21.7   68.3   591.2   \n",
      "93   COASTAL KARNATAKA  1994   3.50000   0.0    6.3   72.9   44.1  1221.1   \n",
      "94   COASTAL KARNATAKA  1995   3.70000   0.0    0.7   21.1  137.8   535.8   \n",
      "95   COASTAL KARNATAKA  1996   0.30000   0.0    0.4   20.3   26.2   787.0   \n",
      "96   COASTAL KARNATAKA  1997   0.70000   0.0   14.9   21.5   23.1   818.6   \n",
      "97   COASTAL KARNATAKA  1998   0.00000   0.0    1.4    6.6   72.0   966.4   \n",
      "98   COASTAL KARNATAKA  1999   0.00000   0.4    0.4    7.1  335.5   854.1   \n",
      "99   COASTAL KARNATAKA  2000  14.90000   0.5    0.9   25.8  216.4   966.8   \n",
      "100  COASTAL KARNATAKA  2001   0.60000   0.4    0.4   71.4  156.9   930.0   \n",
      "101  COASTAL KARNATAKA  2002   0.60000  11.2    0.5   30.9  164.0   764.5   \n",
      "102  COASTAL KARNATAKA  2003   0.10000   3.6    8.4   37.3   10.2   973.8   \n",
      "103  COASTAL KARNATAKA  2004   0.00000   0.0    6.3   24.7  329.2   805.8   \n",
      "104  COASTAL KARNATAKA  2005   0.50000   0.2    0.0   72.5   45.0   821.6   \n",
      "105  COASTAL KARNATAKA  2006   1.00000   0.0    4.7    5.9  355.7   800.1   \n",
      "106  COASTAL KARNATAKA  2007   0.00000   0.0    0.6   40.2   61.1   952.0   \n",
      "107  COASTAL KARNATAKA  2008   0.00000  14.8  161.4   33.4   64.3   850.7   \n",
      "108  COASTAL KARNATAKA  2009   0.40000   0.0   35.2   24.5  100.7   450.3   \n",
      "109  COASTAL KARNATAKA  2010  14.40000   0.4    3.5   62.2   80.2   682.7   \n",
      "110  COASTAL KARNATAKA  2011   4.80000   3.8    8.7   66.1   49.3  1018.4   \n",
      "111  COASTAL KARNATAKA  2012  18.95732  11.4    5.1   77.0   22.9   650.9   \n",
      "112  COASTAL KARNATAKA  2013   2.40000  19.6   19.0   28.5  100.4  1153.0   \n",
      "113  COASTAL KARNATAKA  2014   0.00000   0.3    1.9   40.5  181.9   507.0   \n",
      "114  COASTAL KARNATAKA  2015   1.40000   1.0   32.3   72.2  150.3   735.3   \n",
      "\n",
      "        JUL     AUG  ...    NOV    DEC     ANNUAL    Jan-Feb  Mar-May  \\\n",
      "0     991.2   606.4  ...  104.9   17.8  3056.9000   2.400000    144.7   \n",
      "1    1401.6   454.2  ...   50.8  132.2  3699.2000   3.500000     69.7   \n",
      "2    1405.5   593.8  ...   79.3    5.3  3317.4000   0.700000    206.9   \n",
      "3    1070.0   465.6  ...    0.7    0.0  3141.1000   2.400000    121.7   \n",
      "4     777.3   586.9  ...   36.1    0.0  2652.3000   0.200000     89.4   \n",
      "5    1173.4   535.0  ...   22.1   56.8  2836.0000  23.000000     30.3   \n",
      "6    1166.3  1026.1  ...   55.8    9.8  3535.2000   7.000000    113.0   \n",
      "7    1904.9   766.6  ...    2.5    0.0  3655.5000   3.100000     85.0   \n",
      "8    1285.6   315.6  ...   47.8    3.2  3172.9000   5.000000    210.1   \n",
      "9     589.5   651.2  ...   67.0    0.0  3020.8000   0.000000     51.4   \n",
      "10    830.1   538.3  ...   41.6   17.5  2522.3000   0.000000     74.2   \n",
      "11   1261.5   789.2  ...   80.1    0.4  3395.9000   1.100000     94.4   \n",
      "12   1048.0   410.7  ...    1.2    4.0  2836.3000   0.400000     85.3   \n",
      "13   1583.7   933.8  ...  102.7   36.6  3872.7000   0.000000     44.1   \n",
      "14    773.2   388.9  ...   96.9    4.2  2648.7000   2.300000    126.0   \n",
      "15    633.5   617.0  ...  255.2    0.0  3467.9000   0.000000    114.3   \n",
      "16    766.1   597.6  ...   64.8    0.0  3424.1000  29.800000     70.0   \n",
      "17    360.6   485.4  ...  168.8   14.2  2510.9000   3.700000    714.9   \n",
      "18    960.9   632.7  ...  124.0    9.3  2918.1000   0.000000     76.8   \n",
      "19   1107.5   464.7  ...   36.3    0.0  2789.2000   2.100000    102.0   \n",
      "20    871.9   841.6  ...   41.3    0.0  3007.4000  13.000000     84.5   \n",
      "21   1333.2   564.9  ...   89.4    0.0  3332.6000   9.700000    168.2   \n",
      "22   1627.2  1013.2  ...    6.6    5.8  3681.1000   1.000000     94.7   \n",
      "23   1515.4   602.7  ...   30.8    5.2  3528.9000   0.000000    108.0   \n",
      "24   1117.2   733.7  ...   27.7   17.2  3581.3000   0.000000    214.6   \n",
      "25    976.4   850.3  ...    4.0    0.1  2956.4000  14.300000     22.6   \n",
      "26   1313.2   535.8  ...  151.3    0.0  3216.4000   0.000000    102.2   \n",
      "27   1108.8   836.6  ...   12.0    9.3  3339.6000  29.400000     75.0   \n",
      "28    901.3   566.9  ...   61.4    0.2  3663.6000   2.200000    222.8   \n",
      "29    706.8   420.8  ...   14.2   12.6  2913.0000   1.400000    190.8   \n",
      "..      ...     ...  ...    ...    ...        ...        ...      ...   \n",
      "85    723.3   808.9  ...  112.5    2.5  2934.5000   0.400000     32.0   \n",
      "86    704.5   715.6  ...   74.9   14.7  2716.2000   0.000000     65.4   \n",
      "87   1295.8   832.6  ...    2.4   11.3  3466.6000   0.200000     60.5   \n",
      "88    914.4   829.3  ...   31.9    0.3  3215.6000   0.000000     84.4   \n",
      "89   1110.8  1087.0  ...   93.6    1.5  4120.4000   1.700000    348.4   \n",
      "90   1501.7   896.5  ...   45.6    0.7  3719.7000   0.100000    143.9   \n",
      "91   1087.5  1097.5  ...  241.8    0.0  3882.2000   0.000000     94.2   \n",
      "92   1397.3   742.0  ...   40.8   51.5  3481.3000   0.100000     96.7   \n",
      "93   1748.2   907.0  ...   28.6    0.5  4636.3000   3.500000    123.2   \n",
      "94   1375.7   685.1  ...   57.4    0.0  3357.8000   3.700000    159.6   \n",
      "95   1122.6   617.9  ...   27.5   37.8  3188.9000   0.300000     46.9   \n",
      "96   1494.1  1146.0  ...  109.8   59.2  3953.6000   0.700000     59.5   \n",
      "97   1092.0   633.9  ...   80.6   11.3  3707.9000   0.000000     80.0   \n",
      "98   1525.9   518.4  ...   12.8    0.5  3779.9000   0.400000    343.0   \n",
      "99    915.6   741.7  ...   12.5    2.4  3351.3000  15.500000    243.0   \n",
      "100   926.9   654.4  ...   48.6    0.6  3111.6000   1.000000    228.7   \n",
      "101   545.7   731.3  ...   20.7    0.3  2793.1000  11.800000    195.3   \n",
      "102   970.6   637.5  ...   10.7    0.0  3071.9000   3.800000     55.9   \n",
      "103   718.1   874.5  ...   52.1    0.0  3070.0000   0.100000    360.3   \n",
      "104  1177.3   692.0  ...   24.6    2.3  3470.9000   0.600000    117.5   \n",
      "105  1100.8   855.6  ...   97.4    0.0  3837.3000   1.000000    366.3   \n",
      "106  1004.4   980.4  ...   37.5    0.8  3860.2000   0.000000    101.9   \n",
      "107   687.8   886.3  ...   19.3   13.5  3206.4000  14.800000    259.0   \n",
      "108  1778.9   486.1  ...  132.4   35.4  3862.0000   0.400000    160.4   \n",
      "109  1200.2   637.5  ...  231.5   11.0  3686.8000  14.800000    145.9   \n",
      "110  1080.5   861.3  ...   81.5   10.2  3908.6000   8.600000    124.1   \n",
      "111   754.6  1027.6  ...   68.0    3.6  1411.0089  40.747786    104.9   \n",
      "112  1515.3   680.2  ...   56.9   10.0  4229.4000  21.900000    147.9   \n",
      "113  1155.4  1121.0  ...   40.0   30.8  3684.4000   0.300000    224.3   \n",
      "114   930.9   575.2  ...  124.2   14.3  3106.0000   2.400000    254.8   \n",
      "\n",
      "     Jun-Sep  Oct-Dec  flood     avgjune     sub  \n",
      "0     2666.6    243.3     -1  320.300000   879.3  \n",
      "1     3262.6    363.5      1  232.800000   643.8  \n",
      "2     2840.1    269.6     -1  178.833333   333.7  \n",
      "3     2889.1    127.9      1  369.400000  1015.0  \n",
      "4     2304.3    258.4     -1  255.766667   684.2  \n",
      "5     2575.2    207.5     -1  197.866667   563.8  \n",
      "6     3261.9    153.2      1  281.966667   826.9  \n",
      "7     3508.1     59.3      1  236.200000   670.6  \n",
      "8     2838.1    119.8     -1  314.366667   743.0  \n",
      "9     2724.7    244.8     -1  347.400000  1002.0  \n",
      "10    2228.2    219.9     -1  249.833333   678.5  \n",
      "11    2999.1    301.4     -1  262.533333   723.6  \n",
      "12    2406.3    344.3     -1  262.166667   712.3  \n",
      "13    3563.4    265.2      1  247.733333   706.3  \n",
      "14    2250.9    269.4     -1  261.666667   709.8  \n",
      "15    2889.7    463.9      1  350.466667   962.7  \n",
      "16    2939.9    384.4      1  358.566667  1023.1  \n",
      "17    1544.7    247.7     -1  188.133333   135.1  \n",
      "18    2471.8    369.6     -1  223.300000   595.5  \n",
      "19    2519.0    166.1     -1  271.100000   784.1  \n",
      "20    2740.0    170.0     -1  233.133333   680.8  \n",
      "21    2975.6    179.1     -1  254.366667   639.7  \n",
      "22    3528.5     56.9      1  201.600000   552.0  \n",
      "23    3290.5    130.4      1  296.533333   842.4  \n",
      "24    3108.7    258.1      1  392.133333   999.8  \n",
      "25    2771.7    147.7     -1  228.766667   671.0  \n",
      "26    2852.3    261.9     -1  227.800000   603.3  \n",
      "27    2897.4    337.7     -1  281.533333   827.5  \n",
      "28    3095.0    343.5      1  453.866667  1246.9  \n",
      "29    2439.7    281.0     -1  303.633333   739.4  \n",
      "..       ...      ...    ...         ...     ...  \n",
      "85    2685.0    217.1     -1  325.500000   955.6  \n",
      "86    2329.0    321.8     -1  242.766667   664.8  \n",
      "87    3269.5    136.4      1  229.766667   660.9  \n",
      "88    2960.9    170.3     -1  327.500000   928.9  \n",
      "89    3460.2    310.1      1  332.333333   653.8  \n",
      "90    3417.5    158.1      1  313.300000   844.0  \n",
      "91    3412.6    375.4      1  291.066667   796.2  \n",
      "92    2944.8    439.8     -1  197.066667   522.9  \n",
      "93    4144.4    365.2      1  407.033333  1177.0  \n",
      "94    2945.0    249.5     -1  178.600000   398.0  \n",
      "95    2816.8    324.9     -1  262.333333   760.8  \n",
      "96    3575.8    317.5      1  272.866667   795.5  \n",
      "97    3265.1    362.9      1  322.133333   894.4  \n",
      "98    3084.9    351.5      1  284.700000   518.6  \n",
      "99    2903.3    189.6     -1  322.266667   750.4  \n",
      "100   2663.1    218.9     -1  310.000000   773.1  \n",
      "101   2205.0    381.0     -1  254.833333   600.5  \n",
      "102   2817.9    194.4     -1  324.600000   963.6  \n",
      "103   2552.8    156.8     -1  268.600000   476.6  \n",
      "104   3147.2    205.6      1  273.866667   776.6  \n",
      "105   3160.6    309.4      1  266.700000   444.4  \n",
      "106   3567.2    191.1      1  317.333333   890.9  \n",
      "107   2808.1    124.4     -1  283.566667   786.4  \n",
      "108   3246.0    455.2      1  150.100000   349.6  \n",
      "109   2988.9    537.2     -1  227.566667   602.5  \n",
      "110   3505.4    270.5      1  339.466667   969.1  \n",
      "111   2815.1    186.7     -1  216.966667   628.0  \n",
      "112   3727.6    332.0      1  384.333333  1052.6  \n",
      "113   3162.6    297.2      1  169.000000   325.1  \n",
      "114   2501.8    347.1     -1  245.100000   585.0  \n",
      "\n",
      "[115 rows x 22 columns]\n"
     ]
    }
   ],
   "source": [
    "flood=[]\n",
    "june=[]\n",
    "sub=[]\n",
    "#APPROAXIMATELY FINDING THE RAINFALL DATA FOR 10 DAYS FOR THE MONTH OF JUNE IN EVERY YEAR FROM 1901 TO 2015\n",
    "for k in range(0,len(x1)):\n",
    "    june.append(z1[k]/3)\n",
    "\n",
    "#FINDING THE INCREASE IN RAINFALL FROM THE MONTH OF MAY TO THE MONTH OF JUNE IN EVERY YEAR FROM 1901 TO 2015\n",
    "for k in range(0,len(x1)):\n",
    "    sub.append(abs(w1[k]-z1[k]))\n",
    "\n",
    "\n",
    "#CREATING A NEW COLOUMN WITH BINARY CLASSIFICATION DEPENDING IF THAT YEAR HAD FLOODED OR NOT, USING RAINFALL OF THAT YEAR AS THRESHOLD\n",
    "#flood,rain,heavy rain\n",
    "for i in range(0,len(x1)):\n",
    "    if x1[i]>3000 or june[i] > 350 or sub[i] > 1100:\n",
    "        flood.append('1')\n",
    "    elif x1[i] < 1500  or june[i] < 30  or sub[i] < 50:\n",
    "        flood.append('0')\n",
    "    else:\n",
    "        flood.append('-1')\n",
    "\n",
    "\n",
    "\n",
    "\n",
    "\n",
    "df = pd.DataFrame({'flood':flood})\n",
    "df1=pd.DataFrame({'per_10_days':june})\n",
    "\n",
    "x[\"flood\"]=flood\n",
    "x[\"avgjune\"]=june\n",
    "x[\"sub\"]=sub\n",
    "\n",
    "#SAVING THE NEW CSV FILE WITH THE NEW COLOUMNS\n",
    "x.to_csv(\"out1.csv\")\n",
    "print((x))\n",
    "        \n",
    "        \n",
    "      "
   ]
  },
  {
   "cell_type": "code",
   "execution_count": 6,
   "metadata": {},
   "outputs": [],
   "source": [
    "\n",
    "import scipy \n",
    "from scipy.stats import spearmanr\n",
    "\n",
    "from sklearn.ensemble import RandomForestClassifier\n",
    "from sklearn.preprocessing import scale\n",
    "from sklearn.linear_model import LogisticRegression\n",
    "from sklearn.model_selection import train_test_split\n",
    "from sklearn import preprocessing"
   ]
  },
  {
   "cell_type": "code",
   "execution_count": 7,
   "metadata": {},
   "outputs": [
    {
     "name": "stderr",
     "output_type": "stream",
     "text": [
      "c:\\users\\rahul\\appdata\\local\\programs\\python\\python36\\lib\\site-packages\\ipykernel_launcher.py:9: DeprecationWarning: \n",
      ".ix is deprecated. Please use\n",
      ".loc for label based indexing or\n",
      ".iloc for positional indexing\n",
      "\n",
      "See the documentation here:\n",
      "http://pandas.pydata.org/pandas-docs/stable/indexing.html#ix-indexer-is-deprecated\n",
      "  if __name__ == '__main__':\n",
      "c:\\users\\rahul\\appdata\\local\\programs\\python\\python36\\lib\\site-packages\\ipykernel_launcher.py:10: DeprecationWarning: \n",
      ".ix is deprecated. Please use\n",
      ".loc for label based indexing or\n",
      ".iloc for positional indexing\n",
      "\n",
      "See the documentation here:\n",
      "http://pandas.pydata.org/pandas-docs/stable/indexing.html#ix-indexer-is-deprecated\n",
      "  # Remove the CWD from sys.path while we load stuff.\n"
     ]
    }
   ],
   "source": [
    "#TAKING THE COLOUMNS WHICH ARE TO USED FOR TRAINING THE MODEL\n",
    "#16 MAR-MAY\n",
    "#20- AVG OF 10 DAYS JUNE \n",
    "#21- DIFFERENCE OF RAINFALL FROM MAY TO JUNE\n",
    "#19 - BINARY CLASS OF FLOOD- 0 OR 1 or -1\n",
    "#MORE DATA CAN BE ADDED FOR TRAINING, BY JUST ADDING MORE NUMBER OF COLOUMNS FROM THE CSV FILE\n",
    "\n",
    "#WE USE LOGISTIC REGRESSION FOR TRAINING\n",
    "X = x.ix[:,{16,20,21}].values\n",
    "y1=x.ix[:,19].values\n",
    "(X_train, X_test, Y_train, Y_test) = train_test_split(X, y1, random_state=0)\n"
   ]
  },
  {
   "cell_type": "code",
   "execution_count": 8,
   "metadata": {},
   "outputs": [
    {
     "name": "stdout",
     "output_type": "stream",
     "text": [
      "0.6896551724137931\n"
     ]
    },
    {
     "name": "stderr",
     "output_type": "stream",
     "text": [
      "c:\\users\\rahul\\appdata\\local\\programs\\python\\python36\\lib\\site-packages\\sklearn\\linear_model\\logistic.py:432: FutureWarning: Default solver will be changed to 'lbfgs' in 0.22. Specify a solver to silence this warning.\n",
      "  FutureWarning)\n"
     ]
    }
   ],
   "source": [
    "Lr=LogisticRegression()\n",
    "\n",
    "Lr.fit(X,y1)\n",
    "print(Lr.score(X_test,Y_test)) \n"
   ]
  },
  {
   "cell_type": "code",
   "execution_count": 9,
   "metadata": {},
   "outputs": [
    {
     "data": {
      "text/plain": [
       "array(['-1', '1'], dtype=object)"
      ]
     },
     "execution_count": 9,
     "metadata": {},
     "output_type": "execute_result"
    }
   ],
   "source": [
    "np.unique(y1)"
   ]
  },
  {
   "cell_type": "code",
   "execution_count": 10,
   "metadata": {},
   "outputs": [],
   "source": [
    "import pickle\n",
    "Pkl_Filename = \"andhra pradesh.pkl\"  \n",
    "\n",
    "with open(Pkl_Filename, 'wb') as file:  \n",
    "    pickle.dump(Lr, file)"
   ]
  },
  {
   "cell_type": "code",
   "execution_count": null,
   "metadata": {},
   "outputs": [],
   "source": []
  },
  {
   "cell_type": "code",
   "execution_count": null,
   "metadata": {},
   "outputs": [],
   "source": []
  }
 ],
 "metadata": {
  "kernelspec": {
   "display_name": "Python 3",
   "language": "python",
   "name": "python3"
  },
  "language_info": {
   "codemirror_mode": {
    "name": "ipython",
    "version": 3
   },
   "file_extension": ".py",
   "mimetype": "text/x-python",
   "name": "python",
   "nbconvert_exporter": "python",
   "pygments_lexer": "ipython3",
   "version": "3.6.7"
  }
 },
 "nbformat": 4,
 "nbformat_minor": 2
}
