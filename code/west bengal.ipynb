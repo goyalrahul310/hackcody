{
 "cells": [
  {
   "cell_type": "code",
   "execution_count": 28,
   "metadata": {},
   "outputs": [],
   "source": [
    "import pandas as pd\n",
    "import matplotlib.pyplot as plt\n",
    "import numpy as np\n"
   ]
  },
  {
   "cell_type": "code",
   "execution_count": 14,
   "metadata": {},
   "outputs": [],
   "source": [
    "x=pd.read_csv(\"EAST MADHYA PRADESH.csv\")\n"
   ]
  },
  {
   "cell_type": "code",
   "execution_count": 15,
   "metadata": {},
   "outputs": [],
   "source": [
    "columns_to_drop = [\"Unnamed: 0\"]\n",
    "data_clean = x.drop(columns_to_drop,axis = 1)\n",
    "x = data_clean\n"
   ]
  },
  {
   "cell_type": "code",
   "execution_count": null,
   "metadata": {},
   "outputs": [],
   "source": []
  },
  {
   "cell_type": "code",
   "execution_count": 16,
   "metadata": {},
   "outputs": [
    {
     "data": {
      "image/png": "[encoded data removed]",
      "text/plain": [
       "<Figure size 432x288 with 1 Axes>"
      ]
     },
     "metadata": {
      "needs_background": "light"
     },
     "output_type": "display_data"
    }
   ],
   "source": [
    "y1=list(x[\"YEAR\"])\n",
    "x1=list(x[\"Jun-Sep\"])\n",
    "z1=list(x[\"JUN\"])\n",
    "w1=list(x[\"MAY\"])\n",
    "\n",
    "plt.plot(y1, x1,'|')\n",
    "plt.show()"
   ]
  },
  {
   "cell_type": "code",
   "execution_count": 22,
   "metadata": {},
   "outputs": [
    {
     "name": "stdout",
     "output_type": "stream",
     "text": [
      "             SUBDIVISION  YEAR    JAN    FEB   MAR   APR   MAY    JUN    JUL  \\\n",
      "0    EAST MADHYA PRADESH  1901   48.5   38.1  15.7  10.7   6.2   61.0  367.5   \n",
      "1    EAST MADHYA PRADESH  1902   14.9    8.9   0.0   3.6   2.7   28.0  411.9   \n",
      "2    EAST MADHYA PRADESH  1903    5.6    2.9   0.3   0.9  37.5   67.5  261.4   \n",
      "3    EAST MADHYA PRADESH  1904    2.0   15.3  48.2   0.0   8.6  109.9  443.2   \n",
      "4    EAST MADHYA PRADESH  1905   15.9    8.0  14.3  12.3  10.2   34.4  292.4   \n",
      "5    EAST MADHYA PRADESH  1906   12.1   28.3  30.8   0.0   3.5  226.1  444.2   \n",
      "6    EAST MADHYA PRADESH  1907    7.0  103.1   4.5  30.5   5.1   90.9  221.9   \n",
      "7    EAST MADHYA PRADESH  1908   18.2   17.0   9.4   1.4   3.4  117.7  528.9   \n",
      "8    EAST MADHYA PRADESH  1909   19.8   16.3   5.3  72.4   6.2  208.5  387.0   \n",
      "9    EAST MADHYA PRADESH  1910   10.0    0.1   0.2   2.6   9.6  221.3  225.6   \n",
      "10   EAST MADHYA PRADESH  1911   22.7    0.8  15.9   0.8   3.9  204.7  175.9   \n",
      "11   EAST MADHYA PRADESH  1912    8.4   46.0   0.2   4.8   3.1   35.6  460.4   \n",
      "12   EAST MADHYA PRADESH  1913    1.3   58.4  22.7   0.0  24.2  201.6  262.5   \n",
      "13   EAST MADHYA PRADESH  1914    0.1    9.3  56.1  19.8  21.3  107.6  544.5   \n",
      "14   EAST MADHYA PRADESH  1915   16.2   36.7  52.6   8.3  10.4  178.2  378.4   \n",
      "15   EAST MADHYA PRADESH  1916    0.0   26.6   0.1   2.2   6.3  286.0  250.5   \n",
      "16   EAST MADHYA PRADESH  1917    5.8   39.3  25.4   6.4  63.2  223.8  396.4   \n",
      "17   EAST MADHYA PRADESH  1918    1.2    6.5   2.3   1.2  29.1  233.1  191.9   \n",
      "18   EAST MADHYA PRADESH  1919  120.7   29.7  10.8   9.2  23.2  158.9  479.8   \n",
      "19   EAST MADHYA PRADESH  1920   12.2    1.7  17.0   6.3  12.7   93.8  426.4   \n",
      "20   EAST MADHYA PRADESH  1921   24.4    3.4   0.0   0.5   0.0  216.6  255.1   \n",
      "21   EAST MADHYA PRADESH  1922   39.1    6.1   0.5   2.5   0.9  132.7  459.2   \n",
      "22   EAST MADHYA PRADESH  1923    5.1    9.8  20.0   2.1   2.3   27.2  466.7   \n",
      "23   EAST MADHYA PRADESH  1924   29.4    9.0   7.2   1.1   1.4   43.5  547.3   \n",
      "24   EAST MADHYA PRADESH  1925    0.1    0.0   0.0   0.2  29.8  191.9  575.0   \n",
      "25   EAST MADHYA PRADESH  1926   21.1    3.1  49.2  41.0  31.0   26.3  327.2   \n",
      "26   EAST MADHYA PRADESH  1927    8.4   18.7  44.4   1.8   2.5  100.1  430.4   \n",
      "27   EAST MADHYA PRADESH  1928   15.7   52.8   9.1   1.0   2.5  152.7  475.0   \n",
      "28   EAST MADHYA PRADESH  1929   30.0   17.4   0.2  11.2   1.7   94.3  524.9   \n",
      "29   EAST MADHYA PRADESH  1930    2.1    3.5   3.0  31.3   6.9  134.0  597.9   \n",
      "..                   ...   ...    ...    ...   ...   ...   ...    ...    ...   \n",
      "85   EAST MADHYA PRADESH  1986   11.7   99.0  19.8   1.4  11.6  186.8  317.2   \n",
      "86   EAST MADHYA PRADESH  1987   37.7   44.9   8.0   0.1   8.2   45.2  248.6   \n",
      "87   EAST MADHYA PRADESH  1988    7.1   17.6   4.6   5.6   4.1  199.1  363.7   \n",
      "88   EAST MADHYA PRADESH  1989    0.4    0.0  18.5   0.0   3.4  190.3  197.7   \n",
      "89   EAST MADHYA PRADESH  1990    0.8   31.1   2.2   2.1  32.0  315.2  334.7   \n",
      "90   EAST MADHYA PRADESH  1991    3.5    7.8  16.1   3.4   2.6   98.6  319.3   \n",
      "91   EAST MADHYA PRADESH  1992    0.0    0.0   0.5   0.4   7.1   38.4  295.4   \n",
      "92   EAST MADHYA PRADESH  1993    0.0   12.2  15.8   1.0   5.5  105.6  252.9   \n",
      "93   EAST MADHYA PRADESH  1994    9.5   10.7   0.0   9.9   1.0  264.7  550.2   \n",
      "94   EAST MADHYA PRADESH  1995   24.1    8.9  47.0   3.2   2.1   81.0  361.9   \n",
      "95   EAST MADHYA PRADESH  1996   39.1   15.9   3.5   1.9   0.9   67.2  312.4   \n",
      "96   EAST MADHYA PRADESH  1997    4.0    0.0   0.6   7.4   3.3   95.1  449.1   \n",
      "97   EAST MADHYA PRADESH  1998   29.7    5.7  24.1   5.2   2.9   84.4  297.2   \n",
      "98   EAST MADHYA PRADESH  1999    1.5   21.2   0.0   0.0   4.8  122.5  336.3   \n",
      "99   EAST MADHYA PRADESH  2000    0.1    0.0   0.1   0.1   7.4  167.5  377.7   \n",
      "100  EAST MADHYA PRADESH  2001    2.3    0.8   2.4  23.0  12.4  255.5  468.4   \n",
      "101  EAST MADHYA PRADESH  2002    1.8   29.6   1.2   0.2   5.2   93.5   84.7   \n",
      "102  EAST MADHYA PRADESH  2003    0.7   59.6   2.2   1.0   0.4  119.9  366.8   \n",
      "103  EAST MADHYA PRADESH  2004   19.8    0.4   0.0   1.7   3.9  208.1  203.1   \n",
      "104  EAST MADHYA PRADESH  2005   35.2   10.6  27.4   3.4  41.7  163.9  597.2   \n",
      "105  EAST MADHYA PRADESH  2006    0.0    0.0  50.3  14.2  18.0   56.3  373.8   \n",
      "106  EAST MADHYA PRADESH  2007    7.0   26.3   8.6   2.9   6.2   74.8  207.8   \n",
      "107  EAST MADHYA PRADESH  2008    1.4    4.1   8.9   2.5   5.3  307.6  268.2   \n",
      "108  EAST MADHYA PRADESH  2009   14.8    1.0   1.8   2.7   3.7   35.3  317.6   \n",
      "109  EAST MADHYA PRADESH  2010    2.9   10.4   0.1   0.7   1.7   58.4  363.3   \n",
      "110  EAST MADHYA PRADESH  2011    0.6    1.9   0.3   7.1   4.7  332.5  323.6   \n",
      "111  EAST MADHYA PRADESH  2012   39.4    0.7   0.6   1.1   1.2   67.8  398.9   \n",
      "112  EAST MADHYA PRADESH  2013    2.0   43.4  14.1   9.5   0.3  311.9  456.2   \n",
      "113  EAST MADHYA PRADESH  2014   32.1   49.7  17.8   5.1   2.5   91.8  283.4   \n",
      "114  EAST MADHYA PRADESH  2015   37.3   11.0  73.4  25.8   6.3  139.2  262.2   \n",
      "\n",
      "       AUG  ...   NOV    DEC  ANNUAL  Jan-Feb  Mar-May  Jun-Sep  Oct-Dec  \\\n",
      "0    589.2  ...   0.0    0.0  1332.7     86.5     32.7   1207.7      5.9   \n",
      "1    227.0  ...  27.6    6.1   984.2     23.8      6.2    903.5     50.7   \n",
      "2    366.7  ...   0.0    0.0  1178.1      8.5     38.7    953.0    177.9   \n",
      "3    316.6  ...   3.2   16.9  1144.2     17.3     56.7   1005.2     65.0   \n",
      "4    243.3  ...   0.0    1.6   886.0     23.9     36.7    821.0      4.4   \n",
      "5    190.1  ...   1.7    8.8  1369.7     40.4     34.4   1277.3     17.6   \n",
      "6    512.3  ...  13.0    1.2  1009.6    110.1     40.1    845.2     14.2   \n",
      "7    588.6  ...   0.4    5.0  1430.6     35.2     14.1   1362.8     18.4   \n",
      "8    240.5  ...   0.0   42.2  1122.0     36.1     83.9    959.6     42.4   \n",
      "9    377.5  ...  68.3    0.0  1222.2     10.1     12.4   1082.4    117.3   \n",
      "10   362.6  ...  50.5    0.0  1197.1     23.5     20.6   1039.6    113.3   \n",
      "11   373.5  ...  49.2    2.5  1150.6     54.3      8.1   1035.4     52.7   \n",
      "12   281.3  ...   0.7   17.7   936.4     59.8     46.9    808.5     21.2   \n",
      "13   339.8  ...   1.9    2.8  1250.1      9.4     97.2   1130.4     13.1   \n",
      "14   416.2  ...   6.7    2.8  1382.3     52.9     71.3   1132.6    125.6   \n",
      "15   452.7  ...  25.2    0.0  1480.2     26.6      8.5   1242.4    202.6   \n",
      "16   466.3  ...   0.0    3.8  1639.3     45.0     95.0   1432.4     66.8   \n",
      "17   331.9  ...  18.7   11.5   930.5      7.7     32.6    859.8     30.4   \n",
      "18   713.0  ...  10.8    3.3  1747.1    150.3     43.1   1457.3     96.4   \n",
      "19   237.8  ...   0.0    0.0   899.5     13.9     36.0    849.6      0.1   \n",
      "20   379.5  ...   0.0    0.0  1132.1     27.8      0.6   1102.8      0.9   \n",
      "21   321.0  ...  35.0    3.2  1238.0     45.2      4.0   1144.1     44.8   \n",
      "22   676.3  ...   0.2    9.2  1443.9     14.9     24.5   1363.6     40.9   \n",
      "23   377.7  ...  13.8   10.5  1315.3     38.4      9.7   1213.2     54.1   \n",
      "24   287.6  ...  53.8    0.3  1354.5      0.1     30.1   1258.6     65.8   \n",
      "25   551.4  ...   1.2    0.9  1726.8     24.2    121.2   1443.6    138.0   \n",
      "26   382.8  ...  77.7    8.4  1235.9     27.1     48.8   1006.9    153.2   \n",
      "27   185.0  ...   0.0   53.5  1106.9     68.5     12.6    875.7    150.1   \n",
      "28   399.2  ...   0.0   47.9  1247.4     47.4     13.1   1121.4     65.6   \n",
      "29   268.4  ...   5.2    8.5  1203.9      5.5     41.3   1109.5     47.6   \n",
      "..     ...  ...   ...    ...     ...      ...      ...      ...      ...   \n",
      "85   243.0  ...   1.1   41.1  1029.2    110.6     32.9    829.4     56.2   \n",
      "86   307.2  ...  16.9    3.6  1116.1     82.6     16.2    915.4    101.9   \n",
      "87   338.1  ...   0.0    2.2  1069.4     24.7     14.3   1008.3     22.1   \n",
      "88   358.9  ...   1.5   23.6   920.9      0.4     21.9    872.2     26.5   \n",
      "89   285.7  ...   0.0    7.5  1380.0     31.9     36.4   1266.9     44.9   \n",
      "90   488.1  ...   2.9    2.1  1016.9     11.3     22.0    973.4     10.2   \n",
      "91   465.7  ...   0.1    0.0  1051.1      0.1      8.0   1035.1      8.0   \n",
      "92   288.1  ...   0.1    0.0  1118.9     12.2     22.3   1062.5     21.9   \n",
      "93   512.1  ...   0.4    0.0  1533.7     20.2     10.9   1477.5     25.1   \n",
      "94   355.3  ...   2.1   12.8  1032.3     33.1     52.3    926.9     20.1   \n",
      "95   369.5  ...   0.0    0.0   986.6     55.0      6.2    878.1     47.3   \n",
      "96   358.9  ...  76.4  102.6  1357.1      4.0     11.3   1101.1    240.6   \n",
      "97   323.3  ...  33.4    0.0  1013.4     35.4     32.2    892.1     53.8   \n",
      "98   355.9  ...   0.0    0.0  1443.9     22.7      4.8   1337.4     79.0   \n",
      "99   208.2  ...   0.0    0.0   874.2      0.1      7.5    864.9      1.8   \n",
      "100  243.9  ...   1.0    0.0  1170.1      3.1     37.7   1018.2    111.0   \n",
      "101  491.8  ...   5.6    1.2   950.2     31.5      6.6    862.2     49.9   \n",
      "102  370.2  ...   0.5    2.9  1438.1     60.3      3.7   1350.2     23.8   \n",
      "103  369.1  ...   4.1    0.0   955.3     20.2      5.7    900.2     29.3   \n",
      "104  256.6  ...   0.0    4.4  1366.4     45.8     72.5   1216.1     32.0   \n",
      "105  328.3  ...  12.3    3.0   943.4      0.0     82.5    832.6     28.4   \n",
      "106  162.6  ...  22.8    1.5   653.8     33.3     17.7    575.3     27.5   \n",
      "107  270.2  ...   3.0    0.4  1003.2      5.5     16.7    962.2     18.9   \n",
      "108  191.3  ...  79.2   19.0   943.9     15.7      8.2    752.8    167.1   \n",
      "109  271.9  ...  10.9    3.3   960.4     13.2      2.4    907.0     37.8   \n",
      "110  326.9  ...   0.0    0.0  1275.2      2.5     12.1   1259.4      1.1   \n",
      "111  351.7  ...   3.8    2.7  1053.1     40.0      2.9    990.9     19.2   \n",
      "112  480.8  ...   0.5    1.0  1521.9     45.4     23.9   1326.9    125.7   \n",
      "113  231.8  ...   1.9   12.9   924.9     81.8     25.3    746.6     71.2   \n",
      "114  272.1  ...   1.2    0.9   939.2     48.3    105.5    745.1     40.3   \n",
      "\n",
      "     flood     avgjune    sub  \n",
      "0       -1   20.333333   54.8  \n",
      "1        0    9.333333   25.3  \n",
      "2        0   22.500000   30.0  \n",
      "3       -1   36.633333  101.3  \n",
      "4        0   11.466667   24.2  \n",
      "5       -1   75.366667  222.6  \n",
      "6       -1   30.300000   85.8  \n",
      "7       -1   39.233333  114.3  \n",
      "8       -1   69.500000  202.3  \n",
      "9       -1   73.766667  211.7  \n",
      "10      -1   68.233333  200.8  \n",
      "11       0   11.866667   32.5  \n",
      "12      -1   67.200000  177.4  \n",
      "13      -1   35.866667   86.3  \n",
      "14      -1   59.400000  167.8  \n",
      "15      -1   95.333333  279.7  \n",
      "16       1   74.600000  160.6  \n",
      "17      -1   77.700000  204.0  \n",
      "18       1   52.966667  135.7  \n",
      "19      -1   31.266667   81.1  \n",
      "20      -1   72.200000  216.6  \n",
      "21      -1   44.233333  131.8  \n",
      "22       0    9.066667   24.9  \n",
      "23       0   14.500000   42.1  \n",
      "24      -1   63.966667  162.1  \n",
      "25       1    8.766667    4.7  \n",
      "26      -1   33.366667   97.6  \n",
      "27      -1   50.900000  150.2  \n",
      "28      -1   31.433333   92.6  \n",
      "29      -1   44.666667  127.1  \n",
      "..     ...         ...    ...  \n",
      "85      -1   62.266667  175.2  \n",
      "86       0   15.066667   37.0  \n",
      "87      -1   66.366667  195.0  \n",
      "88      -1   63.433333  186.9  \n",
      "89       1  105.066667  283.2  \n",
      "90      -1   32.866667   96.0  \n",
      "91       0   12.800000   31.3  \n",
      "92      -1   35.200000  100.1  \n",
      "93       1   88.233333  263.7  \n",
      "94      -1   27.000000   78.9  \n",
      "95      -1   22.400000   66.3  \n",
      "96      -1   31.700000   91.8  \n",
      "97      -1   28.133333   81.5  \n",
      "98      -1   40.833333  117.7  \n",
      "99      -1   55.833333  160.1  \n",
      "100     -1   85.166667  243.1  \n",
      "101     -1   31.166667   88.3  \n",
      "102     -1   39.966667  119.5  \n",
      "103     -1   69.366667  204.2  \n",
      "104     -1   54.633333  122.2  \n",
      "105      0   18.766667   38.3  \n",
      "106      0   24.933333   68.6  \n",
      "107      1  102.533333  302.3  \n",
      "108      0   11.766667   31.6  \n",
      "109      0   19.466667   56.7  \n",
      "110      1  110.833333  327.8  \n",
      "111     -1   22.600000   66.6  \n",
      "112      1  103.966667  311.6  \n",
      "113      0   30.600000   89.3  \n",
      "114      0   46.400000  132.9  \n",
      "\n",
      "[115 rows x 22 columns]\n"
     ]
    }
   ],
   "source": [
    "flood=[]\n",
    "june=[]\n",
    "sub=[]\n",
    "#APPROAXIMATELY FINDING THE RAINFALL DATA FOR 10 DAYS FOR THE MONTH OF JUNE IN EVERY YEAR FROM 1901 TO 2015\n",
    "for k in range(0,len(x1)):\n",
    "    june.append(z1[k]/3)\n",
    "\n",
    "#FINDING THE INCREASE IN RAINFALL FROM THE MONTH OF MAY TO THE MONTH OF JUNE IN EVERY YEAR FROM 1901 TO 2015\n",
    "for k in range(0,len(x1)):\n",
    "    sub.append(abs(w1[k]-z1[k]))\n",
    "\n",
    "\n",
    "#CREATING A NEW COLOUMN WITH BINARY CLASSIFICATION DEPENDING IF THAT YEAR HAD FLOODED OR NOT, USING RAINFALL OF THAT YEAR AS THRESHOLD\n",
    "#flood,rain,heavy rain\n",
    "for i in range(0,len(x1)):\n",
    "    if x1[i]>1400 or june[i] > 100 or sub[i] > 280:\n",
    "        flood.append('1')\n",
    "    elif x1[i] < 800  or june[i] < 20  or sub[i] < 50:\n",
    "        flood.append('0')\n",
    "    else:\n",
    "        flood.append('-1')\n",
    "\n",
    "\n",
    "\n",
    "\n",
    "\n",
    "df = pd.DataFrame({'flood':flood})\n",
    "df1=pd.DataFrame({'per_10_days':june})\n",
    "\n",
    "x[\"flood\"]=flood\n",
    "x[\"avgjune\"]=june\n",
    "x[\"sub\"]=sub\n",
    "\n",
    "#SAVING THE NEW CSV FILE WITH THE NEW COLOUMNS\n",
    "x.to_csv(\"out1.csv\")\n",
    "print((x))\n",
    "        \n",
    "        \n",
    "      "
   ]
  },
  {
   "cell_type": "code",
   "execution_count": 23,
   "metadata": {},
   "outputs": [],
   "source": [
    "\n",
    "import scipy \n",
    "from scipy.stats import spearmanr\n",
    "\n",
    "from sklearn.ensemble import RandomForestClassifier\n",
    "from sklearn.preprocessing import scale\n",
    "from sklearn.linear_model import LogisticRegression\n",
    "from sklearn.model_selection import train_test_split\n",
    "from sklearn import preprocessing"
   ]
  },
  {
   "cell_type": "code",
   "execution_count": 24,
   "metadata": {},
   "outputs": [
    {
     "name": "stderr",
     "output_type": "stream",
     "text": [
      "c:\\users\\rahul\\appdata\\local\\programs\\python\\python36\\lib\\site-packages\\ipykernel_launcher.py:9: DeprecationWarning: \n",
      ".ix is deprecated. Please use\n",
      ".loc for label based indexing or\n",
      ".iloc for positional indexing\n",
      "\n",
      "See the documentation here:\n",
      "http://pandas.pydata.org/pandas-docs/stable/indexing.html#ix-indexer-is-deprecated\n",
      "  if __name__ == '__main__':\n",
      "c:\\users\\rahul\\appdata\\local\\programs\\python\\python36\\lib\\site-packages\\ipykernel_launcher.py:10: DeprecationWarning: \n",
      ".ix is deprecated. Please use\n",
      ".loc for label based indexing or\n",
      ".iloc for positional indexing\n",
      "\n",
      "See the documentation here:\n",
      "http://pandas.pydata.org/pandas-docs/stable/indexing.html#ix-indexer-is-deprecated\n",
      "  # Remove the CWD from sys.path while we load stuff.\n"
     ]
    }
   ],
   "source": [
    "#TAKING THE COLOUMNS WHICH ARE TO USED FOR TRAINING THE MODEL\n",
    "#16 MAR-MAY\n",
    "#20- AVG OF 10 DAYS JUNE \n",
    "#21- DIFFERENCE OF RAINFALL FROM MAY TO JUNE\n",
    "#19 - BINARY CLASS OF FLOOD- 0 OR 1 or -1\n",
    "#MORE DATA CAN BE ADDED FOR TRAINING, BY JUST ADDING MORE NUMBER OF COLOUMNS FROM THE CSV FILE\n",
    "\n",
    "#WE USE LOGISTIC REGRESSION FOR TRAINING\n",
    "X = x.ix[:,{16,20,21}].values\n",
    "y1=x.ix[:,19].values\n",
    "(X_train, X_test, Y_train, Y_test) = train_test_split(X, y1, random_state=0)\n"
   ]
  },
  {
   "cell_type": "code",
   "execution_count": 25,
   "metadata": {},
   "outputs": [
    {
     "name": "stdout",
     "output_type": "stream",
     "text": [
      "0.6551724137931034\n"
     ]
    },
    {
     "name": "stderr",
     "output_type": "stream",
     "text": [
      "c:\\users\\rahul\\appdata\\local\\programs\\python\\python36\\lib\\site-packages\\sklearn\\linear_model\\logistic.py:432: FutureWarning: Default solver will be changed to 'lbfgs' in 0.22. Specify a solver to silence this warning.\n",
      "  FutureWarning)\n",
      "c:\\users\\rahul\\appdata\\local\\programs\\python\\python36\\lib\\site-packages\\sklearn\\linear_model\\logistic.py:469: FutureWarning: Default multi_class will be changed to 'auto' in 0.22. Specify the multi_class option to silence this warning.\n",
      "  \"this warning.\", FutureWarning)\n"
     ]
    }
   ],
   "source": [
    "Lr=LogisticRegression()\n",
    "\n",
    "Lr.fit(X,y1)\n",
    "print(Lr.score(X_test,Y_test)) \n"
   ]
  },
  {
   "cell_type": "code",
   "execution_count": 26,
   "metadata": {},
   "outputs": [
    {
     "data": {
      "text/plain": [
       "array(['-1', '0', '1'], dtype=object)"
      ]
     },
     "execution_count": 26,
     "metadata": {},
     "output_type": "execute_result"
    }
   ],
   "source": [
    "np.unique(y1)"
   ]
  },
  {
   "cell_type": "code",
   "execution_count": 27,
   "metadata": {},
   "outputs": [],
   "source": [
    "import pickle\n",
    "Pkl_Filename = \"madhya pradesh.pkl\"  \n",
    "\n",
    "with open(Pkl_Filename, 'wb') as file:  \n",
    "    pickle.dump(Lr, file)"
   ]
  },
  {
   "cell_type": "code",
   "execution_count": null,
   "metadata": {},
   "outputs": [],
   "source": []
  },
  {
   "cell_type": "code",
   "execution_count": null,
   "metadata": {},
   "outputs": [],
   "source": []
  }
 ],
 "metadata": {
  "kernelspec": {
   "display_name": "Python 3",
   "language": "python",
   "name": "python3"
  },
  "language_info": {
   "codemirror_mode": {
    "name": "ipython",
    "version": 3
   },
   "file_extension": ".py",
   "mimetype": "text/x-python",
   "name": "python",
   "nbconvert_exporter": "python",
   "pygments_lexer": "ipython3",
   "version": "3.6.7"
  }
 },
 "nbformat": 4,
 "nbformat_minor": 2
}
